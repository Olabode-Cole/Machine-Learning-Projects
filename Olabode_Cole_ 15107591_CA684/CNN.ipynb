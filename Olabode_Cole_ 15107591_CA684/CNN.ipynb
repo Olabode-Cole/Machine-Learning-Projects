{
  "nbformat": 4,
  "nbformat_minor": 0,
  "metadata": {
    "colab": {
      "name": "CNN.ipynb",
      "version": "0.3.2",
      "provenance": [],
      "collapsed_sections": []
    },
    "kernelspec": {
      "name": "python3",
      "display_name": "Python 3"
    },
    "accelerator": "GPU"
  },
  "cells": [
    {
      "metadata": {
        "id": "eSUpG4QE-rKz",
        "colab_type": "code",
        "outputId": "968da6db-9fc5-4cef-ff58-5dde7e0d5dc9",
        "colab": {
          "base_uri": "https://localhost:8080/",
          "height": 65
        }
      },
      "cell_type": "code",
      "source": [
        "!pip install pyprind"
      ],
      "execution_count": 1,
      "outputs": [
        {
          "output_type": "stream",
          "text": [
            "Requirement already satisfied: pyprind in /usr/local/lib/python3.6/dist-packages (2.11.2)\n"
          ],
          "name": "stdout"
        }
      ]
    },
    {
      "metadata": {
        "id": "DZzPzycS-048",
        "colab_type": "code",
        "outputId": "1095722c-89a9-4f86-d0fa-0fad66d2a05f",
        "colab": {
          "base_uri": "https://localhost:8080/",
          "height": 257
        }
      },
      "cell_type": "code",
      "source": [
        "import pandas as pd\n",
        "import numpy as np\n",
        "import matplotlib.pyplot as plt\n",
        "from matplotlib import gridspec\n",
        "import os\n",
        "import pyprind \n",
        "import seaborn as sns\n",
        "from pylab import rcParams\n",
        "from collections import defaultdict\n",
        "from scipy.optimize import curve_fit\n",
        "from sklearn.model_selection import train_test_split\n",
        "from collections import Counter\n",
        "import sys\n",
        "import warnings\n",
        "if not sys.warnoptions:\n",
        "    warnings.simplefilter(\"ignore\")\n",
        "\n",
        "!pip install --force https://github.com/chengs/tqdm/archive/colab.zip\n",
        "from tqdm import tqdm_notebook as tqdm"
      ],
      "execution_count": 2,
      "outputs": [
        {
          "output_type": "stream",
          "text": [
            "Collecting https://github.com/chengs/tqdm/archive/colab.zip\n",
            "  Downloading https://github.com/chengs/tqdm/archive/colab.zip\n",
            "\r\u001b[K     - 10kB 2.1MB/s\r\u001b[K     \\ 20kB 2.7MB/s\r\u001b[K     | 30kB 4.0MB/s\r\u001b[K     / 40kB 5.2MB/s\r\u001b[K     - 51kB 1.7MB/s\r\u001b[K     \\ 61kB 1.9MB/s\r\u001b[K     | 71kB 2.2MB/s\r\u001b[K     / 81kB 2.5MB/s\r\u001b[K     - 92kB 2.8MB/s\r\u001b[K     \\ 102kB 3.1MB/s\r\u001b[K     | 112kB 3.6MB/s\r\u001b[K     / 122kB 4.0MB/s\r\u001b[K     - 133kB 4.0MB/s\r\u001b[K     \\ 143kB 4.0MB/s\r\u001b[K     | 153kB 33.7MB/s\r\u001b[K     / 163kB 162.4MB/s\r\u001b[K     - 174kB 4.5MB/s\r\u001b[K     \\ 184kB 4.5MB/s\r\u001b[K     | 194kB 4.5MB/s\r\u001b[K     / 204kB 4.5MB/s\r\u001b[K     - 215kB 4.5MB/s\r\u001b[K     \\ 225kB 4.5MB/s\r\u001b[K     | 235kB 4.5MB/s\r\u001b[K     / 245kB 4.5MB/s\r\u001b[K     - 256kB 4.5MB/s\r\u001b[K     \\ 266kB 4.5MB/s\r\u001b[K     | 276kB 165.6MB/s\r\u001b[K     / 286kB 47.3MB/s\r\u001b[K     - 296kB 46.3MB/s\r\u001b[K     \\ 307kB 45.4MB/s\r\u001b[K     | 317kB 44.4MB/s\r\u001b[K     / 327kB 44.4MB/s\r\u001b[K     - 337kB 44.2MB/s\r\u001b[K     \\ 348kB 43.9MB/s\r\u001b[K     | 358kB 44.4MB/s\r\u001b[K     / 368kB 45.0MB/s\r\u001b[K     - 378kB 45.3MB/s\r\u001b[K     \\ 389kB 149.0MB/s\r\u001b[K     | 399kB 161.2MB/s\r\u001b[K     / 409kB 183.6MB/s\r\u001b[K     - 419kB 197.9MB/s\r\u001b[K     \\ 430kB 185.0MB/s\r\u001b[K     | 440kB 194.3MB/s\r\u001b[K     / 450kB 4.6MB/s\r\u001b[K     - 460kB 4.6MB/s\r\u001b[K     \\ 471kB 4.6MB/s\r\u001b[K     | 481kB 4.6MB/s\r\u001b[K     / 491kB 4.6MB/s\n",
            "Building wheels for collected packages: tqdm\n",
            "  Building wheel for tqdm (setup.py) ... \u001b[?25ldone\n",
            "\u001b[?25h  Stored in directory: /tmp/pip-ephem-wheel-cache-lydavxt6/wheels/41/18/ee/d5dd158441b27965855b1bbae03fa2d8a91fe645c01b419896\n",
            "Successfully built tqdm\n",
            "Installing collected packages: tqdm\n",
            "  Found existing installation: tqdm 4.28.1\n",
            "    Uninstalling tqdm-4.28.1:\n",
            "      Successfully uninstalled tqdm-4.28.1\n",
            "Successfully installed tqdm-4.28.1\n"
          ],
          "name": "stdout"
        }
      ]
    },
    {
      "metadata": {
        "id": "6gy-D7EO-5sT",
        "colab_type": "code",
        "outputId": "fb71e39e-794e-46c2-a366-103858a8d0f8",
        "colab": {
          "base_uri": "https://localhost:8080/",
          "height": 35
        }
      },
      "cell_type": "code",
      "source": [
        "from google.colab import drive\n",
        "drive.mount('/content/drive/')"
      ],
      "execution_count": 3,
      "outputs": [
        {
          "output_type": "stream",
          "text": [
            "Drive already mounted at /content/drive/; to attempt to forcibly remount, call drive.mount(\"/content/drive/\", force_remount=True).\n"
          ],
          "name": "stdout"
        }
      ]
    },
    {
      "metadata": {
        "id": "MzJpZniF--GS",
        "colab_type": "code",
        "colab": {}
      },
      "cell_type": "code",
      "source": [
        "from numpy.random import seed\n",
        "seed(1)\n",
        "from tensorflow import set_random_seed\n",
        "set_random_seed(1)"
      ],
      "execution_count": 0,
      "outputs": []
    },
    {
      "metadata": {
        "id": "JSVSfjMB_IDf",
        "colab_type": "code",
        "colab": {}
      },
      "cell_type": "code",
      "source": [
        "# load labels and captions\n",
        "def read_caps(fname):\n",
        "    \"\"\"Load the captions into a dataframe\"\"\"\n",
        "    vn = []\n",
        "    cap = []\n",
        "    df = pd.DataFrame();\n",
        "    with open(fname) as f:\n",
        "        for line in f:\n",
        "            pairs = line.split()\n",
        "            vn.append(pairs[0])\n",
        "            cap.append(pairs[1])\n",
        "        df['video']=vn\n",
        "        df['caption']=cap\n",
        "    return df\n",
        "\n",
        "\n",
        "# load the captions\n",
        "caption_file = '/content/drive/My Drive/CA684_Assignment_Data/dev-set/dev-set_video-captions.txt'\n",
        "df_cap = read_caps(caption_file)\n",
        "\n",
        "# load the ground truth values\n",
        "ground_truth_file = '/content/drive/My Drive/CA684_Assignment_Data/dev-set/dev-set_ground-truth.csv'\n",
        "ground_truth = pd.read_csv(ground_truth_file)"
      ],
      "execution_count": 0,
      "outputs": []
    },
    {
      "metadata": {
        "id": "Nzd6SQp0_MUq",
        "colab_type": "code",
        "colab": {}
      },
      "cell_type": "code",
      "source": [
        "print(ground_truth)"
      ],
      "execution_count": 0,
      "outputs": []
    },
    {
      "metadata": {
        "id": "iveE1d2X_QY6",
        "colab_type": "code",
        "outputId": "0dc6e189-5929-4ed2-a457-60cfa50e1f7f",
        "colab": {
          "base_uri": "https://localhost:8080/",
          "height": 70
        }
      },
      "cell_type": "code",
      "source": [
        "from string import punctuation\n",
        "counts = Counter()\n",
        "# setup prograss tracker\n",
        "pbar = pyprind.ProgBar(len(df_cap['caption']), title='Counting word occurrences')\n",
        "for i, cap in enumerate(df_cap['caption']):\n",
        "    # replace punctuations with space\n",
        "    # convert words to lower case \n",
        "    text = ''.join([c if c not in punctuation else ' ' for c in cap]).lower()\n",
        "    df_cap.loc[i,'caption'] = text\n",
        "    pbar.update()\n",
        "    counts.update(text.split())"
      ],
      "execution_count": 7,
      "outputs": [
        {
          "output_type": "stream",
          "text": [
            "Counting word occurrences\n",
            "0% [##############################] 100% | ETA: 00:00:00\n",
            "Total time elapsed: 00:00:03\n"
          ],
          "name": "stderr"
        }
      ]
    },
    {
      "metadata": {
        "id": "HVz-sb0C_Uh2",
        "colab_type": "code",
        "outputId": "61b9cb3a-5a55-4d12-bd90-e4eb332d87b2",
        "colab": {
          "base_uri": "https://localhost:8080/",
          "height": 53
        }
      },
      "cell_type": "code",
      "source": [
        "from keras.preprocessing.text import Tokenizer\n",
        "# build the word index\n",
        "len_token = len(counts)\n",
        "tokenizer = Tokenizer(num_words=len_token)\n",
        "print(len_token)"
      ],
      "execution_count": 8,
      "outputs": [
        {
          "output_type": "stream",
          "text": [
            "5191\n"
          ],
          "name": "stdout"
        },
        {
          "output_type": "stream",
          "text": [
            "Using TensorFlow backend.\n"
          ],
          "name": "stderr"
        }
      ]
    },
    {
      "metadata": {
        "id": "K4_I4kSL_Yhx",
        "colab_type": "code",
        "colab": {}
      },
      "cell_type": "code",
      "source": [
        "tokenizer.fit_on_texts(list(df_cap.caption.values)) #fit a list of captions to the tokenizer\n",
        "#the tokenizer vectorizes a text corpus, by turning each text into either a sequence of integers"
      ],
      "execution_count": 0,
      "outputs": []
    },
    {
      "metadata": {
        "id": "16nELFAF_gdx",
        "colab_type": "code",
        "outputId": "2ccfdc40-8324-43f6-a3a6-fa047c5cde65",
        "colab": {
          "base_uri": "https://localhost:8080/",
          "height": 35
        }
      },
      "cell_type": "code",
      "source": [
        "print(len(tokenizer.word_index))"
      ],
      "execution_count": 10,
      "outputs": [
        {
          "output_type": "stream",
          "text": [
            "5191\n"
          ],
          "name": "stdout"
        }
      ]
    },
    {
      "metadata": {
        "id": "JcsvBPI1_knW",
        "colab_type": "code",
        "colab": {}
      },
      "cell_type": "code",
      "source": [
        "one_hot_res = tokenizer.texts_to_matrix(list(df_cap.caption.values),mode='binary')\n",
        "sequences = tokenizer.texts_to_sequences(list(df_cap.caption.values))"
      ],
      "execution_count": 0,
      "outputs": []
    },
    {
      "metadata": {
        "id": "ns5Ms2Hj_qNb",
        "colab_type": "code",
        "outputId": "538e63b6-1469-48b7-9e9d-7b9e995facac",
        "colab": {
          "base_uri": "https://localhost:8080/",
          "height": 88
        }
      },
      "cell_type": "code",
      "source": [
        "#Just to visualise some stuff in sequences and counts\n",
        "print(sequences[0]) # prints location of words from caption 0 'blonde woman is massaged tilt down'\n",
        "print(counts['blonde']) # no. of occurences of 'blonde'\n",
        "n=3\n",
        "print('Least Common: ', counts.most_common()[:-n-1:-1])       # n least common elements\n",
        "print('Most Common: ',counts.most_common(n)) "
      ],
      "execution_count": 12,
      "outputs": [
        {
          "output_type": "stream",
          "text": [
            "[724, 7, 35, 884, 384, 91]\n",
            "10\n",
            "Least Common:  [('unknown', 1), ('handheldshowing', 1), ('longof', 1)]\n",
            "Most Common:  [('in', 2105), ('the', 1835), ('on', 1724)]\n"
          ],
          "name": "stdout"
        }
      ]
    },
    {
      "metadata": {
        "id": "mZ0jUp69_vbc",
        "colab_type": "code",
        "colab": {}
      },
      "cell_type": "code",
      "source": [
        "# calculating max length\n",
        "max_len = 50"
      ],
      "execution_count": 0,
      "outputs": []
    },
    {
      "metadata": {
        "id": "mM8FER9S_wlx",
        "colab_type": "code",
        "outputId": "79709bea-7a74-427b-fa6e-e41da10ad96d",
        "colab": {
          "base_uri": "https://localhost:8080/",
          "height": 43
        }
      },
      "cell_type": "code",
      "source": [
        "print(sequences[0]) # length of 1st sequence"
      ],
      "execution_count": 0,
      "outputs": [
        {
          "output_type": "stream",
          "text": [
            "[724, 7, 35, 884, 384, 91]\n"
          ],
          "name": "stdout"
        }
      ]
    },
    {
      "metadata": {
        "id": "ohLU1ePW_2rL",
        "colab_type": "code",
        "outputId": "8f76676e-8f0d-40e8-d4dc-1bfe07071951",
        "colab": {
          "base_uri": "https://localhost:8080/",
          "height": 35
        }
      },
      "cell_type": "code",
      "source": [
        "X_seq = np.zeros((len(sequences),max_len))\n",
        "for i in range(len(sequences)):\n",
        "    n = len(sequences[i])\n",
        "    if n==0:\n",
        "        print(i)\n",
        "    else:\n",
        "        X_seq[i,-n:] = sequences[i]\n",
        "X_seq.shape"
      ],
      "execution_count": 14,
      "outputs": [
        {
          "output_type": "execute_result",
          "data": {
            "text/plain": [
              "(6000, 50)"
            ]
          },
          "metadata": {
            "tags": []
          },
          "execution_count": 14
        }
      ]
    },
    {
      "metadata": {
        "id": "9JMfYDcm_4IH",
        "colab_type": "code",
        "outputId": "828fe38a-b4bc-46a0-869b-799b9eeb2918",
        "colab": {
          "base_uri": "https://localhost:8080/",
          "height": 105
        }
      },
      "cell_type": "code",
      "source": [
        "X_seq[0,:]"
      ],
      "execution_count": 15,
      "outputs": [
        {
          "output_type": "execute_result",
          "data": {
            "text/plain": [
              "array([  0.,   0.,   0.,   0.,   0.,   0.,   0.,   0.,   0.,   0.,   0.,\n",
              "         0.,   0.,   0.,   0.,   0.,   0.,   0.,   0.,   0.,   0.,   0.,\n",
              "         0.,   0.,   0.,   0.,   0.,   0.,   0.,   0.,   0.,   0.,   0.,\n",
              "         0.,   0.,   0.,   0.,   0.,   0.,   0.,   0.,   0.,   0.,   0.,\n",
              "       724.,   7.,  35., 884., 384.,  91.])"
            ]
          },
          "metadata": {
            "tags": []
          },
          "execution_count": 15
        }
      ]
    },
    {
      "metadata": {
        "id": "vTCQjR-g_9Qm",
        "colab_type": "code",
        "colab": {}
      },
      "cell_type": "code",
      "source": [
        "Y = ground_truth[['short-term_memorability','long-term_memorability']].values\n",
        "#X = X_seq # sequences\n",
        "X = one_hot_res # one-hot-res"
      ],
      "execution_count": 0,
      "outputs": []
    },
    {
      "metadata": {
        "id": "sHf0S7E9ABAF",
        "colab_type": "code",
        "outputId": "ce43da34-400f-4538-b241-c412eb1d709f",
        "colab": {
          "base_uri": "https://localhost:8080/",
          "height": 43
        }
      },
      "cell_type": "code",
      "source": [
        "\n",
        "X_train, X_test, Y_train, Y_test = train_test_split(X, Y, test_size=0.2, random_state = 42)\n",
        "X_train.shape"
      ],
      "execution_count": 46,
      "outputs": [
        {
          "output_type": "execute_result",
          "data": {
            "text/plain": [
              "(4800, 5191)"
            ]
          },
          "metadata": {
            "tags": []
          },
          "execution_count": 46
        }
      ]
    },
    {
      "metadata": {
        "id": "5xJ506tDAGWP",
        "colab_type": "code",
        "colab": {}
      },
      "cell_type": "code",
      "source": [
        "#from sklearn.preprocessing import StandardScaler\n",
        "#scaler = StandardScaler()\n",
        "#X=scaler.fit_transform(X)\n",
        "#X\n"
      ],
      "execution_count": 0,
      "outputs": []
    },
    {
      "metadata": {
        "id": "Gswy0iEeJuAO",
        "colab_type": "code",
        "colab": {}
      },
      "cell_type": "code",
      "source": [
        "# from sklearn.decomposition import PCA\n",
        "# pca = PCA(n_components=0)\n",
        "# pca.fit(X)"
      ],
      "execution_count": 0,
      "outputs": []
    },
    {
      "metadata": {
        "id": "sq-oEDxJAKkg",
        "colab_type": "code",
        "outputId": "84b5470a-7d6a-4932-d0c0-94a8636bdcf5",
        "colab": {
          "base_uri": "https://localhost:8080/",
          "height": 117
        }
      },
      "cell_type": "code",
      "source": [
        "!pip list | grep -i keras"
      ],
      "execution_count": 47,
      "outputs": [
        {
          "output_type": "stream",
          "text": [
            "Keras                    2.2.4                \n",
            "Keras-Applications       1.0.7                \n",
            "Keras-Preprocessing      1.0.9                \n",
            "keras-vis                0.4.1                \n"
          ],
          "name": "stdout"
        }
      ]
    },
    {
      "metadata": {
        "id": "nQWWTMzfFlDV",
        "colab_type": "code",
        "outputId": "b314c30e-d06f-456f-8fd8-18cd5efb2dc1",
        "colab": {
          "base_uri": "https://localhost:8080/",
          "height": 187
        }
      },
      "cell_type": "code",
      "source": [
        "pip install --upgrade keras"
      ],
      "execution_count": 48,
      "outputs": [
        {
          "output_type": "stream",
          "text": [
            "Requirement already up-to-date: keras in /usr/local/lib/python3.6/dist-packages (2.2.4)\n",
            "Requirement already satisfied, skipping upgrade: h5py in /usr/local/lib/python3.6/dist-packages (from keras) (2.8.0)\n",
            "Requirement already satisfied, skipping upgrade: scipy>=0.14 in /usr/local/lib/python3.6/dist-packages (from keras) (1.2.1)\n",
            "Requirement already satisfied, skipping upgrade: pyyaml in /usr/local/lib/python3.6/dist-packages (from keras) (3.13)\n",
            "Requirement already satisfied, skipping upgrade: six>=1.9.0 in /usr/local/lib/python3.6/dist-packages (from keras) (1.12.0)\n",
            "Requirement already satisfied, skipping upgrade: keras-applications>=1.0.6 in /usr/local/lib/python3.6/dist-packages (from keras) (1.0.7)\n",
            "Requirement already satisfied, skipping upgrade: keras-preprocessing>=1.0.5 in /usr/local/lib/python3.6/dist-packages (from keras) (1.0.9)\n",
            "Requirement already satisfied, skipping upgrade: numpy>=1.9.1 in /usr/local/lib/python3.6/dist-packages (from keras) (1.16.3)\n"
          ],
          "name": "stdout"
        }
      ]
    },
    {
      "metadata": {
        "id": "HRcZmPIgAOws",
        "colab_type": "code",
        "colab": {}
      },
      "cell_type": "code",
      "source": [
        "from sklearn.model_selection import train_test_split\n",
        "from sklearn.preprocessing import StandardScaler\n",
        "from sklearn.neighbors import KNeighborsClassifier\n",
        "from sklearn.metrics import confusion_matrix\n",
        "from sklearn.metrics import f1_score\n",
        "from sklearn.metrics import accuracy_score\n",
        "from sklearn.ensemble import RandomForestClassifier\n",
        "from sklearn.decomposition import PCA\n",
        "from sklearn import linear_model\n",
        "from sklearn.svm import SVR\n",
        "from sklearn.model_selection import GridSearchCV\n",
        "import seaborn as sns\n",
        "import matplotlib.pyplot as plt"
      ],
      "execution_count": 0,
      "outputs": []
    },
    {
      "metadata": {
        "id": "Pn5QTxQ1CuI-",
        "colab_type": "code",
        "colab": {}
      },
      "cell_type": "code",
      "source": [
        "param_grid = [\n",
        "  {'C': [1, 10, 100, 1000], 'kernel': ['linear']},\n",
        "  {'C': [1, 10, 100, 1000], 'gamma': [0.001, 0.0001], 'kernel': ['rbf']},\n",
        " ]\n",
        "\n"
      ],
      "execution_count": 0,
      "outputs": []
    },
    {
      "metadata": {
        "id": "R9fiuEbgGV7m",
        "colab_type": "code",
        "colab": {}
      },
      "cell_type": "code",
      "source": [
        "input_dim = 5191"
      ],
      "execution_count": 0,
      "outputs": []
    },
    {
      "metadata": {
        "id": "gV9hoYrASg1o",
        "colab_type": "code",
        "colab": {}
      },
      "cell_type": "code",
      "source": [
        "#visible1 = Input(shape=(X.shape))\n"
      ],
      "execution_count": 0,
      "outputs": []
    },
    {
      "metadata": {
        "id": "7qswsixcN6wf",
        "colab_type": "code",
        "colab": {}
      },
      "cell_type": "code",
      "source": [
        "from keras.models import Sequential\n",
        "from keras.layers import Conv2D, MaxPooling2D, Conv1D, GlobalMaxPooling1D, Dropout\n",
        "from keras.layers.core import Flatten, Dense, Activation\n",
        "from keras import backend as K\n",
        "from keras import Input\n",
        "from keras.layers import Embedding\n",
        "from keras.optimizers import SGD, Adam, Adadelta\n",
        "from keras import regularizers\n",
        "\n",
        "np.random.seed(0)\n",
        "\n",
        "model = Sequential()\n",
        "\n",
        "model.add(Embedding(5191,100, input_length=5191))\n",
        "\n",
        "model.add(Conv1D(64, 5, activation='selu', kernel_initializer='zeros', kernel_regularizer=regularizers.l2(0.001)))\n",
        "model.add(GlobalMaxPooling1D())\n",
        "model.add(Dense(10, activation='selu',  kernel_regularizer=regularizers.l2(0.001)))\n",
        "model.add(Dropout(0.5))\n",
        "model.add(Dense(10, activation='selu',  kernel_regularizer=regularizers.l2(0.001)))\n",
        "model.add(Dropout(0.5))\n",
        "model.add(Dense(2, activation='sigmoid'))\n",
        "model.compile(loss='binary_crossentropy', optimizer = 'rmsprop', metrics=['accuracy'])\n",
        "\n",
        "# from sklearn.preprocessing import MinMaxScaler\n",
        "# scaler = MinMaxScaler(feature_range=(0, 1))\n",
        "\n",
        "# X_train_scaled = scaler.fit_transform(X_train)\n",
        "# X_train = pd.DataFrame(X_train_scaled)\n",
        "\n",
        "# X_test_scaled = scaler.fit_transform(X_test)\n",
        "# X_test = pd.DataFrame(X_test_scaled)"
      ],
      "execution_count": 0,
      "outputs": []
    },
    {
      "metadata": {
        "id": "KqiKe-GVU0r1",
        "colab_type": "code",
        "outputId": "94299692-aa23-4dbd-e656-b5be6f80d6bb",
        "colab": {
          "base_uri": "https://localhost:8080/",
          "height": 35
        }
      },
      "cell_type": "code",
      "source": [
        "X_train.shape"
      ],
      "execution_count": 53,
      "outputs": [
        {
          "output_type": "execute_result",
          "data": {
            "text/plain": [
              "(4800, 5191)"
            ]
          },
          "metadata": {
            "tags": []
          },
          "execution_count": 53
        }
      ]
    },
    {
      "metadata": {
        "id": "A2otJvr_bRIg",
        "colab_type": "code",
        "outputId": "6f1d5360-3a45-4cc3-dd5d-2d3f54eb1102",
        "colab": {
          "base_uri": "https://localhost:8080/",
          "height": 561
        }
      },
      "cell_type": "code",
      "source": [
        "history = model.fit(X_train, Y_train, epochs = 15, validation_data=(X_test, Y_test))\n",
        "\n"
      ],
      "execution_count": 54,
      "outputs": [
        {
          "output_type": "stream",
          "text": [
            "Train on 4800 samples, validate on 1200 samples\n",
            "Epoch 1/15\n",
            "4800/4800 [==============================] - 5s 1ms/step - loss: 0.5538 - acc: 0.0396 - val_loss: 0.4919 - val_acc: 0.0400\n",
            "Epoch 2/15\n",
            "4800/4800 [==============================] - 4s 904us/step - loss: 0.5065 - acc: 0.0433 - val_loss: 0.4835 - val_acc: 0.0400\n",
            "Epoch 3/15\n",
            "4800/4800 [==============================] - 4s 909us/step - loss: 0.4901 - acc: 0.0433 - val_loss: 0.4762 - val_acc: 0.0400\n",
            "Epoch 4/15\n",
            "4800/4800 [==============================] - 4s 903us/step - loss: 0.4801 - acc: 0.0433 - val_loss: 0.4728 - val_acc: 0.0400\n",
            "Epoch 5/15\n",
            "4800/4800 [==============================] - 4s 894us/step - loss: 0.4745 - acc: 0.0433 - val_loss: 0.4711 - val_acc: 0.0400\n",
            "Epoch 6/15\n",
            "4800/4800 [==============================] - 4s 886us/step - loss: 0.4726 - acc: 0.0433 - val_loss: 0.4709 - val_acc: 0.0400\n",
            "Epoch 7/15\n",
            "4800/4800 [==============================] - 4s 878us/step - loss: 0.4715 - acc: 0.0433 - val_loss: 0.4705 - val_acc: 0.0400\n",
            "Epoch 8/15\n",
            "4800/4800 [==============================] - 4s 876us/step - loss: 0.4700 - acc: 0.0433 - val_loss: 0.4705 - val_acc: 0.0400\n",
            "Epoch 9/15\n",
            "4800/4800 [==============================] - 4s 877us/step - loss: 0.4692 - acc: 0.0433 - val_loss: 0.4705 - val_acc: 0.0400\n",
            "Epoch 10/15\n",
            "4800/4800 [==============================] - 4s 868us/step - loss: 0.4690 - acc: 0.0433 - val_loss: 0.4705 - val_acc: 0.0400\n",
            "Epoch 11/15\n",
            "4800/4800 [==============================] - 4s 855us/step - loss: 0.4685 - acc: 0.0433 - val_loss: 0.4705 - val_acc: 0.0400\n",
            "Epoch 12/15\n",
            "4800/4800 [==============================] - 4s 850us/step - loss: 0.4679 - acc: 0.0433 - val_loss: 0.4708 - val_acc: 0.0400\n",
            "Epoch 13/15\n",
            "4800/4800 [==============================] - 4s 846us/step - loss: 0.4674 - acc: 0.0433 - val_loss: 0.4705 - val_acc: 0.0400\n",
            "Epoch 14/15\n",
            "4800/4800 [==============================] - 4s 847us/step - loss: 0.4670 - acc: 0.0433 - val_loss: 0.4704 - val_acc: 0.0400\n",
            "Epoch 15/15\n",
            "4800/4800 [==============================] - 4s 852us/step - loss: 0.4667 - acc: 0.0433 - val_loss: 0.4705 - val_acc: 0.0400\n"
          ],
          "name": "stdout"
        }
      ]
    },
    {
      "metadata": {
        "id": "G29I6cjvtoQe",
        "colab_type": "code",
        "colab": {}
      },
      "cell_type": "code",
      "source": [
        "train_predict = model.predict(X_train)\n",
        "test_predict = model.predict(X_test)\n",
        "\n",
        "# training_error = model.evaluate(X_train, Y_train, verbose = 1)\n",
        "# print('training error = ' + str(training_error))\n",
        "# testing_error = model.evaluate(X_test, Y_test, verbose = 1)\n",
        "# print('training error = ' + str(testing_error))"
      ],
      "execution_count": 0,
      "outputs": []
    },
    {
      "metadata": {
        "id": "SyQx6f77BHPj",
        "colab_type": "code",
        "colab": {}
      },
      "cell_type": "code",
      "source": [
        "# from sklearn.neighbors import KNeighborsRegressor\n",
        "# knn = KNeighborsRegressor(n_neighbors=1,p=2,metric=\"euclidean\")\n",
        "# knn.fit(X_train,Y_train)\n",
        "\n",
        "# Y_pred = knn.predict(X_test)"
      ],
      "execution_count": 0,
      "outputs": []
    },
    {
      "metadata": {
        "id": "VEzCPPls6A_8",
        "colab_type": "code",
        "colab": {}
      },
      "cell_type": "code",
      "source": [
        "def Get_score(Y_pred,Y_true):\n",
        "    '''Calculate the Spearmann\"s correlation coefficient'''\n",
        "    Y_pred = np.squeeze(Y_pred)\n",
        "    Y_true = np.squeeze(Y_true)\n",
        "    if Y_pred.shape != Y_true.shape:\n",
        "        print('Input shapes don\\'t match!')\n",
        "    else:\n",
        "        if len(Y_pred.shape) == 1:\n",
        "            Res = pd.DataFrame({'Y_true':Y_true,'Y_pred':Y_pred})\n",
        "            score_mat = Res[['Y_true','Y_pred']].corr(method='spearman',min_periods=1)\n",
        "            print('The Spearman\\'s correlation coefficient is: %.3f' % score_mat.iloc[1][0])\n",
        "        else:\n",
        "            for ii in range(Y_pred.shape[1]):\n",
        "                Get_score(Y_pred[:,ii],Y_true[:,ii])\n"
      ],
      "execution_count": 0,
      "outputs": []
    },
    {
      "metadata": {
        "id": "d5aknskZfKr9",
        "colab_type": "code",
        "outputId": "f4f16736-ce64-4970-d510-d611ee6408c0",
        "colab": {
          "base_uri": "https://localhost:8080/",
          "height": 53
        }
      },
      "cell_type": "code",
      "source": [
        "Get_score(test_predict, Y_test)"
      ],
      "execution_count": 57,
      "outputs": [
        {
          "output_type": "stream",
          "text": [
            "The Spearman's correlation coefficient is: 0.162\n",
            "The Spearman's correlation coefficient is: 0.089\n"
          ],
          "name": "stdout"
        }
      ]
    },
    {
      "metadata": {
        "id": "3RyKDIZRlux-",
        "colab_type": "code",
        "outputId": "a2cf52b0-750b-4cc1-90c4-85e0975854e9",
        "colab": {
          "base_uri": "https://localhost:8080/",
          "height": 295
        }
      },
      "cell_type": "code",
      "source": [
        "loss = history.history['loss']\n",
        "val_loss = history.history['val_loss']\n",
        "\n",
        "epochs = range(1,len(loss)+1)\n",
        "\n",
        "plt.plot(epochs,loss,'bo',label='Training loss')\n",
        "plt.plot(epochs,val_loss,'b',label='Validation loss')\n",
        "plt.title('Training and validation loss')\n",
        "plt.xlabel('Epochs')\n",
        "plt.ylabel('Loss')\n",
        "plt.legend()\n",
        "plt.show()"
      ],
      "execution_count": 39,
      "outputs": [
        {
          "output_type": "display_data",
          "data": {
            "image/png": "[encoded data removed]",
            "text/plain": [
              "<Figure size 432x288 with 1 Axes>"
            ]
          },
          "metadata": {
            "tags": []
          }
        }
      ]
    },
    {
      "metadata": {
        "id": "8aGnPczOXBIy",
        "colab_type": "code",
        "outputId": "92eddc46-dfe2-419a-b4cf-9f1fa2161112",
        "colab": {
          "base_uri": "https://localhost:8080/",
          "height": 298
        }
      },
      "cell_type": "code",
      "source": [
        "plt.figure()\n",
        "acc = history.history['acc']\n",
        "val_acc = history.history['val_acc']\n",
        "plt.plot(epochs, acc, 'bo', label='Training acc')\n",
        "plt.plot(epochs, val_acc, 'b', label='Validation acc')\n",
        "plt.title('Training and validation accuracy')\n",
        "plt.xlabel('Epochs')\n",
        "plt.ylabel('Acc')\n",
        "plt.legend()\n",
        "plt.show()"
      ],
      "execution_count": 40,
      "outputs": [
        {
          "output_type": "display_data",
          "data": {
            "image/png": "[encoded data removed]",
            "text/plain": [
              "<Figure size 432x288 with 1 Axes>"
            ]
          },
          "metadata": {
            "tags": []
          }
        }
      ]
    },
    {
      "metadata": {
        "id": "42UiRHu-nLrY",
        "colab_type": "code",
        "colab": {
          "base_uri": "https://localhost:8080/",
          "height": 43
        },
        "outputId": "77dc0771-9b4a-495d-f86c-10ddc330deef"
      },
      "cell_type": "code",
      "source": [
        "predictions = model.predict(X_test)\n",
        "print(predictions.shape)"
      ],
      "execution_count": 58,
      "outputs": [
        {
          "output_type": "stream",
          "text": [
            "(1200, 2)\n"
          ],
          "name": "stdout"
        }
      ]
    },
    {
      "metadata": {
        "id": "vhkYwo-05jip",
        "colab_type": "code",
        "colab": {}
      },
      "cell_type": "code",
      "source": [
        "final_results = pd.DataFrame({'video':ground_truth['video'][4800:],\n",
        "                              'Short-term-pred':predictions[:,0],'Long-term-pred':predictions[:,1], \n",
        "                              'Short-term-true':ground_truth['short-term_memorability'][4800:], \n",
        "                              'Long-term-true':ground_truth['long-term_memorability'][4800:]})\n",
        "\n",
        "final_results = final_results.reset_index(drop=True)"
      ],
      "execution_count": 0,
      "outputs": []
    },
    {
      "metadata": {
        "id": "7i7oKPhf62UG",
        "colab_type": "code",
        "colab": {}
      },
      "cell_type": "code",
      "source": [
        "final_results.to_csv('/content/drive/My Drive/CNN_results.csv')"
      ],
      "execution_count": 0,
      "outputs": []
    }
  ]
}