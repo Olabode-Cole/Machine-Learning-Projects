{
  "nbformat": 4,
  "nbformat_minor": 0,
  "metadata": {
    "colab": {
      "name": "RNN2.2.ipynb",
      "version": "0.3.2",
      "provenance": []
    },
    "kernelspec": {
      "name": "python3",
      "display_name": "Python 3"
    },
    "accelerator": "GPU"
  },
  "cells": [
    {
      "metadata": {
        "id": "fSVdAkbakWS_",
        "colab_type": "code",
        "outputId": "5b4ee036-f2ab-4ef7-d623-7b8925dbe751",
        "colab": {
          "base_uri": "https://localhost:8080/",
          "height": 65
        }
      },
      "cell_type": "code",
      "source": [
        "!pip install pyprind"
      ],
      "execution_count": 1,
      "outputs": [
        {
          "output_type": "stream",
          "text": [
            "Requirement already satisfied: pyprind in /usr/local/lib/python3.6/dist-packages (2.11.2)\n"
          ],
          "name": "stdout"
        }
      ]
    },
    {
      "metadata": {
        "id": "hYwrp6COkg7u",
        "colab_type": "code",
        "outputId": "8a86129e-fc08-4b02-ae73-c5c33186c79c",
        "colab": {
          "base_uri": "https://localhost:8080/",
          "height": 257
        }
      },
      "cell_type": "code",
      "source": [
        "import pandas as pd\n",
        "import numpy as np\n",
        "import matplotlib.pyplot as plt\n",
        "from matplotlib import gridspec\n",
        "import os\n",
        "import pyprind \n",
        "import seaborn as sns\n",
        "from pylab import rcParams\n",
        "from collections import defaultdict\n",
        "from scipy.optimize import curve_fit\n",
        "from collections import Counter\n",
        "import sys\n",
        "import warnings\n",
        "if not sys.warnoptions:\n",
        "    warnings.simplefilter(\"ignore\")\n",
        "\n",
        "!pip install --force https://github.com/chengs/tqdm/archive/colab.zip\n",
        "from tqdm import tqdm_notebook as tqdm"
      ],
      "execution_count": 2,
      "outputs": [
        {
          "output_type": "stream",
          "text": [
            "Collecting https://github.com/chengs/tqdm/archive/colab.zip\n",
            "  Downloading https://github.com/chengs/tqdm/archive/colab.zip\n",
            "\u001b[K     | 481kB 4.2MB/s\n",
            "Building wheels for collected packages: tqdm\n",
            "  Building wheel for tqdm (setup.py) ... \u001b[?25ldone\n",
            "\u001b[?25h  Stored in directory: /tmp/pip-ephem-wheel-cache-7o0w6fh3/wheels/41/18/ee/d5dd158441b27965855b1bbae03fa2d8a91fe645c01b419896\n",
            "Successfully built tqdm\n",
            "Installing collected packages: tqdm\n",
            "  Found existing installation: tqdm 4.28.1\n",
            "    Uninstalling tqdm-4.28.1:\n",
            "      Successfully uninstalled tqdm-4.28.1\n",
            "Successfully installed tqdm-4.28.1\n"
          ],
          "name": "stdout"
        }
      ]
    },
    {
      "metadata": {
        "id": "Dca2rH8vknVj",
        "colab_type": "code",
        "outputId": "1ec048b9-eb8c-4953-b193-ffaa5ae82510",
        "colab": {
          "base_uri": "https://localhost:8080/",
          "height": 35
        }
      },
      "cell_type": "code",
      "source": [
        "from google.colab import drive\n",
        "drive.mount('/content/drive/')"
      ],
      "execution_count": 3,
      "outputs": [
        {
          "output_type": "stream",
          "text": [
            "Drive already mounted at /content/drive/; to attempt to forcibly remount, call drive.mount(\"/content/drive/\", force_remount=True).\n"
          ],
          "name": "stdout"
        }
      ]
    },
    {
      "metadata": {
        "id": "4X3vBqYwky74",
        "colab_type": "code",
        "colab": {}
      },
      "cell_type": "code",
      "source": [
        "from numpy.random import seed\n",
        "seed(1)\n",
        "from tensorflow import set_random_seed\n",
        "set_random_seed(1)"
      ],
      "execution_count": 0,
      "outputs": []
    },
    {
      "metadata": {
        "id": "26MRuI71krwS",
        "colab_type": "code",
        "colab": {}
      },
      "cell_type": "code",
      "source": [
        "def read_caps(fname):\n",
        "    \"\"\"Load the captions into a dataframe\"\"\"\n",
        "    vn = []\n",
        "    cap = []\n",
        "    df = pd.DataFrame();\n",
        "    with open(fname) as f:\n",
        "        for line in f:\n",
        "            pairs = line.split()\n",
        "            vn.append(pairs[0])\n",
        "            cap.append(pairs[1])\n",
        "        df['video']=vn\n",
        "        df['caption']=cap\n",
        "    return df"
      ],
      "execution_count": 0,
      "outputs": []
    },
    {
      "metadata": {
        "id": "oCtimQcRlGMv",
        "colab_type": "code",
        "colab": {}
      },
      "cell_type": "code",
      "source": [
        "# load the captions\n",
        "caption_file = '/content/drive/My Drive/CA684_Assignment_Data/dev-set/dev-set_video-captions.txt'\n",
        "df_cap = read_caps(caption_file)\n"
      ],
      "execution_count": 0,
      "outputs": []
    },
    {
      "metadata": {
        "id": "UeJIDxHTlQzI",
        "colab_type": "code",
        "colab": {}
      },
      "cell_type": "code",
      "source": [
        "# load the ground truth values\n",
        "ground_truth_file = '/content/drive/My Drive/CA684_Assignment_Data/dev-set/dev-set_ground-truth.csv'\n",
        "ground_truth = pd.read_csv(ground_truth_file)\n",
        "\n",
        "print(ground_truth)\n"
      ],
      "execution_count": 0,
      "outputs": []
    },
    {
      "metadata": {
        "id": "-tGpKzEulvKB",
        "colab_type": "code",
        "outputId": "36ab4e4e-a6f8-4d3f-ae29-df2a14f02e5c",
        "colab": {
          "base_uri": "https://localhost:8080/",
          "height": 70
        }
      },
      "cell_type": "code",
      "source": [
        "from string import punctuation\n",
        "counts = Counter()\n",
        "# setup prograss tracker\n",
        "pbar = pyprind.ProgBar(len(df_cap['caption']), title='Counting word occurrences')\n",
        "for i, cap in enumerate(df_cap['caption']):\n",
        "    # replace punctuations with space\n",
        "    # convert words to lower case \n",
        "    text = ''.join([c if c not in punctuation else ' ' for c in cap]).lower()\n",
        "    df_cap.loc[i,'caption'] = text\n",
        "    pbar.update()\n",
        "    counts.update(text.split())"
      ],
      "execution_count": 8,
      "outputs": [
        {
          "output_type": "stream",
          "text": [
            "Counting word occurrences\n",
            "0% [##############################] 100% | ETA: 00:00:00\n",
            "Total time elapsed: 00:00:03\n"
          ],
          "name": "stderr"
        }
      ]
    },
    {
      "metadata": {
        "id": "0AbMABbFlwu2",
        "colab_type": "code",
        "outputId": "62f0df50-8d8b-4cae-b5d0-b46aaeb93d3d",
        "colab": {
          "base_uri": "https://localhost:8080/",
          "height": 53
        }
      },
      "cell_type": "code",
      "source": [
        "from keras.preprocessing.text import Tokenizer\n",
        "# build the word index\n",
        "len_token = len(counts)\n",
        "tokenizer = Tokenizer(num_words=len_token)\n",
        "print(len_token)\n"
      ],
      "execution_count": 9,
      "outputs": [
        {
          "output_type": "stream",
          "text": [
            "5191\n"
          ],
          "name": "stdout"
        },
        {
          "output_type": "stream",
          "text": [
            "Using TensorFlow backend.\n"
          ],
          "name": "stderr"
        }
      ]
    },
    {
      "metadata": {
        "id": "i7_xtdMcl1Ac",
        "colab_type": "code",
        "outputId": "ac1d14ec-5844-486f-8645-1a408f75c5a4",
        "colab": {
          "base_uri": "https://localhost:8080/",
          "height": 35
        }
      },
      "cell_type": "code",
      "source": [
        "tokenizer.fit_on_texts(list(df_cap.caption.values)) #fit a list of captions to the tokenizer\n",
        "#the tokenizer vectorizes a text corpus, by turning each text into either a sequence of integers\n",
        "\n",
        "print(len(tokenizer.word_index))\n"
      ],
      "execution_count": 10,
      "outputs": [
        {
          "output_type": "stream",
          "text": [
            "5191\n"
          ],
          "name": "stdout"
        }
      ]
    },
    {
      "metadata": {
        "id": "ude4tv3El9q7",
        "colab_type": "code",
        "colab": {}
      },
      "cell_type": "code",
      "source": [
        "one_hot_res = tokenizer.texts_to_matrix(list(df_cap.caption.values),mode='binary')\n",
        "sequences = tokenizer.texts_to_sequences(list(df_cap.caption.values))"
      ],
      "execution_count": 0,
      "outputs": []
    },
    {
      "metadata": {
        "id": "_pSzbWuBmCpg",
        "colab_type": "code",
        "outputId": "2c11cb42-83d3-42fb-ee07-62b45f6f79ab",
        "colab": {
          "base_uri": "https://localhost:8080/",
          "height": 88
        }
      },
      "cell_type": "code",
      "source": [
        "#Just to visualise some stuff in sequences and counts\n",
        "print(sequences[0]) # prints location of words from caption 0 'blonde woman is massaged tilt down'\n",
        "print(counts['blonde']) # no. of occurences of 'blonde'\n",
        "n=3\n",
        "print('Least Common: ', counts.most_common()[:-n-1:-1])       # n least common elements\n",
        "print('Most Common: ',counts.most_common(n))"
      ],
      "execution_count": 12,
      "outputs": [
        {
          "output_type": "stream",
          "text": [
            "[724, 7, 35, 884, 384, 91]\n",
            "10\n",
            "Least Common:  [('unknown', 1), ('handheldshowing', 1), ('longof', 1)]\n",
            "Most Common:  [('in', 2105), ('the', 1835), ('on', 1724)]\n"
          ],
          "name": "stdout"
        }
      ]
    },
    {
      "metadata": {
        "id": "UPrM0NO8mJAE",
        "colab_type": "code",
        "colab": {}
      },
      "cell_type": "code",
      "source": [
        "# calculating max length\n",
        "max_len = 50"
      ],
      "execution_count": 0,
      "outputs": []
    },
    {
      "metadata": {
        "id": "Gvlm1S-GmNCY",
        "colab_type": "code",
        "outputId": "2945884b-9df7-4ae3-a04d-2749bf8ac744",
        "colab": {
          "base_uri": "https://localhost:8080/",
          "height": 35
        }
      },
      "cell_type": "code",
      "source": [
        "print(sequences[0]) # length of 1st sequence"
      ],
      "execution_count": 14,
      "outputs": [
        {
          "output_type": "stream",
          "text": [
            "[724, 7, 35, 884, 384, 91]\n"
          ],
          "name": "stdout"
        }
      ]
    },
    {
      "metadata": {
        "id": "ttGSIx9MmRsj",
        "colab_type": "code",
        "colab": {}
      },
      "cell_type": "code",
      "source": [
        "X_seq = np.zeros((len(sequences),max_len))\n",
        "for i in range(len(sequences)):\n",
        "    n = len(sequences[i])\n",
        "    if n==0:\n",
        "        print(i)\n",
        "    else:\n",
        "        X_seq[i,-n:] = sequences[i]\n",
        "X_seq.shape\n",
        "\n",
        "X_seq[0,:]\n",
        "\n",
        "Y = ground_truth[['short-term_memorability','long-term_memorability']].values\n",
        "X = X_seq # sequences"
      ],
      "execution_count": 0,
      "outputs": []
    },
    {
      "metadata": {
        "id": "rXz991bYmViz",
        "colab_type": "code",
        "outputId": "a6c49fdc-91ab-4c6d-f45e-22cdc9525a91",
        "colab": {
          "base_uri": "https://localhost:8080/",
          "height": 35
        }
      },
      "cell_type": "code",
      "source": [
        "from sklearn.model_selection import train_test_split\n",
        "X_train, X_test, Y_train, Y_test = train_test_split(X,Y, test_size=0.2, random_state=42)\n",
        "\n",
        "X_train.shape"
      ],
      "execution_count": 16,
      "outputs": [
        {
          "output_type": "execute_result",
          "data": {
            "text/plain": [
              "(4800, 50)"
            ]
          },
          "metadata": {
            "tags": []
          },
          "execution_count": 16
        }
      ]
    },
    {
      "metadata": {
        "id": "ZbFRV3GamZWF",
        "colab_type": "code",
        "outputId": "17e79071-b2d4-4ecd-ce51-06084c4c41ce",
        "colab": {
          "base_uri": "https://localhost:8080/",
          "height": 117
        }
      },
      "cell_type": "code",
      "source": [
        "!pip list | grep -i keras\n"
      ],
      "execution_count": 17,
      "outputs": [
        {
          "output_type": "stream",
          "text": [
            "Keras                    2.2.4                \n",
            "Keras-Applications       1.0.7                \n",
            "Keras-Preprocessing      1.0.9                \n",
            "keras-vis                0.4.1                \n"
          ],
          "name": "stdout"
        }
      ]
    },
    {
      "metadata": {
        "id": "FjG7sYGBLtkI",
        "colab_type": "code",
        "outputId": "e0d3f479-327a-44d2-8425-7e40e231ba8b",
        "colab": {
          "base_uri": "https://localhost:8080/",
          "height": 187
        }
      },
      "cell_type": "code",
      "source": [
        "pip install --upgrade keras"
      ],
      "execution_count": 18,
      "outputs": [
        {
          "output_type": "stream",
          "text": [
            "Requirement already up-to-date: keras in /usr/local/lib/python3.6/dist-packages (2.2.4)\n",
            "Requirement already satisfied, skipping upgrade: scipy>=0.14 in /usr/local/lib/python3.6/dist-packages (from keras) (1.2.1)\n",
            "Requirement already satisfied, skipping upgrade: pyyaml in /usr/local/lib/python3.6/dist-packages (from keras) (3.13)\n",
            "Requirement already satisfied, skipping upgrade: numpy>=1.9.1 in /usr/local/lib/python3.6/dist-packages (from keras) (1.16.3)\n",
            "Requirement already satisfied, skipping upgrade: six>=1.9.0 in /usr/local/lib/python3.6/dist-packages (from keras) (1.12.0)\n",
            "Requirement already satisfied, skipping upgrade: keras-applications>=1.0.6 in /usr/local/lib/python3.6/dist-packages (from keras) (1.0.7)\n",
            "Requirement already satisfied, skipping upgrade: keras-preprocessing>=1.0.5 in /usr/local/lib/python3.6/dist-packages (from keras) (1.0.9)\n",
            "Requirement already satisfied, skipping upgrade: h5py in /usr/local/lib/python3.6/dist-packages (from keras) (2.8.0)\n"
          ],
          "name": "stdout"
        }
      ]
    },
    {
      "metadata": {
        "id": "dOu5ESTwmdTT",
        "colab_type": "code",
        "outputId": "93b2eb99-2425-4ff3-8c4c-b27ade33124b",
        "colab": {
          "base_uri": "https://localhost:8080/",
          "height": 178
        }
      },
      "cell_type": "code",
      "source": [
        "from keras.models import Sequential\n",
        "from keras.layers import Dense\n",
        "from keras.layers import GRU\n",
        "from keras.layers import Embedding\n",
        "from keras.layers import Masking\n",
        "from keras.layers import LSTM\n",
        "from keras.layers import Conv2D\n",
        "from keras.layers import Dropout\n",
        "\n",
        "np.random.seed(0)\n",
        "\n",
        "model = Sequential()\n",
        "# Embedding layer\n",
        "model.add(Embedding(input_dim=5191, output_dim = 20, input_length=50, init='uniform'))\n",
        "\n",
        "model.add(LSTM(200, activation='relu', recurrent_initializer='orthogonal'))\n",
        "# Fully connected layer\n",
        "model.add(Dense(10, activation='relu'))\n",
        "# Dropout for regularization\n",
        "model.add(Dropout(0.5))\n",
        "# Output layer\n",
        "model.add(Dense(2, activation='sigmoid'))\n",
        "# Compile the model\n",
        "model.compile(optimizer='adam', loss='mse', metrics=['accuracy'])\n"
      ],
      "execution_count": 19,
      "outputs": [
        {
          "output_type": "stream",
          "text": [
            "WARNING:tensorflow:From /usr/local/lib/python3.6/dist-packages/tensorflow/python/framework/op_def_library.py:263: colocate_with (from tensorflow.python.framework.ops) is deprecated and will be removed in a future version.\n",
            "Instructions for updating:\n",
            "Colocations handled automatically by placer.\n"
          ],
          "name": "stdout"
        },
        {
          "output_type": "stream",
          "text": [
            "/usr/local/lib/python3.6/dist-packages/ipykernel_launcher.py:14: UserWarning: Update your `Embedding` call to the Keras 2 API: `Embedding(input_dim=5191, output_dim=20, input_length=50, embeddings_initializer=\"uniform\")`\n",
            "  \n"
          ],
          "name": "stderr"
        },
        {
          "output_type": "stream",
          "text": [
            "WARNING:tensorflow:From /usr/local/lib/python3.6/dist-packages/keras/backend/tensorflow_backend.py:3445: calling dropout (from tensorflow.python.ops.nn_ops) with keep_prob is deprecated and will be removed in a future version.\n",
            "Instructions for updating:\n",
            "Please use `rate` instead of `keep_prob`. Rate should be set to `rate = 1 - keep_prob`.\n"
          ],
          "name": "stdout"
        }
      ]
    },
    {
      "metadata": {
        "id": "ETLXaoWemjVx",
        "colab_type": "code",
        "outputId": "0a03d340-3be8-4bc4-e37d-9f03b35ad46c",
        "colab": {
          "base_uri": "https://localhost:8080/",
          "height": 1004
        }
      },
      "cell_type": "code",
      "source": [
        "model.fit(X_train,Y_train,epochs=5,validation_data=(X_test,Y_test))\n",
        "\n"
      ],
      "execution_count": 20,
      "outputs": [
        {
          "output_type": "stream",
          "text": [
            "WARNING:tensorflow:From /usr/local/lib/python3.6/dist-packages/tensorflow/python/ops/math_ops.py:3066: to_int32 (from tensorflow.python.ops.math_ops) is deprecated and will be removed in a future version.\n",
            "Instructions for updating:\n",
            "Use tf.cast instead.\n",
            "Train on 4800 samples, validate on 1200 samples\n",
            "Epoch 1/5\n",
            "4800/4800 [==============================] - 14s 3ms/step - loss: 0.0399 - acc: 0.5283 - val_loss: 0.0142 - val_acc: 0.7100\n",
            "Epoch 2/5\n",
            "4800/4800 [==============================] - 12s 3ms/step - loss: 0.0255 - acc: 0.5906 - val_loss: 0.0132 - val_acc: 0.7100\n",
            "Epoch 3/5\n",
            "4800/4800 [==============================] - 13s 3ms/step - loss: 0.0211 - acc: 0.6640 - val_loss: 0.0135 - val_acc: 0.7100\n",
            "Epoch 4/5\n",
            "4800/4800 [==============================] - 13s 3ms/step - loss: 0.0185 - acc: 0.6694 - val_loss: 0.0137 - val_acc: 0.7100\n",
            "Epoch 5/5\n",
            "4800/4800 [==============================] - 12s 3ms/step - loss: 0.0161 - acc: 0.6683 - val_loss: 0.0139 - val_acc: 0.7100\n"
          ],
          "name": "stdout"
        },
        {
          "output_type": "execute_result",
          "data": {
            "text/plain": [
              "<keras.callbacks.History at 0x7fd5500844e0>"
            ]
          },
          "metadata": {
            "tags": []
          },
          "execution_count": 20
        }
      ]
    },
    {
      "metadata": {
        "id": "cAeG1fipChhS",
        "colab_type": "code",
        "colab": {}
      },
      "cell_type": "code",
      "source": [
        ""
      ],
      "execution_count": 0,
      "outputs": []
    },
    {
      "metadata": {
        "id": "WbRE3ytGmogQ",
        "colab_type": "code",
        "colab": {}
      },
      "cell_type": "code",
      "source": [
        "train_predict = model.predict(X_train)\n",
        "test_predict = model.predict(X_test)\n",
        "\n",
        "# training_error = model.evaluate(X_train, Y_train, verbose = 1)\n",
        "# print('training error = ' + str(training_error))\n",
        "# testing_error = model.evaluate(X_test, Y_test, verbose = 1)\n",
        "# print('training error = ' + str(testing_error))\n"
      ],
      "execution_count": 0,
      "outputs": []
    },
    {
      "metadata": {
        "id": "xHjLHwm-msrZ",
        "colab_type": "code",
        "outputId": "73cb6dc9-bf69-4474-e99c-d7dd301d72a6",
        "colab": {
          "base_uri": "https://localhost:8080/",
          "height": 58
        }
      },
      "cell_type": "code",
      "source": [
        "def Get_score(Y_pred,Y_true):\n",
        "    '''Calculate the Spearmann\"s correlation coefficient'''\n",
        "    Y_pred = np.squeeze(Y_pred)\n",
        "    Y_true = np.squeeze(Y_true)\n",
        "    if Y_pred.shape != Y_true.shape:\n",
        "        print('Input shapes don\\'t match!')\n",
        "    else:\n",
        "        if len(Y_pred.shape) == 1:\n",
        "            Res = pd.DataFrame({'Y_true':Y_true,'Y_pred':Y_pred})\n",
        "            score_mat = Res[['Y_true','Y_pred']].corr(method='spearman',min_periods=1)\n",
        "            print('The Spearman\\'s correlation coefficient is: %.3f' % score_mat.iloc[1][0])\n",
        "        else:\n",
        "            for ii in range(Y_pred.shape[1]):\n",
        "                Get_score(Y_pred[:,ii],Y_true[:,ii])\n",
        "\n",
        "Get_score(test_predict, Y_test)"
      ],
      "execution_count": 22,
      "outputs": [
        {
          "output_type": "stream",
          "text": [
            "The Spearman's correlation coefficient is: 0.413\n",
            "The Spearman's correlation coefficient is: 0.199\n"
          ],
          "name": "stdout"
        }
      ]
    },
    {
      "metadata": {
        "id": "Mez1Tvxa8vs3",
        "colab_type": "code",
        "colab": {
          "base_uri": "https://localhost:8080/",
          "height": 35
        },
        "outputId": "42b575ed-cace-446f-c01c-55d528a066e4"
      },
      "cell_type": "code",
      "source": [
        "predictions = model.predict(X_test)\n",
        "print(predictions.shape)"
      ],
      "execution_count": 23,
      "outputs": [
        {
          "output_type": "stream",
          "text": [
            "(1200, 2)\n"
          ],
          "name": "stdout"
        }
      ]
    },
    {
      "metadata": {
        "id": "xt54N3UP80UO",
        "colab_type": "code",
        "colab": {}
      },
      "cell_type": "code",
      "source": [
        "final_results = pd.DataFrame({'video':ground_truth['video'][4800:],\n",
        "                              'Short-term-pred':predictions[:,0],'Long-term-pred':predictions[:,1], \n",
        "                              'Short-term-true':ground_truth['short-term_memorability'][4800:], \n",
        "                              'Long-term-true':ground_truth['long-term_memorability'][4800:]})\n",
        "\n",
        "final_results = final_results.reset_index(drop=True)"
      ],
      "execution_count": 0,
      "outputs": []
    },
    {
      "metadata": {
        "id": "rWnK4xF_85A8",
        "colab_type": "code",
        "colab": {}
      },
      "cell_type": "code",
      "source": [
        "final_results.to_csv('/content/drive/My Drive/RNN_results.csv')"
      ],
      "execution_count": 0,
      "outputs": []
    }
  ]
}