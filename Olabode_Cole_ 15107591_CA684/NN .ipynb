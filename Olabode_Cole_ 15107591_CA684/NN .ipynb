{
  "nbformat": 4,
  "nbformat_minor": 0,
  "metadata": {
    "colab": {
      "name": "NN.ipynb",
      "version": "0.3.2",
      "provenance": [],
      "collapsed_sections": []
    },
    "kernelspec": {
      "name": "python3",
      "display_name": "Python 3"
    }
  },
  "cells": [
    {
      "metadata": {
        "id": "YISJSbJU3GRj",
        "colab_type": "code",
        "colab": {
          "base_uri": "https://localhost:8080/",
          "height": 257
        },
        "outputId": "ab68dd01-4494-4275-90ed-d2a2c797c190"
      },
      "cell_type": "code",
      "source": [
        "import pandas as pd\n",
        "import numpy as np\n",
        "\n",
        "!pip install --force https://github.com/chengs/tqdm/archive/colab.zip\n",
        "from tqdm import tqdm_notebook as tqdm"
      ],
      "execution_count": 1,
      "outputs": [
        {
          "output_type": "stream",
          "text": [
            "Collecting https://github.com/chengs/tqdm/archive/colab.zip\n",
            "  Downloading https://github.com/chengs/tqdm/archive/colab.zip\n",
            "\u001b[K     - 624kB 24.7MB/s\n",
            "Building wheels for collected packages: tqdm\n",
            "  Building wheel for tqdm (setup.py) ... \u001b[?25ldone\n",
            "\u001b[?25h  Stored in directory: /tmp/pip-ephem-wheel-cache-sag615gp/wheels/41/18/ee/d5dd158441b27965855b1bbae03fa2d8a91fe645c01b419896\n",
            "Successfully built tqdm\n",
            "Installing collected packages: tqdm\n",
            "  Found existing installation: tqdm 4.28.1\n",
            "    Uninstalling tqdm-4.28.1:\n",
            "      Successfully uninstalled tqdm-4.28.1\n",
            "Successfully installed tqdm-4.28.1\n"
          ],
          "name": "stdout"
        }
      ]
    },
    {
      "metadata": {
        "id": "eVz6V6TMOJ8z",
        "colab_type": "code",
        "colab": {}
      },
      "cell_type": "code",
      "source": [
        "def Get_score(Y_pred,Y_true):\n",
        "    '''Calculate the Spearmann\"s correlation coefficient'''\n",
        "    Y_pred = np.squeeze(Y_pred)\n",
        "    Y_true = np.squeeze(Y_true)\n",
        "    if Y_pred.shape != Y_true.shape:\n",
        "        print('Input shapes don\\'t match!')\n",
        "    else:\n",
        "        if len(Y_pred.shape) == 1:\n",
        "            Res = pd.DataFrame({'Y_true':Y_true,'Y_pred':Y_pred})\n",
        "            score_mat = Res[['Y_true','Y_pred']].corr(method='spearman',min_periods=1)\n",
        "            print('The Spearman\\'s correlation coefficient is: %.3f' % score_mat.iloc[1][0])\n",
        "        else:\n",
        "            for ii in range(Y_pred.shape[1]):\n",
        "                Get_score(Y_pred[:,ii],Y_true[:,ii])"
      ],
      "execution_count": 0,
      "outputs": []
    },
    {
      "metadata": {
        "id": "gIkKTuuaCJOq",
        "colab_type": "code",
        "outputId": "62d3bf6d-124b-47ed-8493-027cfd231872",
        "colab": {
          "base_uri": "https://localhost:8080/",
          "height": 129
        }
      },
      "cell_type": "code",
      "source": [
        "import time\n",
        "from google.colab import drive\n",
        "drive.mount('/content/drive/')\n"
      ],
      "execution_count": 3,
      "outputs": [
        {
          "output_type": "stream",
          "text": [
            "Go to this URL in a browser: https://accounts.google.com/o/oauth2/auth?client_id=947318989803-6bn6qk8qdgf4n4g3pfee6491hc0brc4i.apps.googleusercontent.com&redirect_uri=urn%3Aietf%3Awg%3Aoauth%3A2.0%3Aoob&scope=email%20https%3A%2F%2Fwww.googleapis.com%2Fauth%2Fdocs.test%20https%3A%2F%2Fwww.googleapis.com%2Fauth%2Fdrive%20https%3A%2F%2Fwww.googleapis.com%2Fauth%2Fdrive.photos.readonly%20https%3A%2F%2Fwww.googleapis.com%2Fauth%2Fpeopleapi.readonly&response_type=code\n",
            "\n",
            "Enter your authorization code:\n",
            "··········\n",
            "Mounted at /content/drive/\n"
          ],
          "name": "stdout"
        }
      ]
    },
    {
      "metadata": {
        "id": "2lxn8RwfRphl",
        "colab_type": "code",
        "outputId": "8f08a181-0cb6-4e3f-d459-5feaaf040e22",
        "colab": {
          "base_uri": "https://localhost:8080/",
          "height": 82
        }
      },
      "cell_type": "code",
      "source": [
        "!ls \"/content/drive/My Drive/CA684_Assignment_Data/dev-set\""
      ],
      "execution_count": 5,
      "outputs": [
        {
          "output_type": "stream",
          "text": [
            "C3D\t\tdev-set_ground-truth.csv    HMP  InceptionV3  ORB\n",
            "ColorHistogram\tdev-set_video-captions.txt  HOG  LBP\t      README.txt\n"
          ],
          "name": "stdout"
        }
      ]
    },
    {
      "metadata": {
        "id": "hNO0N86sR2G2",
        "colab_type": "code",
        "outputId": "733abd7d-39f6-46d4-ef3b-4bc69da2e885",
        "colab": {
          "base_uri": "https://localhost:8080/",
          "height": 207
        }
      },
      "cell_type": "code",
      "source": [
        "ground_truth_file = '/content/drive/My Drive/CA684_Assignment_Data/dev-set/dev-set_ground-truth.csv'\n",
        "ground_truth = pd.read_csv(ground_truth_file)\n",
        "ground_truth.head()"
      ],
      "execution_count": 6,
      "outputs": [
        {
          "output_type": "execute_result",
          "data": {
            "text/html": [
              "<div>\n",
              "<style scoped>\n",
              "    .dataframe tbody tr th:only-of-type {\n",
              "        vertical-align: middle;\n",
              "    }\n",
              "\n",
              "    .dataframe tbody tr th {\n",
              "        vertical-align: top;\n",
              "    }\n",
              "\n",
              "    .dataframe thead th {\n",
              "        text-align: right;\n",
              "    }\n",
              "</style>\n",
              "<table border=\"1\" class=\"dataframe\">\n",
              "  <thead>\n",
              "    <tr style=\"text-align: right;\">\n",
              "      <th></th>\n",
              "      <th>video</th>\n",
              "      <th>short-term_memorability</th>\n",
              "      <th>nb_short-term_annotations</th>\n",
              "      <th>long-term_memorability</th>\n",
              "      <th>nb_long-term_annotations</th>\n",
              "    </tr>\n",
              "  </thead>\n",
              "  <tbody>\n",
              "    <tr>\n",
              "      <th>0</th>\n",
              "      <td>video3.webm</td>\n",
              "      <td>0.924</td>\n",
              "      <td>34</td>\n",
              "      <td>0.846</td>\n",
              "      <td>13</td>\n",
              "    </tr>\n",
              "    <tr>\n",
              "      <th>1</th>\n",
              "      <td>video4.webm</td>\n",
              "      <td>0.923</td>\n",
              "      <td>33</td>\n",
              "      <td>0.667</td>\n",
              "      <td>12</td>\n",
              "    </tr>\n",
              "    <tr>\n",
              "      <th>2</th>\n",
              "      <td>video6.webm</td>\n",
              "      <td>0.863</td>\n",
              "      <td>33</td>\n",
              "      <td>0.700</td>\n",
              "      <td>10</td>\n",
              "    </tr>\n",
              "    <tr>\n",
              "      <th>3</th>\n",
              "      <td>video8.webm</td>\n",
              "      <td>0.922</td>\n",
              "      <td>33</td>\n",
              "      <td>0.818</td>\n",
              "      <td>11</td>\n",
              "    </tr>\n",
              "    <tr>\n",
              "      <th>4</th>\n",
              "      <td>video10.webm</td>\n",
              "      <td>0.950</td>\n",
              "      <td>34</td>\n",
              "      <td>0.900</td>\n",
              "      <td>10</td>\n",
              "    </tr>\n",
              "  </tbody>\n",
              "</table>\n",
              "</div>"
            ],
            "text/plain": [
              "          video  short-term_memorability  nb_short-term_annotations  \\\n",
              "0   video3.webm                    0.924                         34   \n",
              "1   video4.webm                    0.923                         33   \n",
              "2   video6.webm                    0.863                         33   \n",
              "3   video8.webm                    0.922                         33   \n",
              "4  video10.webm                    0.950                         34   \n",
              "\n",
              "   long-term_memorability  nb_long-term_annotations  \n",
              "0                   0.846                        13  \n",
              "1                   0.667                        12  \n",
              "2                   0.700                        10  \n",
              "3                   0.818                        11  \n",
              "4                   0.900                        10  "
            ]
          },
          "metadata": {
            "tags": []
          },
          "execution_count": 6
        }
      ]
    },
    {
      "metadata": {
        "id": "5kJi5SihTfxt",
        "colab_type": "code",
        "outputId": "c2d7e786-6622-4994-839f-924fb2dcd0fa",
        "colab": {
          "base_uri": "https://localhost:8080/",
          "height": 301
        }
      },
      "cell_type": "code",
      "source": [
        "ground_truth.describe()"
      ],
      "execution_count": 7,
      "outputs": [
        {
          "output_type": "execute_result",
          "data": {
            "text/html": [
              "<div>\n",
              "<style scoped>\n",
              "    .dataframe tbody tr th:only-of-type {\n",
              "        vertical-align: middle;\n",
              "    }\n",
              "\n",
              "    .dataframe tbody tr th {\n",
              "        vertical-align: top;\n",
              "    }\n",
              "\n",
              "    .dataframe thead th {\n",
              "        text-align: right;\n",
              "    }\n",
              "</style>\n",
              "<table border=\"1\" class=\"dataframe\">\n",
              "  <thead>\n",
              "    <tr style=\"text-align: right;\">\n",
              "      <th></th>\n",
              "      <th>short-term_memorability</th>\n",
              "      <th>nb_short-term_annotations</th>\n",
              "      <th>long-term_memorability</th>\n",
              "      <th>nb_long-term_annotations</th>\n",
              "    </tr>\n",
              "  </thead>\n",
              "  <tbody>\n",
              "    <tr>\n",
              "      <th>count</th>\n",
              "      <td>6000.000000</td>\n",
              "      <td>6000.000000</td>\n",
              "      <td>6000.000000</td>\n",
              "      <td>6000.000000</td>\n",
              "    </tr>\n",
              "    <tr>\n",
              "      <th>mean</th>\n",
              "      <td>0.860243</td>\n",
              "      <td>36.291500</td>\n",
              "      <td>0.778942</td>\n",
              "      <td>12.764667</td>\n",
              "    </tr>\n",
              "    <tr>\n",
              "      <th>std</th>\n",
              "      <td>0.080655</td>\n",
              "      <td>8.356285</td>\n",
              "      <td>0.144692</td>\n",
              "      <td>3.544815</td>\n",
              "    </tr>\n",
              "    <tr>\n",
              "      <th>min</th>\n",
              "      <td>0.388000</td>\n",
              "      <td>30.000000</td>\n",
              "      <td>0.000000</td>\n",
              "      <td>9.000000</td>\n",
              "    </tr>\n",
              "    <tr>\n",
              "      <th>25%</th>\n",
              "      <td>0.811000</td>\n",
              "      <td>33.000000</td>\n",
              "      <td>0.700000</td>\n",
              "      <td>10.000000</td>\n",
              "    </tr>\n",
              "    <tr>\n",
              "      <th>50%</th>\n",
              "      <td>0.867000</td>\n",
              "      <td>34.000000</td>\n",
              "      <td>0.800000</td>\n",
              "      <td>12.000000</td>\n",
              "    </tr>\n",
              "    <tr>\n",
              "      <th>75%</th>\n",
              "      <td>0.923000</td>\n",
              "      <td>34.000000</td>\n",
              "      <td>0.900000</td>\n",
              "      <td>14.000000</td>\n",
              "    </tr>\n",
              "    <tr>\n",
              "      <th>max</th>\n",
              "      <td>0.989000</td>\n",
              "      <td>100.000000</td>\n",
              "      <td>1.000000</td>\n",
              "      <td>40.000000</td>\n",
              "    </tr>\n",
              "  </tbody>\n",
              "</table>\n",
              "</div>"
            ],
            "text/plain": [
              "       short-term_memorability  nb_short-term_annotations  \\\n",
              "count              6000.000000                6000.000000   \n",
              "mean                  0.860243                  36.291500   \n",
              "std                   0.080655                   8.356285   \n",
              "min                   0.388000                  30.000000   \n",
              "25%                   0.811000                  33.000000   \n",
              "50%                   0.867000                  34.000000   \n",
              "75%                   0.923000                  34.000000   \n",
              "max                   0.989000                 100.000000   \n",
              "\n",
              "       long-term_memorability  nb_long-term_annotations  \n",
              "count             6000.000000               6000.000000  \n",
              "mean                 0.778942                 12.764667  \n",
              "std                  0.144692                  3.544815  \n",
              "min                  0.000000                  9.000000  \n",
              "25%                  0.700000                 10.000000  \n",
              "50%                  0.800000                 12.000000  \n",
              "75%                  0.900000                 14.000000  \n",
              "max                  1.000000                 40.000000  "
            ]
          },
          "metadata": {
            "tags": []
          },
          "execution_count": 7
        }
      ]
    },
    {
      "metadata": {
        "id": "QQ4UIHR3WWwX",
        "colab_type": "code",
        "outputId": "0290b54f-8a44-45dc-869e-dc94ed923854",
        "colab": {
          "base_uri": "https://localhost:8080/",
          "height": 117
        }
      },
      "cell_type": "code",
      "source": [
        "!pip install pyprind"
      ],
      "execution_count": 8,
      "outputs": [
        {
          "output_type": "stream",
          "text": [
            "Collecting pyprind\n",
            "  Downloading https://files.pythonhosted.org/packages/1e/30/e76fb0c45da8aef49ea8d2a90d4e7a6877b45894c25f12fb961f009a891e/PyPrind-2.11.2-py3-none-any.whl\n",
            "Installing collected packages: pyprind\n",
            "Successfully installed pyprind-2.11.2\n"
          ],
          "name": "stdout"
        }
      ]
    },
    {
      "metadata": {
        "id": "DF_FnLcIWZvX",
        "colab_type": "code",
        "colab": {
          "base_uri": "https://localhost:8080/",
          "height": 35
        },
        "outputId": "59a50fa9-3059-4761-8764-096735af899c"
      },
      "cell_type": "code",
      "source": [
        "from keras import Sequential\n",
        "from keras import layers\n",
        "from keras import regularizers\n",
        "from string import punctuation\n",
        "import pyprind\n",
        "from collections import Counter\n",
        "from keras.preprocessing.text import Tokenizer\n",
        "from sklearn.model_selection import train_test_split\n",
        "import matplotlib.pyplot as plt"
      ],
      "execution_count": 9,
      "outputs": [
        {
          "output_type": "stream",
          "text": [
            "Using TensorFlow backend.\n"
          ],
          "name": "stderr"
        }
      ]
    },
    {
      "metadata": {
        "id": "I5lQlaAoWtwR",
        "colab_type": "code",
        "colab": {}
      },
      "cell_type": "code",
      "source": [
        "from numpy.random import seed\n",
        "seed(1)\n",
        "from tensorflow import set_random_seed\n",
        "set_random_seed(1)"
      ],
      "execution_count": 0,
      "outputs": []
    },
    {
      "metadata": {
        "id": "RFrLdpBx558Q",
        "colab_type": "code",
        "colab": {}
      },
      "cell_type": "code",
      "source": [
        "# load labels and captions\n",
        "def read_caps(fname):\n",
        "    \"\"\"Load the captions into a dataframe\"\"\"\n",
        "    vn = []\n",
        "    cap = []\n",
        "    df = pd.DataFrame();\n",
        "    with open(fname) as f:\n",
        "        for line in f:\n",
        "            pairs = line.split()\n",
        "            vn.append(pairs[0])\n",
        "            cap.append(pairs[1])\n",
        "        df['video']=vn\n",
        "        df['caption']=cap\n",
        "    return df\n",
        "\n",
        "\n",
        "# load the captions\n",
        "cap_path = '/content/drive/My Drive/CA684_Assignment_Data/dev-set/dev-set_video-captions.txt'\n",
        "df_cap=read_caps(cap_path)\n",
        "\n",
        "# load the ground truth values\n",
        "ground_truth_file = '/content/drive/My Drive/CA684_Assignment_Data/dev-set/dev-set_ground-truth.csv'\n",
        "labels = pd.read_csv(ground_truth_file)"
      ],
      "execution_count": 0,
      "outputs": []
    },
    {
      "metadata": {
        "id": "vHYUlTKqBQbp",
        "colab_type": "code",
        "colab": {}
      },
      "cell_type": "code",
      "source": [
        "print(df_cap)\n",
        "print(labels)"
      ],
      "execution_count": 0,
      "outputs": []
    },
    {
      "metadata": {
        "id": "lxgq-iClCYfL",
        "colab_type": "code",
        "outputId": "e313da42-bb8d-4e24-a76a-a427c1582046",
        "colab": {
          "base_uri": "https://localhost:8080/",
          "height": 70
        }
      },
      "cell_type": "code",
      "source": [
        "counts = Counter()\n",
        "# setup prograss tracker\n",
        "pbar = pyprind.ProgBar(len(df_cap['caption']), title='Counting word occurrences')\n",
        "for i, cap in enumerate(df_cap['caption']):\n",
        "    # replace punctuations with space\n",
        "    # convert words to lower case \n",
        "    text = ''.join([c if c not in punctuation else ' ' for c in cap]).lower()\n",
        "    df_cap.loc[i,'caption'] = text\n",
        "    pbar.update()\n",
        "    counts.update(text.split())"
      ],
      "execution_count": 14,
      "outputs": [
        {
          "output_type": "stream",
          "text": [
            "Counting word occurrences\n",
            "0% [##############################] 100% | ETA: 00:00:00\n",
            "Total time elapsed: 00:00:04\n"
          ],
          "name": "stderr"
        }
      ]
    },
    {
      "metadata": {
        "id": "EQFU30pODueo",
        "colab_type": "code",
        "outputId": "9adfe262-95b2-48ba-8b49-d6414cb6ab7a",
        "colab": {
          "base_uri": "https://localhost:8080/",
          "height": 77
        }
      },
      "cell_type": "code",
      "source": [
        "print(counts)\n",
        "print(len(counts))"
      ],
      "execution_count": 15,
      "outputs": [
        {
          "output_type": "stream",
          "text": [
            "Counter({'in': 2105, 'the': 1835, 'on': 1724, 'and': 1444, 'a': 1181, 'with': 996, 'woman': 899, 'of': 836, 'at': 762, 'young': 724, 'man': 559, 'slow': 495, 'motion': 452, 'to': 416, 'couple': 318, 'sitting': 304, 'girl': 291, 'happy': 279, 'beach': 270, 'park': 256, 'up': 255, 'walking': 237, 'close': 230, 'camera': 230, 'her': 219, 'using': 218, 'shot': 215, 'smiling': 198, 'looking': 195, 'two': 191, 'by': 189, 'people': 188, 'from': 188, 'tablet': 184, 'is': 181, 'water': 171, 'through': 156, 'female': 150, 'computer': 149, 'view': 149, 'laptop': 139, 'playing': 137, 'sunset': 137, 'beautiful': 133, 'videoblocks': 131, 'his': 131, 'running': 130, 'talking': 129, 'city': 128, 'working': 127, 'eating': 126, 'little': 126, 'family': 125, 'mother': 124, 'background': 122, 'home': 122, 'standing': 121, 'for': 115, 'phone': 115, 'or': 114, 'sea': 113, 'national': 112, 'african': 111, 'attractive': 111, 'tree': 107, 'snow': 103, 'their': 102, 'drinking': 102, 'hands': 102, 'steadicamof': 102, 'modern': 101, 'street': 99, 'business': 98, 'road': 98, 'while': 98, 'american': 97, 'field': 97, 'over': 96, 'boy': 96, 'white': 95, 'new': 93, 'businessman': 92, 'portrait': 92, 'son': 91, 'table': 90, 'swimming': 90, 'into': 89, 'group': 86, 'closeup': 85, 'christmas': 85, 'down': 84, 'businesswoman': 84, 'having': 83, 'kitchen': 82, 'out': 80, 'fish': 80, 'green': 79, 'father': 79, 'mountain': 79, 'steadicam': 77, 'outdoors': 77, 'black': 76, 'sun': 76, 'sunrise': 76, 'office': 75, 'cafe': 73, 'grass': 73, 'near': 70, 'friends': 69, 'cellphone': 68, 'red': 67, 'taking': 66, 'summer': 66, 'war': 66, 'restaurant': 65, 'lake': 65, 'bridge': 65, 'relaxing': 64, 'africa': 64, 'moving': 64, 'blue': 64, 'upof': 63, 'night': 63, 'construction': 63, 'coffee': 62, 'outside': 61, 'aerial': 61, 'steadycam': 61, 'trees': 60, 'around': 60, 'khr': 59, 'food': 59, 'sunny': 59, 'south': 59, 'under': 57, 'dog': 57, 'concept': 57, 'child': 57, 'wearing': 57, 'lying': 57, 'civil': 57, 'face': 55, 'doctor': 55, 'fun': 55, 'women': 54, 'reading': 53, 'mountains': 53, 'sofa': 53, 'asian': 53, 'jogging': 53, 'making': 52, 'as': 52, 'hand': 52, 'mobile': 52, 'doing': 52, 'holding': 52, 'dancing': 51, 'bright': 51, 'sky': 51, 'flying': 50, 'cute': 50, 'forest': 50, 'together': 50, 'window': 50, 'airport': 49, 'an': 49, 'daughter': 49, 'river': 49, 'landscape': 48, 'back': 48, 'along': 48, 'rock': 47, 'timelapse': 46, 'men': 46, 'building': 46, 'floor': 45, 'work': 45, 'garden': 45, 'music': 45, 'it': 44, 'small': 44, 'listening': 44, 'front': 43, 'time': 43, 'riding': 43, 'against': 43, 'cooking': 43, 'smartphone': 43, 'typing': 43, 'baby': 42, 'three': 42, 'feet': 42, 'house': 42, 'off': 42, 'laughing': 42, 'during': 42, 'healthy': 41, 'book': 41, 'evening': 41, 'pan': 41, 'dolly': 41, 'filmed': 40, 'zoom': 40, 'light': 40, 'canyon': 39, 'putting': 39, 'nature': 39, 'winter': 39, 'are': 39, 'elephant': 39, 'pool': 39, 'they': 39, 'ball': 38, 'snowy': 38, 'farm': 38, 'showing': 38, 'behind': 38, 'moscow': 38, 'hair': 38, 'fitness': 37, 'he': 37, 'bed': 37, 'car': 36, 'runner': 36, 'school': 36, 'watching': 36, 'russia': 36, 'room': 36, 'walks': 35, 'large': 35, 'ocean': 35, 'painting': 35, 'bicycle': 35, 'silhouette': 35, 'she': 35, 'pretty': 35, 'parents': 35, 'old': 35, 'wooden': 35, 'glass': 34, 'children': 34, 'flowers': 34, 'brunette': 34, 'train': 33, 'patient': 33, 'after': 33, 'wall': 33, 'away': 32, 'day': 32, 'boat': 32, 'girls': 32, 'autumn': 32, 'focus': 32, 'lifestyle': 32, 'farming': 31, 'glasses': 31, 'shining': 31, 'yellow': 31, 'spinning': 30, 'getting': 30, 'cat': 30, 'york': 30, 'clouds': 30, 'discussing': 30, 'sits': 30, 'bench': 30, 'caucasian': 30, 'skyline': 30, 'male': 30, 'training': 30, 'person': 29, 'bike': 29, 'moose': 29, 'rocks': 29, 'driving': 29, 'shopping': 29, 'preparing': 29, 'worker': 29, 'station': 28, 'adult': 28, 'highway': 28, 'panningof': 28, 'outdoor': 28, 'morning': 28, 'desert': 28, 'birds': 28, 'space': 28, 'enjoying': 28, 'selfie': 28, 'traffic': 27, 'across': 27, 'cycling': 27, 'eagle': 27, 'country': 27, 'apartment': 27, 'urban': 27, 'internet': 27, 'crowd': 27, 'reef': 27, 'model': 26, 'big': 26, 'bald': 26, 'sport': 26, 'covered': 26, 'art': 26, 'center': 26, 'walk': 26, 'pouring': 26, 'being': 26, 'student': 26, 'bag': 26, 'gangsters': 25, 'tourists': 25, 'chatting': 25, 'soccer': 25, 'workout': 25, 'celebrating': 25, 'hot': 25, 'free': 25, 'headphones': 25, 'juice': 25, 'top': 25, 'open': 25, 'point': 25, 'machine': 25, 'hotel': 25, 'gym': 25, 'orange': 25, 'above': 25, 'love': 25, 'fire': 25, 'wheat': 25, 'kids': 24, 'massage': 24, 'hanging': 24, 'animal': 24, 'shelter': 24, 'head': 24, 'eyes': 24, 'blowing': 24, 'touchpad': 24, 'valley': 24, 'meadow': 24, 'writing': 24, 'arch': 24, 'romantic': 24, 'motionof': 24, 'hat': 24, 'then': 24, 'one': 24, 'spring': 24, 'high': 24, 'place': 24, 'super': 24, 'professional': 24, 'crane': 23, 'wine': 23, 'video': 23, 'four': 23, 'digital': 23, 'lettuce': 23, 'artist': 23, 'pov': 23, 'panning': 23, 'fishing': 23, 'mom': 23, 'tropical': 23, 'coral': 23, 'photo': 23, 'cutting': 23, 'ship': 23, 'kruger': 23, 'market': 22, 'flag': 22, 'bryce': 22, 'nyc': 22, 'underwater': 22, 'suit': 22, 'ride': 22, 'scientist': 22, 'busy': 22, 'workers': 22, 'puts': 22, 'tilt': 21, 'something': 21, 'lights': 21, 'dollyof': 21, 'dark': 21, 'rural': 21, 'carrying': 21, 'smile': 21, 'leaves': 21, 'storm': 21, 'horse': 21, 'documents': 21, 'texting': 21, 'woods': 21, 'message': 21, 'colorful': 21, 'dressed': 21, 'long': 21, 'cemetery': 21, 'pier': 21, 'parade': 21, 'decorating': 21, 'aerialof': 21, 'meeting': 20, 'scene': 20, 'cage': 20, 'terrace': 20, 'line': 20, 'studio': 20, 'produce': 20, 'ice': 20, 'dc': 20, 'resort': 20, 'salad': 20, 'kissing': 20, 'horizon': 20, 'press': 20, 'checking': 20, 'before': 20, 'flare': 19, 'meal': 19, 'handsome': 19, 'surfing': 19, 'hiking': 19, 'ski': 19, 'washing': 19, 'cell': 19, 'sand': 19, 'look': 19, 'tourist': 19, 'guy': 19, 'arlington': 19, 'cruise': 19, 'shore': 19, 'cream': 19, 'smart': 19, 'executive': 19, 'resolution': 18, 'trackingof': 18, 'him': 18, 'peddling': 18, 'beauty': 18, 'spa': 18, 'bear': 18, 'there': 18, 'chef': 18, 'san': 18, 'opening': 18, 'beer': 18, 'ultra': 18, 'bubbles': 18, 'talk': 18, 'womans': 18, 'pregnant': 18, 'cliffs': 18, 'memorial': 18, 'air': 18, 'couch': 18, 'hill': 18, 'waiting': 18, 'preparation': 18, 'helmet': 18, 'soldiers': 18, 'board': 18, 'screen': 18, 'equipment': 17, 'wide': 17, 'industrial': 17, 'rain': 17, 'slave': 17, 'angle': 17, 'washington': 17, 'laboratory': 17, 'path': 17, 'sad': 17, 'notebook': 17, 'teaching': 17, 'towards': 17, 'clothes': 17, 'aquarium': 17, 'may': 17, 'jumping': 17, 'chair': 17, 'different': 17, 'colonial': 17, 'addo': 17, 'lady': 17, 'basketball': 17, 'passing': 16, 'sign': 16, 'giving': 16, 'jog': 16, 'hospital': 16, 'distance': 16, 'monument': 16, 'resting': 16, 'fly': 16, 'cheerful': 16, 'boxes': 16, 'eat': 16, 'dress': 16, 'summertime': 16, 'childhood': 16, 'paper': 16, 'fresh': 16, 'hall': 16, 'rally': 16, 'vacation': 16, 'extreme': 16, 'rack': 16, 'sunglasses': 16, 'picnic': 15, 'stadium': 15, 'real': 15, 'dci': 15, 'jellyfish': 15, 'welness': 15, 'fall': 15, 'students': 15, 'eye': 15, 'gallery': 15, 'power': 15, 'dead': 15, 'campfire': 15, 'plane': 15, 'western': 15, 'multicultural': 15, 'casual': 15, 'technology': 15, 'film': 15, 'looks': 15, 'buildings': 15, 'scenic': 15, 'milk': 15, 'alone': 15, 'cars': 15, 'strong': 15, 'town': 15, 'utah': 15, 'engineer': 15, 'feeding': 15, 'toy': 15, 'game': 15, 'kayak': 15, 'make': 15, 'bird': 14, 'works': 14, 'ray': 14, 'flight': 14, 'voting': 14, 'wideof': 14, 'shop': 14, 'other': 14, 'horses': 14, 'shoes': 14, 'traditional': 14, 'tap': 14, 'throwing': 14, 'funny': 14, 'balcony': 14, 'warm': 14, 'sleeping': 14, 'travel': 14, 'crowded': 14, 'era': 14, 'exotic': 14, 'plants': 14, 'graffiti': 14, 'race': 14, 'lab': 14, 'past': 14, 'buffet': 14, 'williamsburg': 14, 'pot': 13, 'climber': 13, 'bottle': 13, 'australia': 13, 'friend': 13, 'sidewalk': 13, 'police': 13, 'climbing': 13, 'truck': 13, 'crossing': 13, 'waves': 13, 'times': 13, 'square': 13, 'flower': 13, 'between': 13, 'delicious': 13, 'mesa': 13, 'pink': 13, 'team': 13, 'legs': 13, 'shark': 13, 'inside': 13, 'cup': 13, 'bay': 13, 'sunlight': 13, 'lapse': 13, 'fingers': 13, 'surface': 13, 'wind': 13, 'circus': 13, 'many': 13, 'grave': 13, 'some': 13, 'library': 13, 'natural': 13, 'freedom': 13, 'mixed': 13, 'camp': 13, 'elephants': 13, 'plate': 13, 'trendy': 13, 'commuting': 13, 'golden': 13, 'drawing': 13, 'smoke': 12, 'floating': 12, 'cowboy': 12, 'foot': 12, 'martial': 12, 'arts': 12, 'fruit': 12, 'calf': 12, 'mirror': 12, 'factory': 12, 'sunbed': 12, 'trail': 12, 'metal': 12, 'raw': 12, 'fence': 12, 'charming': 12, 'dirt': 12, 'does': 12, 'earth': 12, 'basket': 12, 'swans': 12, 'laying': 12, 'state': 12, 'lens': 12, 'each': 12, 'tower': 12, 'tall': 12, 'doctors': 12, 'flour': 12, 'pond': 12, 'swing': 12, 'turning': 12, 'piano': 12, 'golf': 12, 'island': 12, 'steps': 12, 'slowmotion': 12, 'glowing': 12, 'tea': 12, 'another': 11, 'baseball': 11, 'pad': 11, 'cranes': 11, 'waving': 11, 'spain': 11, 'skiing': 11, 'wild': 11, 'help': 11, 'bar': 11, 'drink': 11, 'tennis': 11, 'headset': 11, 'show': 11, 'area': 11, 'lion': 11, 'next': 11, 'kite': 11, 'shirt': 11, 'bicycles': 11, 'watering': 11, 'spoon': 11, 'cliff': 11, 'festival': 11, 'empty': 11, 'toward': 11, 'solar': 11, 'side': 11, 'posing': 11, 'mov': 11, 'movie': 11, 'decoration': 11, 'plates': 11, 'yoga': 11, 'zooming': 11, 'vietnam': 11, 'wood': 11, 'band': 11, 'th': 11, 'century': 11, 'skier': 11, 'bull': 11, 'falling': 11, 'prescription': 11, 'about': 11, 'harvest': 11, 'rotating': 11, 'do': 11, 'cocktail': 11, 'football': 11, 'apple': 11, 'calling': 11, 'blond': 11, 'grandfather': 11, 'cherry': 11, 'wedding': 11, 'virtual': 11, 'hugging': 11, 'information': 11, 'architect': 11, 'development': 11, 'military': 11, 'fast': 11, 'weight': 11, 'blonde': 10, 'medical': 10, 'village': 10, 'flat': 10, 'happiness': 10, 'barcelona': 10, 'umbrella': 10, 'rodeo': 10, 'zebras': 10, 'silhouettes': 10, 'closing': 10, 'site': 10, 'tv': 10, 'crowds': 10, 'tracks': 10, 'rocky': 10, 'can': 10, 'bikers': 10, 'butterfly': 10, 'prepares': 10, 'loving': 10, 'countryside': 10, 'client': 10, 'shallow': 10, 'bubble': 10, 'tracking': 10, 'kid': 10, 'drive': 10, 'uses': 10, 'low': 10, 'shooting': 10, 'casually': 10, 'airplane': 10, 'finger': 10, 'touch': 10, 'tasty': 10, 'akvamarine': 10, 'picture': 10, 'speed': 10, 'latino': 10, 'carnival': 10, 'stone': 10, 'early': 10, 'care': 10, 'cityscape': 10, 'breakfast': 10, 'bush': 10, 'straw': 10, 'club': 10, 'vintage': 10, 'diverse': 10, 'going': 10, 'dry': 10, 'bride': 10, 'skiers': 10, 'reality': 10, 'vietnamese': 10, 'exercise': 10, 'scientists': 10, 'umbrellas': 10, 'greece': 10, 'kicking': 10, 'watch': 10, 'consultant': 10, 'diving': 10, 'p': 10, 'tattoo': 10, 'partner': 10, 'bedroom': 10, 'waterfall': 10, 'grandmother': 9, 'wildlife': 9, 'sports': 9, 'downtown': 9, 'norway': 9, 'soldier': 9, 'supporters': 9, 'salon': 9, 'branch': 9, 'soaring': 9, 'cook': 9, 'windows': 9, 'lane': 9, 'retail': 9, 'feeling': 9, 'wheeling': 9, 'international': 9, 'manager': 9, 'enjoy': 9, 'rolling': 9, 'businesswomen': 9, 'graded': 9, 'uhd': 9, 'deep': 9, 'hd': 9, 'cake': 9, 'skin': 9, 'selling': 9, 'sit': 9, 'edge': 9, 'cinemagraph': 9, 'seamless': 9, 'exercising': 9, 'dogs': 9, 'call': 9, 'petersburg': 9, 'event': 9, 'motionk': 9, 'takes': 9, 'x': 9, 'indoors': 9, 'heterosexual': 9, 'plan': 9, 'baker': 9, 'backing': 9, 'notes': 9, 'friendly': 9, 'safety': 9, 'seagulls': 9, 'balloons': 9, 'sunlit': 9, 'good': 9, 'roller': 9, 'arms': 9, 'hip': 9, 'landing': 9, 'smoking': 9, 'suits': 9, 'reenactors': 9, 'battlefield': 9, 'first': 9, 'flock': 9, 'harbor': 9, 'macro': 9, 'thoughtful': 9, 'groom': 9, 'health': 9, 'middle': 9, 'paddles': 9, 'oven': 9, 'money': 9, 'francisco': 9, 'vegetables': 9, 'dinner': 9, 'meat': 9, 'plant': 9, 'guard': 9, 'stage': 9, 'luxury': 9, 'closeupof': 9, 'capitol': 9, 'ducklings': 9, 'mature': 9, 'church': 9, 'february': 9, 'gift': 9, 'rays': 9, 'chinese': 9, 'turtle': 9, 'fighting': 9, 'massaged': 8, 'coming': 8, 'wheel': 8, 'hare': 8, 'passenger': 8, 'boiling': 8, 'foreground': 8, 'patriotic': 8, 'brown': 8, 'alaska': 8, 'ground': 8, 'them': 8, 'instructor': 8, 'static': 8, 'convention': 8, 'tired': 8, 'reflection': 8, 'traveling': 8, 'reads': 8, 'same': 8, 'relationship': 8, 'runs': 8, 'canyonlands': 8, 'warming': 8, 'calm': 8, 'pushing': 8, 'businessmen': 8, 'fireplace': 8, 'multiracial': 8, 'watches': 8, 'pc': 8, 'push': 8, 'deck': 8, 'blizzard': 8, 'belly': 8, 'gun': 8, 'parenthood': 8, 'april': 8, 'estate': 8, 'bikes': 8, 'closed': 8, 'pizza': 8, 'piggyback': 8, 'warehouse': 8, 'shots': 8, 'clown': 8, 'following': 8, 'unrecognizable': 8, 'cozy': 8, 'pathway': 8, 'seaside': 8, 'blacksmith': 8, 'suitcase': 8, 'colorado': 8, 'panoramic': 8, 'hikers': 8, 'cape': 8, 'self': 8, 'crew': 8, 'adorable': 8, 'helping': 8, 'hop': 8, 'jump': 8, 'scenery': 8, 'angry': 8, 'ducks': 8, 'performing': 8, 'armchair': 8, 'colleagues': 8, 'daughters': 8, 'trying': 8, 'makes': 8, 'cleaning': 8, 'architecture': 8, 'sauce': 8, 'beside': 8, 'reenactment': 8, 'stony': 8, 'dusk': 8, 'newspaper': 8, 'coaster': 8, 'cloudy': 8, 'project': 8, 'break': 8, 'skyscrapers': 8, 'dessert': 8, 'photos': 8, 'log': 8, 'stylish': 8, 'life': 8, 'style': 8, 'teacher': 8, 'changing': 8, 'buffalo': 8, 'lift': 8, 'applying': 8, 'dough': 8, 'party': 8, 'biking': 8, 'tomato': 8, 'heavy': 8, 'play': 8, 'slo': 8, 'corn': 8, 'nurse': 8, 'conference': 8, 'herd': 8, 'quay': 8, 'grill': 8, 'helicopter': 7, 'stretching': 7, 'bread': 7, 'shadow': 7, 'serious': 7, 'iv': 7, 'runway': 7, 'row': 7, 'salt': 7, 'cats': 7, 'bowl': 7, 'mix': 7, 'drinks': 7, 'texas': 7, 'ready': 7, 'tools': 7, 'hawaii': 7, 'islands': 7, 'sprawl': 7, 'late': 7, 'made': 7, 'engineers': 7, 'homosexual': 7, 'gay': 7, 'lesbian': 7, 'sex': 7, 'marriage': 7, 'company': 7, 'dish': 7, 'sushi': 7, 'sunbeds': 7, 'lemon': 7, 'pill': 7, 'speaking': 7, 'treatment': 7, 'electricity': 7, 'vista': 7, 'siberian': 7, 'husky': 7, 'bikini': 7, 'prepared': 7, 'handheld': 7, 'bare': 7, 'loop': 7, 'pills': 7, 'astronaut': 7, 'image': 7, 'exercises': 7, 'saint': 7, 'balls': 7, 'year': 7, 'hipster': 7, 'purple': 7, 'creek': 7, 'frying': 7, 'candle': 7, 'thumbs': 7, 'samples': 7, 'leather': 7, 'waking': 7, 'mask': 7, 'passengers': 7, 'sweet': 7, 'birthday': 7, 'not': 7, 'printing': 7, 'use': 7, 'spotted': 7, 'eel': 7, 'swarm': 7, 'union': 7, 'tuscany': 7, 'flies': 7, 'salmon': 7, 'grassy': 7, 'browsing': 7, 'shuttle': 7, 'strawberries': 7, 'dandelion': 7, 'marching': 7, 'jibof': 7, 'course': 7, 'seabed': 7, 'bus': 7, 'jeep': 7, 'seashore': 7, 'news': 7, 'gulls': 7, 'fireworks': 7, 'dock': 7, 'mouth': 7, 'desk': 7, 'studying': 7, 'oil': 7, 'tomatoes': 7, 'body': 7, 'elegant': 7, 'books': 7, 'card': 7, 'branches': 7, 'research': 7, 'sweaty': 7, 'penguin': 7, 'way': 7, 'sugar': 7, 'swinging': 7, 'alley': 7, 'gas': 7, 'crop': 7, 'punching': 7, 'concert': 7, 'lions': 7, 'concrete': 7, 'sailboat': 7, 'plans': 7, 'leaning': 7, 'shoulder': 7, 'ladies': 7, 'delicate': 7, 'arches': 7, 'gray': 7, 'keyboard': 7, 'holds': 7, 'policeman': 7, 'treadmill': 7, 'cannon': 7, 'soap': 7, 'stirring': 7, 'name': 7, 'heron': 7, 'stands': 7, 'apples': 7, 'grandson': 6, 'stove': 6, 'explain': 6, 'kiss': 6, 'chat': 6, 'colored': 6, 'ingredients': 6, 'rainy': 6, 'touching': 6, 'proud': 6, 'workshop': 6, 'perched': 6, 'counter': 6, 'rt': 6, 'm': 6, 'diego': 6, 'electric': 6, 'full': 6, 'guitar': 6, 'bags': 6, 'singing': 6, 'murky': 6, 'therapist': 6, 'serving': 6, 'salesman': 6, 'panel': 6, 'owners': 6, 'save': 6, 'consumption': 6, 'enjoys': 6, 'sorting': 6, 'quill': 6, 'locked': 6, 'chonchi': 6, 'domexpo': 6, 'gostiny': 6, 'dvor': 6, 'photographer': 6, 'pictures': 6, 'moments': 6, 'booths': 6, 'right': 6, 'receiving': 6, 'vegetarian': 6, 'chest': 6, 'wilderness': 6, 'himself': 6, 'touchscreen': 6, 'monitor': 6, 'run': 6, 'container': 6, 'adding': 6, 's': 6, 'be': 6, 'rider': 6, 'living': 6, 'flame': 6, 'panorama': 6, 'customer': 6, 'put': 6, 'technician': 6, 'gets': 6, 'explaining': 6, 'world': 6, 'moves': 6, 'sifting': 6, 'motionfps': 6, 'teeing': 6, 'stick': 6, 'launch': 6, 'future': 6, 'cut': 6, 'symbol': 6, 'cigarette': 6, 'cloud': 6, 'reflective': 6, 'gifts': 6, 'plays': 6, 'makeup': 6, 'battle': 6, 'businesspeople': 6, 'crows': 6, 'snowfall': 6, 'rabbit': 6, 'waterpool': 6, 'tiltingof': 6, 'trucks': 6, 'turns': 6, 'statue': 6, 'overlook': 6, 'drifting': 6, 'range': 6, 'finishing': 6, 'aged': 6, 'rising': 6, 'leopard': 6, 'gum': 6, 'dentist': 6, 'wheelchair': 6, 'test': 6, 'striped': 6, 'toys': 6, 'girlfriends': 6, 'starting': 6, 'teenagers': 6, 'gliding': 6, 'tomb': 6, 'unknowns': 6, 'conversation': 6, 'tray': 6, 'fields': 6, 'pass': 6, 'designer': 6, 'empire': 6, 'port': 6, 'fountains': 6, 'mechanic': 6, 'parts': 6, 'short': 6, 'divers': 6, 'foam': 6, 'players': 6, 'problems': 6, 'setting': 6, 'owner': 6, 'poppies': 6, 'device': 6, 'giraffes': 6, 'pensive': 6, 'knife': 6, 'motorcycle': 6, 'ok': 6, 'take': 6, 'dental': 6, 'duck': 6, 'baking': 6, 'cookies': 6, 'unit': 6, 'television': 5, 'who': 5, 'points': 5, 'potters': 5, 'yard': 5, 'terminal': 5, 'lipstick': 5, 'hovering': 5, 'keys': 5, 'stones': 5, 'lunch': 5, 'cages': 5, 'eagles': 5, 'huge': 5, 'cucumber': 5, 'multi': 5, 'accident': 5, 'manta': 5, 'chairs': 5, 'snake': 5, 'downhill': 5, 'senior': 5, 'approaching': 5, 'rubbing': 5, 'neck': 5, 'thumb': 5, 'formal': 5, 'successful': 5, 'set': 5, 'memories': 5, 'rolls': 5, 'door': 5, 'hallway': 5, 'festive': 5, 'fashionable': 5, 'presents': 5, 'round': 5, 'metro': 5, 'arriving': 5, 'puppy': 5, 'admiring': 5, 'binoculars': 5, 'falls': 5, 'goose': 5, 'ups': 5, 'santa': 5, 'gourmet': 5, 'talks': 5, 'homework': 5, 'reflecting': 5, 'colors': 5, 'wave': 5, 'shows': 5, 'others': 5, 'sailing': 5, 'macroof': 5, 'jumps': 5, 'outer': 5, 'backdrop': 5, 'planet': 5, 'this': 5, 'nasa': 5, 'hood': 5, 'dribbles': 5, 'bourbon': 5, 'carving': 5, 'dollyyoung': 5, 'spinach': 5, 'greens': 5, 'foodk': 5, 'sunbathing': 5, 'patients': 5, 'refreshing': 5, 'pipette': 5, 'transfer': 5, 'st': 5, 'technologies': 5, 'fuel': 5, 'figurines': 5, 'hour': 5, 'measures': 5, 'horizontal': 5, 'operates': 5, 'how': 5, 'hiding': 5, 'pigeons': 5, 'cnc': 5, 'alaskan': 5, 'puerto': 5, 'harvesting': 5, 'planting': 5, 'eats': 5, 'leaf': 5, 'boulders': 5, 'peninsula': 5, 'teenager': 5, 'chocolate': 5, 'springs': 5, 'college': 5, 'via': 5, 'staticof': 5, 'leaving': 5, 'plastic': 5, 'drives': 5, 'steam': 5, 'gettysburg': 5, 'shift': 5, 'waters': 5, 'tae': 5, 'kwon': 5, 'cards': 5, 'copenhagen': 5, 'smartphones': 5, 'mixing': 5, 'mobilephone': 5, 'corridor': 5, 'creative': 5, 'bustling': 5, 'surrounded': 5, 'its': 5, 'kenya': 5, 'relaxed': 5, 'pointing': 5, 'burning': 5, 'industry': 5, 'nighttime': 5, 'giraffe': 5, 'hluhluwe': 5, 'imfolozi': 5, 'traveler': 5, 'brain': 5, 'hoop': 5, 'colony': 5, 'embracing': 5, 'argentina': 5, 'class': 5, 'baked': 5, 'toasting': 5, 'dump': 5, 'oculus': 5, 'rift': 5, 'french': 5, 'conducting': 5, 'hammock': 5, 'bars': 5, 'box': 5, 'left': 5, 'chaise': 5, 'grey': 5, 'lobsters': 5, 'coloring': 5, 'inspecting': 5, 'chopping': 5, 'scan': 5, 'arm': 5, 'jeans': 5, 'banjo': 5, 'strumming': 5, 'tundra': 5, 'print': 5, 'november': 5, 'antique': 5, 'auto': 5, 'brush': 5, 'f': 5, 'scuba': 5, 'shower': 5, 'styles': 5, 'cotton': 5, 'drunk': 5, 'afro': 5, 'gear': 5, 'pours': 5, 'lawn': 5, 'clinic': 5, 'which': 5, 'angleof': 5, 'display': 5, 'playpen': 5, 'excited': 5, 'drip': 5, 'blossom': 5, 'ask': 5, 'question': 5, 'boys': 5, 'cow': 5, 'animals': 5, 'grazing': 5, 'paddling': 5, 'blown': 5, 'signing': 5, 'massaging': 5, 'hard': 5, 'athlete': 5, 'reaching': 5, 'alongside': 5, 'carries': 5, 'pareo': 5, 'hamburger': 5, 'fried': 5, 'great': 5, 'letter': 5, 'clock': 5, 'choosing': 5, 'when': 5, 'snorkel': 5, 'riverbank': 5, 'performance': 5, 'soup': 5, 'text': 5, 'complex': 5, 'menu': 5, 'ceremony': 5, 'desktop': 5, 'sheet': 5, 'older': 4, 'wife': 4, 'potter': 4, 'process': 4, 'brushing': 4, 'emotions': 4, 'feelings': 4, 'cambodia': 4, 'medium': 4, 'nativity': 4, 'dramatic': 4, 'railing': 4, 'check': 4, 'juggling': 4, 'woodshed': 4, 'los': 4, 'angeles': 4, 'several': 4, 'strike': 4, 'pencil': 4, 'canvas': 4, 'spruce': 4, 'briefcase': 4, 'llanquihue': 4, 'cement': 4, 'grandpa': 4, 'london': 4, 'bathroom': 4, 'farmer': 4, 'unpacking': 4, 'wheelbarrow': 4, 'order': 4, 'trailer': 4, 'dishes': 4, 'champagne': 4, 'commuters': 4, 'july': 4, 'streets': 4, 'japanese': 4, 'story': 4, 'army': 4, 'laser': 4, 'economy': 4, 'glacier': 4, 'approaches': 4, 'pepper': 4, 'racing': 4, 'airlock': 4, 'pedestrian': 4, 'lionfish': 4, 'smoothing': 4, 'houses': 4, 'footage': 4, 'bad': 4, 'chainsaw': 4, 'instrument': 4, 'firing': 4, 'elements': 4, 'furnished': 4, 'go': 4, 'bears': 4, 'zip': 4, 'fair': 4, 'porch': 4, 'gymnasium': 4, 'jacket': 4, 'security': 4, 'presentation': 4, 'bun': 4, 'combing': 4, 'statuettes': 4, 'tombstones': 4, 'cap': 4, 'architects': 4, 'blurred': 4, 'used': 4, 'jet': 4, 'boyfriend': 4, 'giant': 4, 'lightning': 4, 'releasing': 4, 'archway': 4, 'confederate': 4, 'cavalry': 4, 'among': 4, 'someone': 4, 'uhdx': 4, 'balloon': 4, 'boston': 4, 'rocket': 4, 'engine': 4, 'suing': 4, 'zooms': 4, 'sexy': 4, 'skates': 4, 'roof': 4, 'drug': 4, 'pharmacist': 4, 'practicing': 4, 'picking': 4, 'sleepy': 4, 'ethnic': 4, 'gate': 4, 'whitewater': 4, 'courtyard': 4, 'holiday': 4, 'slowmo': 4, 'joyful': 4, 'cattle': 4, 'dancers': 4, 'plaid': 4, 'public': 4, 'fisherman': 4, 'float': 4, 'pieces': 4, 'milling': 4, 'consulting': 4, 'exam': 4, 'learns': 4, 'shuffling': 4, 'onto': 4, 'finish': 4, 'mothers': 4, 'denmark': 4, 'stairs': 4, 'spider': 4, 'potatoes': 4, 'clear': 4, 'holidays': 4, 'uniform': 4, 'descending': 4, 'cosmetic': 4, 'mulatto': 4, 'sniffing': 4, 'dj': 4, 'rim': 4, 'musician': 4, 'revolution': 4, 'easel': 4, 'multiple': 4, 'veterans': 4, 'recreation': 4, 'omelet': 4, 'sick': 4, 'garbage': 4, 'tractor': 4, 'palm': 4, 'main': 4, 'confederates': 4, 'chicken': 4, 'rowboat': 4, 'golfer': 4, 'faces': 4, 'rapids': 4, 'exiting': 4, 'cao': 4, 'dai': 4, 'manicure': 4, 'activity': 4, 'operator': 4, 'lovely': 4, 'get': 4, 'breaking': 4, 'sold': 4, 'speeding': 4, 'canal': 4, 'sheep': 4, 'heart': 4, 'brooklyn': 4, 'papers': 4, 'lifting': 4, 'that': 4, 'koala': 4, 'below': 4, 'sprinkle': 4, 'powder': 4, 'boutique': 4, 'learning': 4, 'celebration': 4, 'bunny': 4, 'rides': 4, 'ostrich': 4, 'feathers': 4, 'string': 4, 'stabilizedsportswoman': 4, 'tracker': 4, 'bracelet': 4, 'zebra': 4, 'luggage': 4, 'silhouetted': 4, 'served': 4, 'magazine': 4, 'lobby': 4, 'rafting': 4, 'k': 4, 'shaking': 4, 'slicing': 4, 'cubs': 4, 'heading': 4, 'part': 4, 'canyons': 4, 'jewish': 4, 'laugh': 4, 'lynx': 4, 'slowly': 4, 'detail': 4, 'mans': 4, 'removes': 4, 'seeds': 4, 'indian': 4, 'parked': 4, 'swim': 4, 'ethnicity': 4, 'vehicle': 4, 'mud': 4, 'shoreline': 4, 'whipped': 4, 'driver': 4, 'pose': 4, 'la': 4, 'smiles': 4, 'builder': 4, 'john': 4, 'goats': 4, 'needle': 4, 'decorated': 4, 'shelf': 4, 'escape': 4, 'climbs': 4, 'listen': 4, 'tiltof': 4, 'meditating': 4, 'moon': 4, 'artists': 4, 'grinder': 4, 'wildflowers': 4, 'searching': 4, 'mail': 4, 'rollercoaster': 4, 'paint': 4, 'mediumof': 4, 'gather': 4, 'aircraft': 4, 'carrier': 4, 'say': 4, 'opinion': 4, 'journalists': 4, 'ab': 4, 'vivacious': 4, 'takeaway': 4, 'kudu': 4, 'service': 4, 'flipping': 4, 'hiker': 4, 'throws': 4, 'cross': 4, 'passes': 4, 'rhino': 4, 'pull': 4, 'entering': 4, 'journey': 4, 'outdoorsk': 4, 'lovers': 4, 'lips': 4, 'electronic': 4, 'chemical': 4, 'experiment': 4, 'snowshoes': 4, 'snowboarder': 4, 'microscope': 4, 'energy': 4, 'fries': 4, 'california': 4, 'checked': 4, 'calves': 4, 'officer': 4, 'nearby': 4, 'vegetable': 4, 'lifestylek': 4, 'exterior': 4, 'thinking': 4, 'admires': 4, 'seagull': 4, 'store': 4, 'spectators': 4, 'pole': 4, 'dragon': 4, 'olive': 4, 'penguins': 4, 'aunt': 4, 'nieces': 4, 'marshland': 4, 'lounge': 4, 'muffins': 4, 'hole': 4, 'lighting': 4, 'thomas': 4, 'gorgeous': 4, 'trip': 4, 'grimacing': 4, 'riders': 4, 'tent': 4, 'multicolored': 4, 'thessaloniki': 4, 'august': 4, 'conducts': 4, 'otter': 4, 'railway': 4, 'motorcycles': 4, 'coca': 4, 'panningshowing': 4, 'cookie': 4, 'nurses': 4, 'pasta': 4, 'decorate': 4, 'map': 4, 'repair': 4, 'seats': 4, 'unhappy': 3, 'interesting': 3, 'flashing': 3, 'overdue': 3, 'crockery': 3, 'creation': 3, 'pottery': 3, 'asia': 3, 'potink': 3, 'condition': 3, 'dollies': 3, 'pollution': 3, 'pulling': 3, 'removing': 3, 'hug': 3, 'firefighters': 3, 'silver': 3, 'snowing': 3, 'selecting': 3, 'read': 3, 'backpack': 3, 'stop': 3, 'have': 3, 'puppies': 3, 'cockatoo': 3, 'fight': 3, 'texts': 3, 'tierra': 3, 'del': 3, 'fuego': 3, 'racial': 3, 'grenades': 3, 'earphones': 3, 'location': 3, 'ballerina': 3, 'garter': 3, 'staff': 3, 'module': 3, 'oahu': 3, 'lines': 3, 'online': 3, 'bushes': 3, 'haircut': 3, 'poker': 3, 'crashing': 3, 'scratching': 3, 'shimmering': 3, 'millennium': 3, 'stand': 3, 'discuss': 3, 'startup': 3, 'tying': 3, 'rope': 3, 'sail': 3, 'firewood': 3, 'atmosphere': 3, 'skies': 3, 'orchard': 3, 'rifle': 3, 'manhattan': 3, 'brushes': 3, 'tool': 3, 'sled': 3, 'historical': 3, 'epoch': 3, 'russian': 3, 'hills': 3, 'waitress': 3, 'playground': 3, 'smili': 3, 'styling': 3, 'drift': 3, 'incoming': 3, 'captain': 3, 'canon': 3, 'edited': 3, 'everglades': 3, 'beautician': 3, 'squad': 3, 'gangster': 3, 'brick': 3, 'answering': 3, 'spectacular': 3, 'vivid': 3, 'rest': 3, 'escalator': 3, 'trade': 3, 'grating': 3, 'pomegranate': 3, 'campaign': 3, 'signs': 3, 'rooftop': 3, 'agent': 3, 'satellite': 3, 'sculpture': 3, 'european': 3, 'capturing': 3, 'bottles': 3, 'boats': 3, 'atv': 3, 'hats': 3, 'escaped': 3, 'steadicamthrough': 3, 'curly': 3, 'snorkeling': 3, 'magpie': 3, 'buttons': 3, 'protective': 3, 'pile': 3, 'popcorn': 3, 'jam': 3, 'seminar': 3, 'motherhood': 3, 'sparkler': 3, 'turned': 3, 'transparent': 3, 'bucking': 3, 'loopwith': 3, 'blackmagic': 3, 'ursa': 3, 'mini': 3, 'tiltingshowing': 3, 'luscious': 3, 'ants': 3, 'promenade': 3, 'depth': 3, 'grain': 3, 'juan': 3, 'rico': 3, 'tossing': 3, 'dining': 3, 'clearing': 3, 'ancient': 3, 'muskets': 3, 'impatient': 3, 'albuquerque': 3, 'fiesta': 3, 'gesturing': 3, 'retrieving': 3, 'india': 3, 'trunk': 3, 'dipping': 3, 'pen': 3, 'niagara': 3, 'b': 3, 'luxurious': 3, 'grand': 3, 'sieve': 3, 'measured': 3, 'shelves': 3, 'bouquet': 3, 'mall': 3, 'seahorse': 3, 'design': 3, 'hawk': 3, 'cloth': 3, 'years': 3, 'gently': 3, 'blurry': 3, 'interior': 3, 'coast': 3, 'track': 3, 'pulls': 3, 'gears': 3, 'chain': 3, 'charging': 3, 'nol': 3, 'dealer': 3, 'museum': 3, 'dirty': 3, 'frenzy': 3, 'web': 3, 'paying': 3, 'castro': 3, 'quiet': 3, 'steaming': 3, 'respirator': 3, 'finished': 3, 'goes': 3, 'fjord': 3, 'baggage': 3, 'claim': 3, 'bean': 3, 'could': 3, 'member': 3, 'drums': 3, 'rubs': 3, 'pain': 3, 'property': 3, 'pedal': 3, 'pants': 3, 'korean': 3, 'slices': 3, 'wrack': 3, 'hen': 3, 'chicks': 3, 'rarotongo': 3, 'upper': 3, 'details': 3, 'billowing': 3, 'duty': 3, 'zone': 3, 'booking': 3, 'credit': 3, 'code': 3, 'bank': 3, 'flyfishing': 3, 'mixer': 3, 'frozen': 3, 'classroom': 3, 'deal': 3, 'hammering': 3, 'magic': 3, 'viewwater': 3, 'lakesailboats': 3, 'decorates': 3, 'departure': 3, 'chasing': 3, 'virginia': 3, 'basketballin': 3, 'toddler': 3, 'venice': 3, 'where': 3, 'sunsetk': 3, 'app': 3, 'telephone': 3, 'crete': 3, 'goggles': 3, 'france': 3, 'fossil': 3, 'bloomy': 3, 'sunshine': 3, 'luzhniki': 3, 'underside': 3, 'harrier': 3, 'elk': 3, 'hillside': 3, 'lounges': 3, 'rushing': 3, 'cool': 3, 'jay': 3, 'held': 3, 'dumping': 3, 'pedestrians': 3, 'excitement': 3, 'amount': 3, 'grown': 3, 'cows': 3, 'feasting': 3, 'sandhill': 3, 'teen': 3, 'bakery': 3, 'skincare': 3, 'keying': 3, 'radiologist': 3, 'monitors': 3, 'production': 3, 'melting': 3, 'cyclist': 3, 'redrock': 3, 'viewing': 3, 'hitting': 3, 'iron': 3, 'agency': 3, 'backlit': 3, 'newly': 3, 'poured': 3, 'dreidel': 3, 'putts': 3, 'lollipop': 3, 'juggles': 3, 'crazy': 3, 'nice': 3, 'biting': 3, 'candy': 3, 'dentistry': 3, 'glidingof': 3, 'areas': 3, 'finches': 3, 'human': 3, 'took': 3, 'javelin': 3, 'spear': 3, 'thrower': 3, 'kennedy': 3, 'yukon': 3, 'lifts': 3, 'volley': 3, 'spread': 3, 'sound': 3, 'role': 3, 'yet': 3, 'marlen': 3, 'khutsiev': 3, 'carousel': 3, 'eternal': 3, 'barn': 3, 'girlfriend': 3, 'environment': 3, 'motionfpsx': 3, 'packing': 3, 'colleague': 3, 'fixed': 3, 'till': 3, 'merry': 3, 'grove': 3, 'pair': 3, 'slopes': 3, 'forklift': 3, 'facial': 3, 'cleansing': 3, 'blazing': 3, 'buying': 3, 'pet': 3, 'snowshoeing': 3, 'narrow': 3, 'patrons': 3, 'shoulders': 3, 'drone': 3, 'bloom': 3, 'boss': 3, 'gallop': 3, 'eight': 3, 'central': 3, 'splashing': 3, 'treek': 3, 'joshua': 3, 'examining': 3, 'galilee': 3, 'surprise': 3, 'squeezing': 3, 'sisters': 3, 'overlooking': 3, 'perfect': 3, 'geese': 3, 'flips': 3, 'patio': 3, 'breakdancer': 3, 'shrimp': 3, 'lonely': 3, 'blanket': 3, 'curls': 3, 'cyclists': 3, 'serve': 3, 'seals': 3, 'olympic': 3, 'fans': 3, 'raise': 3, 'movement': 3, 'clownfish': 3, 'gorilla': 3, 'roadside': 3, 'kisses': 3, 'post': 3, 'overpass': 3, 'timelapsek': 3, 'find': 3, 'hanukia': 3, 'casting': 3, 'lit': 3, 'airplanes': 3, 'grater': 3, 'swings': 3, 'journalist': 3, 'crab': 3, 'crustacean': 3, 'muesli': 3, 'romanian': 3, 'visiting': 3, 'cola': 3, 'unhealth': 3, 'theme': 3, 'painter': 3, 'chefs': 3, 'sm': 3, 'flyby': 3, 'arguing': 3, 'snowshoe': 3, 'dune': 3, 'move': 3, 'afternoon': 3, 'blueprints': 3, 'places': 3, 'entrance': 3, 'italy': 3, 'venetian': 3, 'practice': 3, 'bath': 3, 'end': 3, 'paints': 3, 'monastery': 3, 'sharing': 3, 'apollo': 3, 'uphill': 3, 'futuristic': 3, 'corruption': 3, 'excavator': 3, 'seafront': 3, 'blinking': 3, 'cold': 3, 'boxing': 3, 'circling': 3, 'detaching': 3, 'county': 3, 'manual': 3, 'marina': 3, 'farmers': 3, 'exhibition': 3, 'metallic': 3, 'jefferson': 3, 'stack': 3, 'climb': 3, 'sometimes': 3, 'xc': 3, 'vr': 3, 'metalworking': 3, 'processing': 3, 'pre': 3, 'stretch': 3, 'ipad': 3, 'dollar': 3, 'delivery': 3, 'flags': 3, 'sending': 3, 'perch': 3, 'bass': 3, 'leading': 3, 'whiteboard': 3, 'masks': 3, 'pure': 3, 'rv': 3, 'contractor': 3, 'windsurfing': 3, 'straightens': 3, 'applauding': 3, 'ca': 3, 'dad': 3, 'plantation': 3, 'turquoise': 3, 'mechanical': 3, 'pride': 3, 'miami': 3, 'athletic': 3, 'lip': 3, 'liner': 3, 'lovatnet': 3, 'defocused': 3, 'vast': 3, 'gloves': 3, 'elevator': 3, 'bleachers': 3, 'cornflakes': 3, 'creature': 3, 'freight': 3, 'british': 3, 'columbia': 3, 'rollers': 3, 'sneaks': 3, 'barefoot': 3, 'researcher': 3, 'support': 3, 'tells': 3, 'ashkelon': 3, 'seawater': 3, 'reverse': 3, 'osmosis': 3, 'medicine': 3, 'basil': 3, 'surf': 3, 'co': 3, 'arched': 3, 'granddaughter': 3, 'historic': 3, 'repelling': 3, 'easter': 3, 'egg': 3, 'roulette': 2, 'dam': 2, 'burn': 2, 'tweeting': 2, 'comes': 2, 'twig': 2, 'report': 2, 'petco': 2, 'charlottenburg': 2, 'castle': 2, 'smog': 2, 'translucent': 2, 'subway': 2, 'flaming': 2, 'fan': 2, 'scaling': 2, 'reindeer': 2, 'caught': 2, 'tsa': 2, 'roots': 2, 'lago': 2, 'roca': 2, 'axe': 2, 'dodger': 2, 'contemporary': 2, 'shown': 2, 'displays': 2, 'backgrounds': 2, 'serves': 2, 'foliage': 2, 'platform': 2, 'slavery': 2, 'local': 2, 'starfish': 2, 'confident': 2, 'bo': 2, 'figures': 2, 'rooster': 2, 'muscles': 2, 'coastal': 2, 'trackingshowing': 2, 'hardworker': 2, 'district': 2, 'transit': 2, 'transportation': 2, 'mill': 2, 'snowcapped': 2, 'surprising': 2, 'granddaughters': 2, 'chairlift': 2, 'job': 2, 'organizing': 2, 'arranging': 2, 'placement': 2, 'stuff': 2, 'mediterranean': 2, 'rice': 2, 'nori': 2, 'puffy': 2, 'monkeys': 2, 'grooming': 2, 'lockers': 2, 'vantage': 2, 'swat': 2, 'chanuka': 2, 'aiming': 2, 'skating': 2, 'clears': 2, 'firek': 2, 'carriage': 2, 'foots': 2, 'colomna': 2, 'song': 2, 'horseback': 2, 'tail': 2, 'dawn': 2, 'cocoa': 2, 'dreaming': 2, 'migration': 2, 'yogurt': 2, 'hay': 2, 'morninig': 2, 'plum': 2, 'asphalt': 2, 'exits': 2, 'shoveling': 2, 'windowsill': 2, 'roost': 2, 'lid': 2, 'handing': 2, 'wireless': 2, 'bored': 2, 'suburban': 2, 'nap': 2, 'sliderof': 2, 'medication': 2, 'santas': 2, 'brow': 2, 'scarf': 2, 'strange': 2, 'snacking': 2, 'praying': 2, 'mosque': 2, 'wolf': 2, 'chirping': 2, 'system': 2, 'grinds': 2, 'angular': 2, 'grinding': 2, 'wading': 2, 'follow': 2, 'whistle': 2, 'northern': 2, 'arizona': 2, 'trolley': 2, 'backs': 2, 'mo': 2, 'rush': 2, 'your': 2, 'barber': 2, 'clients': 2, 'beard': 2, 'rights': 2, 'washes': 2, 'comfortable': 2, 'bumper': 2, 'hairstyle': 2, 'printer': 2, 'doors': 2, 'swan': 2, 'warning': 2, 'authentic': 2, 'challenging': 2, 'conditions': 2, 'bit': 2, 'maybe': 2, 'filing': 2, 'knees': 2, 'fork': 2, 'moab': 2, 'turret': 2, 'munching': 2, 'rockets': 2, 'spanish': 2, 'harley': 2, 'number': 2, 'squirrel': 2, 'pages': 2, 'bookshelves': 2, 'literature': 2, 'turn': 2, 'copy': 2, 'strawberry': 2, 'lock': 2, 'volga': 2, 'toboggan': 2, 'paintings': 2, 'gates': 2, 'shovel': 2, 'kayaking': 2, 'beautyof': 2, 'carrots': 2, 'womanfrom': 2, 'crow': 2, 'buy': 2, 'streaming': 2, 'wifes': 2, 'pregnancy': 2, 'offof': 2, 'motorcyclists': 2, 'mortgage': 2, 'designers': 2, 'sailboats': 2, 'tour': 2, 'waimanalo': 2, 'types': 2, 'variety': 2, 'choice': 2, 'prices': 2, 'land': 2, 'sarong': 2, 'wrangler': 2, 'fountain': 2, 'smi': 2, 'weather': 2, 'ambulance': 2, 'wash': 2, 'pipe': 2, 'twin': 2, 'retro': 2, 'styled': 2, 'cafek': 2, 'windmills': 2, 'stroking': 2, 'feels': 2, 'spend': 2, 'striated': 2, 'guinea': 2, 'pig': 2, 'concertk': 2, 'dof': 2, 'explosion': 2, 'coconut': 2, 'palms': 2, 'tropics': 2, 'loader': 2, 'planes': 2, 'smith': 2, 'guns': 2, 'employee': 2, 'meadowlands': 2, 'trumpeting': 2, 'wildebeest': 2, 'leg': 2, 'punta': 2, 'cana': 2, 'dominican': 2, 'republic': 2, 'novemer': 2, 'smock': 2, 'canvasses': 2, 'supplies': 2, 'elbow': 2, 'pennsylvania': 2, 'pagosa': 2, 'special': 2, 'offshowing': 2, 'ears': 2, 'helicopters': 2, 'jets': 2, 'uss': 2, 'sprayer': 2, 'daydreaming': 2, 'gathered': 2, 'tiny': 2, 'cereals': 2, 'juiceink': 2, 'sandwich': 2, 'financial': 2, 'change': 2, 'usa': 2, 'butterflies': 2, 'seas': 2, 'musical': 2, 'businesslady': 2, 'injured': 2, 'knee': 2, 'sooth': 2, 'smokestack': 2, 'glamorous': 2, 'advance': 2, 'treetops': 2, 'billed': 2, 'corella': 2, 'headlights': 2, 'swarming': 2, 'caribbean': 2, 'tourism': 2, 'shops': 2, 'gadgets': 2, 'objects': 2, 'dollywoman': 2, 'epic': 2, 'wintertime': 2, 'fashion': 2, 'temple': 2, 'staircase': 2, 'second': 2, 'enter': 2, 'data': 2, 'furniture': 2, 'dips': 2, 'fatherping': 2, 'starts': 2, 'attaching': 2, 'wires': 2, 'loading': 2, 'hold': 2, 'elementary': 2, 'fixing': 2, 'tie': 2, 'blooming': 2, 'europe': 2, 'cart': 2, 'bermuda': 2, 'pierpanorama': 2, 'cardio': 2, 'motorboat': 2, 'molting': 2, 'husband': 2, 'spiraling': 2, 'ha': 2, 'rear': 2, 'tubes': 2, 'newest': 2, 'submarine': 2, 'minnesota': 2, 'underneath': 2, 'steady': 2, 'songs': 2, 'champangne': 2, 'fireplacek': 2, 'coats': 2, 'arabian': 2, 'gulf': 2, 'irrigates': 2, 'greenhouse': 2, 'beaver': 2, 'defense': 2, 'combine': 2, 'yoghurt': 2, 'lazy': 2, 'dust': 2, 'chamonix': 2, 'alps': 2, 'relaxation': 2, 'cardboard': 2, 'expecting': 2, 'carpet': 2, 'dries': 2, 'honey': 2, 'lightening': 2, 'barrell': 2, 'takeoff': 2, 'scoreboard': 2, 'tries': 2, 'hunter': 2, 'employed': 2, 'roll': 2, 'chopsticks': 2, 'soy': 2, 'mascara': 2, 'gamepads': 2, 'has': 2, 'jetty': 2, 'handsk': 2, 'lakeside': 2, 'pulse': 2, 'meerkat': 2, 'crayfish': 2, 'milking': 2, 'pony': 2, 'joy': 2, 'sportsman': 2, 'jibover': 2, 'forward': 2, 'unseen': 2, 'catch': 2, 'roping': 2, 'sketches': 2, 'radio': 2, 'jeweller': 2, 'tin': 2, 'ferry': 2, 'like': 2, 'spectacles': 2, 'us': 2, 'i': 2, 'valleys': 2, 'lap': 2, 'walkway': 2, 'beneath': 2, 'pump': 2, 'naturalist': 2, 'combat': 2, 'bookshelf': 2, 'graceful': 2, 'fine': 2, 'parchment': 2, 'attached': 2, 'teddy': 2, 'scarred': 2, 'swooping': 2, 'stepping': 2, 'lunar': 2, 'version': 2, 'landmarks': 2, 'cereal': 2, 'maldives': 2, 'expedition': 2, 'antarctica': 2, 'sledge': 2, 'watched': 2, 'orbiting': 2, 'unicycle': 2, 'single': 2, 'throw': 2, 'inserting': 2, 'plug': 2, 'showroom': 2, 'atlantis': 2, 'dumbbell': 2, 'sunken': 2, 'toppled': 2, 'forehand': 2, 'was': 2, 'rugged': 2, 'spires': 2, 'fathers': 2, 'impalas': 2, 'welding': 2, 'alpine': 2, 'embrace': 2, 'virgin': 2, 'de': 2, 'sparklers': 2, 'actor': 2, 'tolstoy': 2, 'kennedys': 2, 'gravesite': 2, 'owl': 2, 'tents': 2, 'tallinn': 2, 'estonia': 2, 'acupuncture': 2, 'performed': 2, 'present': 2, 'sill': 2, 'stacks': 2, 'lax': 2, 'turkey': 2, 'vnukovo': 2, 'huddle': 2, 'snowboarders': 2, 'decorations': 2, 'communicate': 2, 'no': 2, 'vaping': 2, 'wake': 2, 'spending': 2, 'wet': 2, 'roses': 2, 'easy': 2, 'trick': 2, 'october': 2, 'garland': 2, 'depicting': 2, 'ear': 2, 't': 2, 'tilting': 2, 'ww': 2, 'frustrated': 2, 'wintery': 2, 'handicapped': 2, 'leash': 2, 'valentines': 2, 'screeming': 2, 'start': 2, 'coiled': 2, 'onion': 2, 'customers': 2, 'agents': 2, 'skyscraper': 2, 'department': 2, 'cooks': 2, 'smil': 2, 'attack': 2, 'caterpillar': 2, 'comforting': 2, 'blossoms': 2, 'charleston': 2, 'fastening': 2, 'phones': 2, 'came': 2, 'finale': 2, 'reflected': 2, 'bringing': 2, 'frantic': 2, 'offering': 2, 'ring': 2, 'tape': 2, 'intense': 2, 'sandy': 2, 'twists': 2, 'womanink': 2, 'seller': 2, 'headache': 2, 'here': 2, 'oriental': 2, 'orthopedic': 2, 'navajo': 2, 'barista': 2, 'begins': 2, 'shake': 2, 'bandana': 2, 'simmered': 2, 'saucepan': 2, 'mens': 2, 'lays': 2, 'shade': 2, 'active': 2, 'lecture': 2, 'match': 2, 'piggy': 2, 'case': 2, 'karate': 2, 'longue': 2, 'seascape': 2, 'arc': 2, 'triumph': 2, 'outisde': 2, 'march': 2, 'barley': 2, 'slide': 2, 'architectural': 2, 'bucket': 2, 'workouts': 2, 'astronauts': 2, 'masseuse': 2, 'dumbbells': 2, 'celebrate': 2, 'sweater': 2, 'beads': 2, 'topical': 2, 'saltwater': 2, 'anemonefish': 2, 'massive': 2, 'draft': 2, 'accidently': 2, 'chops': 2, 'scavenging': 2, 'loudspeaker': 2, 'antigua': 2, 'chiloe': 2, 'cuts': 2, 'goal': 2, 'chews': 2, 'cud': 2, 'ornaments': 2, 'dropper': 2, 'latte': 2, 'blueprint': 2, 'bills': 2, 'sings': 2, 'misty': 2, 'crying': 2, 'wades': 2, 'flyover': 2, 'shoots': 2, 'profile': 2, 'handheldof': 2, 'bloodpressure': 2, 'backpacker': 2, 'moutains': 2, 'liquid': 2, 'starry': 2, 'poolside': 2, 'grabbing': 2, 'snowstorm': 2, 'squid': 2, 'rainbow': 2, 'flashlights': 2, 'buggy': 2, 'swims': 2, 'el': 2, 'mingling': 2, 'formation': 2, 'cigar': 2, 'topography': 2, 'flowing': 2, 'waiter': 2, 'jerusalem': 2, 'countries': 2, 'roadway': 2, 'paraglider': 2, 'snowplows': 2, 'lone': 2, 'pleasure': 2, 'windmill': 2, 'freeway': 2, 'windy': 2, 'departing': 2, 'played': 2, 'scrolling': 2, 'hitch': 2, 'jibas': 2, 'kirillov': 2, 'wire': 2, 'charts': 2, 'performer': 2, 'aquamarine': 2, 'appear': 2, 'cant': 2, 'chickens': 2, 'rubber': 2, 'heels': 2, 'dance': 2, 'coloradok': 2, 'thrown': 2, 'alligator': 2, 'ecu': 2, 'smelling': 2, 'cabinet': 2, 'daily': 2, 'routine': 2, 'university': 2, 'hispanic': 2, 'luxuary': 2, 'scattered': 2, 'constructor': 2, 'cheese': 2, 'determined': 2, 'stocking': 2, 'slot': 2, 'tripod': 2, 'directions': 2, 'zoomed': 2, 'shaping': 2, 'eyebrows': 2, 'smooth': 2, 'bugs': 2, 'powell': 2, 'domestic': 2, 'screaming': 2, 'travelers': 2, 'watermelon': 2, 'batter': 2, 'pitch': 2, 'bat': 2, 'catcher': 2, 'crouching': 2, 'kettle': 2, 'fishes': 2, 'vulture': 2, 'rinsing': 2, 'campus': 2, 'chess': 2, 'picks': 2, 'chips': 2, 'promoting': 2, 'elderly': 2, 'yachts': 2, 'ramp': 2, 'hush': 2, 'grapes': 2, 'trackingfocusing': 2, 'carried': 2, 'mechanism': 2, 'diary': 2, 'gardenk': 2, 'printed': 2, 'materials': 2, 'gentleman': 2, 'aitutaki': 2, 'tires': 2, 'english': 2, 'collecting': 2, 'banknote': 2, 'tickets': 2, 'debit': 2, 'jar': 2, 'shacking': 2, 'ink': 2, 'redwood': 2, 'placing': 2, 'winding': 2, 'waste': 2, 'dollythrough': 2, 'crimson': 2, 'prey': 2, 'sms': 2, 'shine': 2, 'baltic': 2, 'wintry': 2, 'spreading': 2, 'hurghada': 2, 'egypt': 2, 'lined': 2, 'chart': 2, 'towel': 2, 'basin': 2, 'worried': 2, 'mosfilm': 2, 'sited': 2, 'worship': 2, 'ripples': 2, 'playingwith': 2, 'compass': 2, 'barbell': 2, 'still': 2, 'trails': 2, 'cups': 2, 'stares': 2, 'beverage': 2, 'warthog': 2, 'ge': 2, 'isolated': 2, 'harbork': 2, 'ginger': 2, 'disco': 2, 'backhoe': 2, 'baboon': 2, 'e': 2, 'stealth': 2, 'bomber': 2, 'firework': 2, 'mexico': 2, 'vail': 2, 'bokeh': 2, 'patterns': 2, 'newborn': 2, 'wrapped': 2, 'verge': 2, 'ideas': 2, 'worldwide': 2, 'brightly': 2, 'painted': 2, 'lovek': 2, 'computers': 2, 'dig': 2, 'holes': 2, 'spade': 2, 'walker': 2, 'cellphones': 2, 'remote': 2, 'strength': 2, 'stomach': 2, 'hanger': 2, 'gives': 2, 'craft': 2, 'best': 2, 'frutillar': 2, 'mountainside': 2, 'rejoices': 2, 'pub': 2, 'nestled': 2, 'counting': 2, 'osprey': 2, 'refueling': 2, 'fires': 2, 'relaxes': 2, 'tide': 2, 'bruschettas': 2, 'pastry': 2, 'smilin': 2, 'far': 2, 'burgers': 2, 'recording': 2, 'enters': 2, 'reception': 2, 'combines': 2, 'sunflower': 2, 'hikes': 2, 'jesus': 2, 'eyeglasses': 2, 'discussion': 2, 'haired': 2, 'workplace': 2, 'hunting': 2, 'than': 2, 'vegetation': 2, 'tongs': 2, 'fluttering': 2, 'fit': 2, 'amsterdam': 2, 'holland': 2, 'netherl': 2, 'viewk': 2, 'bottom': 2, 'alcoholic': 2, 'pierced': 2, 'diver': 2, 'scenes': 2, 'honor': 2, 'procedure': 2, 'c': 2, 'swimsuits': 2, 'xmas': 2, 'bacon': 2, 'monica': 2, 'icy': 2, 'wade': 2, 'orthopaedist': 2, 'shoe': 2, 'propeller': 2, 'guided': 2, 'parachute': 2, 'reach': 2, 'puddle': 2, 'mykonos': 2, 'performs': 2, 'chi': 2, 'kittiwakes': 2, 'clapping': 2, 'skateboard': 2, 'lumber': 2, 'babies': 2, 'temples': 2, 'assorted': 2, 'cave': 2, 'digging': 2, 'cutter': 2, 'thai': 2, 'ordering': 2, 'neighborhood': 2, 'hollywood': 2, 'rusty': 2, 'sewing': 2, 'teeth': 2, 'rhinoceros': 2, 'navigation': 2, 'disc': 2, 'fat': 2, 'droplets': 2, 'discovery': 2, 'dropping': 2, 'fanning': 2, 'vineyard': 2, 'relax': 2, 'oral': 2, 'hygiene': 2, 'panels': 2, 'reenactor': 2, 'coastline': 2, 'oceanarium': 2, 'burger': 2, 'musket': 2, 'sh': 2, 'racket': 2, 'pets': 2, 'sitter': 2, 'alsatian': 2, 'aisen': 2, 'chacabuco': 2, 'assembly': 2, 'springtime': 2, 'hovers': 1, 'hoover': 1, 'conveyor': 1, 'racks': 1, 'released': 1, 'barren': 1, 'ruins': 1, 'hartebeest': 1, 'stroller': 1, 'bounding': 1, 'schloss': 1, 'illuminate': 1, 'upward': 1, 'berlin': 1, 'germa': 1, 'baskets': 1, 'pounds': 1, 'fencepost': 1, 'intersectionk': 1, 'north': 1, 'nordkapp': 1, 'pat': 1, 'downk': 1, 'glare': 1, 'coals': 1, 'protrude': 1, 'eroded': 1, 'chopped': 1, 'parking': 1, 'sheik': 1, 'beyond': 1, 'seating': 1, 'schedule': 1, 'aiport': 1, 'foggy': 1, 'chains': 1, 'galloping': 1, 'bend': 1, 'vermilion': 1, 'flycatcher': 1, 'leafy': 1, 'coils': 1, 'mate': 1, 'parachutes': 1, 'draws': 1, 'geometrical': 1, 'rapidswith': 1, 'abseiling': 1, 'ropes': 1, 'scale': 1, 'vertical': 1, 'barbershop': 1, 'dominate': 1, 'chilean': 1, 'nose': 1, 'hanky': 1, 'ill': 1, 'smartphoneis': 1, 'steers': 1, 'enclosed': 1, 'lioness': 1, 'ethereal': 1, 'glow': 1, 'drawshoot': 1, 'nursery': 1, 'plasticine': 1, 'childern': 1, 'bobcat': 1, 'classic': 1, 'electricians': 1, 'transformer': 1, 'blueptints': 1, 'weaving': 1, 'mussels': 1, 'cuisine': 1, 'dusty': 1, 'silhouetterifle': 1, 'wheatfield': 1, 'column': 1, 'confers': 1, 'donats': 1, 'handshake': 1, 'dissolving': 1, 'toronto': 1, 'deli': 1, 'rink': 1, 'bryant': 1, 'christm': 1, 'dragging': 1, 'waling': 1, 'sunbeam': 1, 'underground': 1, 'beachk': 1, 'farms': 1, 'happily': 1, 'humorous': 1, 'portraitof': 1, 'schoolbus': 1, 'continental': 1, 'downof': 1, 'administering': 1, 'fractional': 1, 'resurface': 1, 'rejuvenate': 1, 'wagging': 1, 'rustic': 1, 'tranquillity': 1, 'kittwakes': 1, 'package': 1, 'aubergine': 1, 'upset': 1, 'problem': 1, 'flattening': 1, 'mazefield': 1, 'found': 1, 'shell': 1, 'cyan': 1, 'emracing': 1, 'expectation': 1, 'circle': 1, 'drops': 1, 'yacht': 1, 'felling': 1, 'anhinga': 1, 'offcapturing': 1, 'reeling': 1, 'sterilizer': 1, 'cosmetological': 1, 'roadwork': 1, 'gunfight': 1, 'squats': 1, 'canada': 1, 'honking': 1, 'raising': 1, 'windsurf': 1, 'sailboard': 1, 'rotation': 1, 'steel': 1, 'raspberries': 1, 'babyboy': 1, 'surroundings': 1, 'pyongshong': 1, 'pyongyang': 1, 'celebrations': 1, 'lumberjack': 1, 'wait': 1, 'lupines': 1, 'england': 1, 'bunch': 1, 'saying': 1, 'readings': 1, 'handling': 1, 'dabs': 1, 'barracuda': 1, 'chilling': 1, 'quickly': 1, 'guitars': 1, 'sids': 1, 'inflatable': 1, 'mattress': 1, 'houseboat': 1, 'footbridge': 1, 'vultures': 1, 'birch': 1, 'atd': 1, 'rotate': 1, 'easily': 1, 'tech': 1, 'trends': 1, 'expo': 1, 'roadk': 1, 'anonymous': 1, 'sprout': 1, 'wildebeests': 1, 'dolphins': 1, 'wanting': 1, 'honeymoon': 1, 'abraham': 1, 'lincoln': 1, 'emancipation': 1, 'liteiny': 1, 'coffin': 1, 'citycan': 1, 'insert': 1, 'content': 1, 'rejecting': 1, 'want': 1, 'letting': 1, 'winek': 1, 'trimming': 1, 'structure': 1, 'expertise': 1, 'character': 1, 'personality': 1, 'dreadlocks': 1, 'tattoos': 1, 'shells': 1, 'circular': 1, 'saw': 1, 'legionary': 1, 'trampoline': 1, 'amusement': 1, 'imitation': 1, 'bolt': 1, 'steadycome': 1, 'plasma': 1, 'dismounted': 1, 'splitting': 1, 'staticand': 1, 'panningtracking': 1, 'greek': 1, 'dofk': 1, 'launchk': 1, 'mouse': 1, 'girs': 1, 'pavilion': 1, 'grandparents': 1, 'facewash': 1, 'sparks': 1, 'ignite': 1, 'fringed': 1, 'benches': 1, 'wasabi': 1, 'installing': 1, 'parabolic': 1, 'antennae': 1, 'booster': 1, 'rise': 1, 'charmer': 1, 'tempanos': 1, 'tampanos': 1, 'iceberg': 1, 'flow': 1, 'sarcastic': 1, 'leans': 1, 'handlebar': 1, 'drugin': 1, 'pharmacy': 1, 'added': 1, 'afterwards': 1, 'identicalwith': 1, 'stss': 1, 'nuts': 1, 'antenna': 1, 'ii': 1, 'pinguin': 1, 'raised': 1, 'mineral': 1, 'bubbler': 1, 'beared': 1, 'breather': 1, 'herbs': 1, 'sets': 1, 'elaborate': 1, 'hermit': 1, 'crabs': 1, 'caws': 1, 'zoomi': 1, 'scissors': 1, 'stub': 1, 'drivingk': 1, 'cheeses': 1, 'kinds': 1, 'greenfieldfrom': 1, 'oceans': 1, 'octopus': 1, 'crawling': 1, 'creatures': 1, 'tablefood': 1, 'meet': 1, 'spins': 1, 'dingle': 1, 'urchins': 1, 'eco': 1, 'transport': 1, 'kickitat': 1, 'poles': 1, 'smov': 1, 'hippo': 1, 'source': 1, 'dealing': 1, 'spoons': 1, 'dairy': 1, 'baring': 1, 'every': 1, 'emergency': 1, 'vehicles': 1, 'cofa': 1, 'strips': 1, 'latin': 1, 'poncho': 1, 'pannin': 1, 'blur': 1, 'closi': 1, 'tiramisu': 1, 'daddy': 1, 'sacks': 1, 'mojito': 1, 'chemicals': 1, 'product': 1, 'geiranger': 1, 'itchy': 1, 'shiny': 1, 'loft': 1, 'stereo': 1, 'split': 1, 'stewardess': 1, 'rancher': 1, 'ease': 1, 'joint': 1, 'glove': 1, 'flashlight': 1, 'forces': 1, 'married': 1, 'brainwave': 1, 'controlled': 1, 'depending': 1, 'mood': 1, 'tip': 1, 'bacalar': 1, 'figher': 1, 'midway': 1, 'boarding': 1, 'nevada': 1, 'steep': 1, 'wooded': 1, 'wheels': 1, 'crevice': 1, 'perching': 1, 'firefight': 1, 'dragonfly': 1, 'footpath': 1, 'gondola': 1, 'youg': 1, 'ironing': 1, 'cupsp': 1, 'flurry': 1, 'cherries': 1, 'tnen': 1, 'pigeon': 1, 'release': 1, 'coconuts': 1, 'tandem': 1, 'scratch': 1, 'surprises': 1, 'roast': 1, 'escapes': 1, 'voter': 1, 'responsibilities': 1, 'havana': 1, 'cuba': 1, 'cuban': 1, 'stalls': 1, 'souvenirs': 1, 'handicrafts': 1, 'posters': 1, 'buys': 1, 'cheeking': 1, 'account': 1, 'pod': 1, 'cameraman': 1, 'greet': 1, 'returns': 1, 'workday': 1, 'freelance': 1, 'geek': 1, 'computing': 1, 'grunge': 1, 'cloths': 1, 'parquetcolor': 1, 'disabled': 1, 'laboring': 1, 'storage': 1, 'lost': 1, 'zips': 1, 'peoples': 1, 'just': 1, 'bought': 1, 'atm': 1, 'pectoral': 1, 'wellness': 1, 'kiwi': 1, 'overworked': 1, 'capped': 1, 'raindrops': 1, 'dads': 1, 'verticalof': 1, 'sparlking': 1, 'settled': 1, 'skiiers': 1, 'murder': 1, 'lad': 1, 'engineering': 1, 'aside': 1, 'woolly': 1, 'lemonade': 1, 'soldierin': 1, 'tank': 1, 'roasted': 1, 'seabirds': 1, 'mannequin': 1, 'situps': 1, 'abdominal': 1, 'commercial': 1, 'doha': 1, 'capital': 1, 'qatar': 1, 'decorative': 1, 'harvests': 1, 'raging': 1, 'draw': 1, 'diagrams': 1, 'tubing': 1, 'toes': 1, 'been': 1, 'polished': 1, 'rubbed': 1, 'creates': 1, 'sell': 1, 'aegean': 1, 'mont': 1, 'blanc': 1, 'haute': 1, 'savoie': 1, 'hakafot': 1, 'sokkot': 1, 'prestige': 1, 'displayed': 1, 'neatly': 1, 'platfrom': 1, 'chainsawing': 1, 'stingray': 1, 'intenet': 1, 'sack': 1, 'kitten': 1, 'avb': 1, 'westernpistolsfiring': 1, 'cosmeticians': 1, 'issues': 1, 'supermarket': 1, 'buffaloes': 1, 'creepy': 1, 'hollow': 1, 'rome': 1, 'colosseum': 1, 'appetizing': 1, 'sandwiches': 1, 'spray': 1, 'upwards': 1, 'topless': 1, 'expression': 1, 'neighbours': 1, 'acupuncturist': 1, 'shannon': 1, 'banagher': 1, 'harbour': 1, 'knossos': 1, 'propylaea': 1, 'palace': 1, 'peeing': 1, 'reporting': 1, 'stranding': 1, 'clink': 1, 'strings': 1, 'twinkling': 1, 'sportswoman': 1, 'riverside': 1, 'loo': 1, 'docks': 1, 'skis': 1, 'robotic': 1, 'vet': 1, 'shape': 1, 'staten': 1, 'keypad': 1, 'target': 1, 'chant': 1, 'spraying': 1, 'organic': 1, 'insecticide': 1, 'thiscould': 1, 'topic': 1, 'application': 1, 'foilage': 1, 'duckling': 1, 'hitchhiking': 1, 'nothing': 1, 'channels': 1, 'dome': 1, 'homes': 1, 'fishermanfrom': 1, 'culvert': 1, 'whistler': 1, 'molding': 1, 'goat': 1, 'waterskiing': 1, 'magnifying': 1, 'puffer': 1, 'tetraodontidae': 1, 'shacks': 1, 'lily': 1, 'loon': 1, 'adu': 1, 'intimateof': 1, 'paintbrush': 1, 'beak': 1, 'splittig': 1, 'teenage': 1, 'snowfallk': 1, 'piont': 1, 'electronical': 1, 'labor': 1, 'protest': 1, 'grandmothers': 1, 'entertain': 1, 'panningcapturing': 1, 'waits': 1, 'cane': 1, 'chiron': 1, 'ships': 1, 'carry': 1, 'moored': 1, 'ushuaia': 1, 'wint': 1, 'dummy': 1, 'mono': 1, 'van': 1, 'transmits': 1, 'events': 1, 'satellites': 1, 'broadcast': 1, 'powered': 1, 'grenade': 1, 'extending': 1, 'amazon': 1, 'mission': 1, 'shipwreck': 1, 'cameraon': 1, 'founded': 1, 'fotographer': 1, 'brace': 1, 'pincers': 1, 'boardroom': 1, 'beaming': 1, 'waimea': 1, 'wristwatch': 1, 'sunblock': 1, 'live': 1, 'shrine': 1, 'cascada': 1, 'iconography': 1, 'lourdes': 1, 'grotto': 1, 'prunes': 1, 'welcoming': 1, 'winkling': 1, 'peeks': 1, 'alexey': 1, 'taxi': 1, 'moma': 1, 'spiti': 1, 'himachal': 1, 'pradesh': 1, 'womens': 1, 'thanksgiving': 1, 'sneaky': 1, 'batteries': 1, 'vine': 1, 'tosses': 1, 'limes': 1, 'shilouetted': 1, 'steamboat': 1, 'breakfastink': 1, 'tricks': 1, 'storefront': 1, 'eyesight': 1, 'pelmeni': 1, 'stuffing': 1, 'catfish': 1, 'search': 1, 'defocusedof': 1, 'visible': 1, 'unable': 1, 'stirs': 1, 'tender': 1, 'asana': 1, 'sandpipers': 1, 'eggs': 1, 'machines': 1, 'preschooler': 1, 'zoo': 1, 'plaka': 1, 'editorial': 1, 'gone': 1, 'weed': 1, 'pistoltwirl': 1, 'businessmeeting': 1, 'dnipro': 1, 'ukraine': 1, 'closeof': 1, 'cones': 1, 'skilled': 1, 'muffs': 1, 'fisheye': 1, 'peaches': 1, 'bucked': 1, 'billboards': 1, 'jumbotrons': 1, 'reaches': 1, 'icelandic': 1, 'piggybacking': 1, 'hyper': 1, 'carrot': 1, 'sportwoman': 1, 'elated': 1, 'joking': 1, 'flutes': 1, 'bluff': 1, 'hydrangeas': 1, 'fenced': 1, 'birdcage': 1, 'opens': 1, 'freeze': 1, 'access': 1, 'things': 1, 'cafeteria': 1, 'blooms': 1, 'named': 1, 'aurelia': 1, 'gossiping': 1, 'reprimand': 1, 'furious': 1, 'sticks': 1, 'tongue': 1, 'granfather': 1, 'thoughful': 1, 'garlic': 1, 'boardfrom': 1, 'jelly': 1, 'shocked': 1, 'exepnsive': 1, 'skrimmaging': 1, 'pokermoneybillfold': 1, 'hula': 1, 'tallin': 1, 'routes': 1, 'strokes': 1, 'malnourished': 1, 'load': 1, 'virus': 1, 'program': 1, 'cyber': 1, 'chic': 1, 'balkony': 1, 'official': 1, 'races': 1, 'parachuters': 1, 'bayonet': 1, 'rifles': 1, 'enlighting': 1, 'rings': 1, 'layers': 1, 'navyfighters': 1, 'teens': 1, 'mary': 1, 'christ': 1, 'flanked': 1, 'saints': 1, 'net': 1, 'sockeye': 1, 'avoiding': 1, 'sharks': 1, 'files': 1, 'doorway': 1, 'povof': 1, 'twisting': 1, 'taxidermy': 1, 'siamese': 1, 'startled': 1, 'alert': 1, 'patagonia': 1, 'associate': 1, 'middleof': 1, 'mooses': 1, 'peering': 1, 'ct': 1, 'laso': 1, 'proposing': 1, 'loved': 1, 'reacts': 1, 'scared': 1, 'horror': 1, 'ind': 1, 'measure': 1, 'spin': 1, 'danger': 1, 'berries': 1, 'beetle': 1, 'narrows': 1, 'date': 1, 'machinegunbeltammo': 1, 'mats': 1, 'azure': 1, 'getaway': 1, 'paradise': 1, 'sardines': 1, 'backyard': 1, 'stairway': 1, 'bengal': 1, 'migraine': 1, 'fife': 1, 'dispenser': 1, 'lowering': 1, 'scanning': 1, 'creating': 1, 'footstep': 1, 'fitting': 1, 'orthotics': 1, 'continuous': 1, 'parkour': 1, 'choke': 1, 'bureau': 1, 'reclamationk': 1, 'carcass': 1, 'strolling': 1, 'espresso': 1, 'freezes': 1, 'sparkly': 1, 'coat': 1, 'physician': 1, 'flows': 1, 'atop': 1, 'flakes': 1, 'leisure': 1, 'vs': 1, 'businesscouple': 1, 'backpacking': 1, 'moray': 1, 'well': 1, 'rail': 1, 'whiskey': 1, 'form': 1, 'hearts': 1, 'fishers': 1, 'erriff': 1, 'aasleagh': 1, 'curb': 1, 'melon': 1, 'backgroun': 1, 'regular': 1, 'ledge': 1, 'zero': 1, 'gravity': 1, 'peace': 1, 'chimney': 1, 'retriever': 1, 'rehabilitated': 1, 'snorkeler': 1, 'cardigan': 1, 'hazy': 1, 'nails': 1, 'pedicure': 1, 'floatation': 1, 'devices': 1, 'chats': 1, 'lush': 1, 'copyspace': 1, 'models': 1, 'automobile': 1, 'stranded': 1, 'checks': 1, 'reconstruction': 1, 'competition': 1, 'helped': 1, 'puzzled': 1, 'sprays': 1, 'parks': 1, 'wider': 1, 'popping': 1, 'cargo': 1, 'excursion': 1, 'leave': 1, 'spiny': 1, 'steak': 1, 'ozernaya': 1, 'blog': 1, 'hangar': 1, 'antelope': 1, 'waterbuck': 1, 'catching': 1, 'signal': 1, 'contract': 1, 'molly': 1, 'malone': 1, 'grafton': 1, 'dublin': 1, 'tranquil': 1, 'driveway': 1, 'type': 1, 'cappuccino': 1, 'invoices': 1, 'brass': 1, 'ravens': 1, 'backflip': 1, 'sprinting': 1, 'ferris': 1, 'repairing': 1, 'insect': 1, 'broom': 1, 'fox': 1, 'shennandoah': 1, 'shredder': 1, 'melodrama': 1, 'hillk': 1, 'alight': 1, 'ends': 1, 'technologist': 1, 'examine': 1, 'smear': 1, 'specimen': 1, 'diagnosis': 1, 'objective': 1, 'lenses': 1, 'climate': 1, 'mid': 1, 'harleys': 1, 'outboard': 1, 'handsmov': 1, 'camouflaged': 1, 'anenome': 1, 'orleans': 1, 'marker': 1, 'stores': 1, 'veggies': 1, 'preikestolen': 1, 'prekestolen': 1, 'scooters': 1, 'soda': 1, 'wathing': 1, 'bridal': 1, 'headscarf': 1, 'listens': 1, 'zipper': 1, 'quarell': 1, 'landline': 1, 'peaks': 1, 'utahk': 1, 'businessmann': 1, 'freep': 1, 'presentations': 1, 'chewing': 1, 'staircases': 1, 'stairways': 1, 'touches': 1, 'quote': 1, 'engraved': 1, 'gaucho': 1, 'claims': 1, 'spectator': 1, 'estancia': 1, 'tamper': 1, 'ties': 1, 'necktie': 1, 'gengrations': 1, 'speak': 1, 'hippos': 1, 'corkscrew': 1, 'terlingua': 1, 'iii': 1, 'stabilized': 1, 'formula': 1, 'blackboard': 1, 'gauge': 1, 'winking': 1, 'outfit': 1, 'reaction': 1, 'alarm': 1, 'expressing': 1, 'am': 1, 'calbuco': 1, 'volcano': 1, 'looms': 1, 'seen': 1, 'christian': 1, 'swimsuit': 1, 'surfboard': 1, 'demonstration': 1, 'trapped': 1, 'daisy': 1, 'algae': 1, 'pocket': 1, 'stuck': 1, 'seal': 1, 'geometric': 1, 'elevated': 1, 'djemaa': 1, 'fna': 1, 'marrakech': 1, 'marrakesh': 1, 'morocco': 1, 'n': 1, 'mushrooms': 1, 'ranch': 1, 'skinny': 1, 'crusteacean': 1, 'copper': 1, 'plains': 1, 'recess': 1, 'dive': 1, 'cheerfully': 1, 'consult': 1, 'scent': 1, 'flocks': 1, 'herbed': 1, 'torn': 1, 'piece': 1, 'loaf': 1, 'crunch': 1, 'meadowwith': 1, 'passport': 1, 'marks': 1, 'lesson': 1, 'punk': 1, 'stuntman': 1, 'clings': 1, 'wares': 1, 'see': 1, 'jerk': 1, 'mediumangled': 1, 'monuments': 1, 'leonabelle': 1, 'turnbull': 1, 'birding': 1, 'meringues': 1, 'mitzpe': 1, 'ramon': 1, 'crater': 1, 'rigging': 1, 'intently': 1, 'piled': 1, 'arena': 1, 'stream': 1, 'actors': 1, 'rehearsing': 1, 'onstage': 1, 'you': 1, 'hear': 1, 'cry': 1, 'breeze': 1, 'motionx': 1, 'ascend': 1, 'stock': 1, 'ticker': 1, 'cabbage': 1, 'soil': 1, 'telling': 1, 'exoticm': 1, 'yorknight': 1, 'munches': 1, 'kirillo': 1, 'belozersky': 1, 'largest': 1, 'russiaon': 1, 'sulphur': 1, 'crested': 1, 'tightof': 1, 'january': 1, 'cube': 1, 'underwaterof': 1, 'boots': 1, 'jib': 1, 'coop': 1, 'beachy': 1, 'piranha': 1, 'colossoma': 1, 'macropomum': 1, 'jasmine': 1, 'crack': 1, 'skyward': 1, 'premises': 1, 'repaired': 1, 'removal': 1, 'pro': 1, 'animas': 1, 'raft': 1, 'durango': 1, 'amused': 1, 'solutions': 1, 'beakers': 1, 'gravel': 1, 'rose': 1, 'action': 1, 'chanukia': 1, 'recreationk': 1, 'pann': 1, 'spacious': 1, 'dentists': 1, 'scary': 1, 'playfully': 1, 'pallets': 1, 'superheroes': 1, 'territory': 1, 'alberca': 1, 'education': 1, 'bending': 1, 'castles': 1, 'pilot': 1, 'maintaining': 1, 'scooter': 1, 'massages': 1, 'photograph': 1, 'themselves': 1, 'overshining': 1, 'banner': 1, 'formations': 1, 'smooths': 1, 'vest': 1, 'pelicans': 1, 'mowing': 1, 'scythe': 1, 'cambrils': 1, 'bodyof': 1, 'filmmakers': 1, 'dslr': 1, 'receives': 1, 'success': 1, 'cameras': 1, 'hurrying': 1, 'noodle': 1, 'bell': 1, 'thirsty': 1, 'fee': 1, 'centre': 1, 'stalk': 1, 'insects': 1, 'speedboat': 1, 'boarder': 1, 'bartenders': 1, 'pint': 1, 'lager': 1, 'motionbarman': 1, 'loud': 1, 'oregon': 1, 'squids': 1, 'biologists': 1, 'sample': 1, 'holdings': 1, 'tab': 1, 'matal': 1, 'toolbox': 1, 'approach': 1, 'scoops': 1, 'features': 1, 'licking': 1, 'terrain': 1, 'timek': 1, 'excite': 1, 'unidentifiable': 1, 'tickles': 1, 'offaly': 1, 'shaving': 1, 'fton': 1, 'sparkle': 1, 'enjoyment': 1, 'craftsman': 1, 'lathe': 1, 'uproad': 1, 'social': 1, 'networking': 1, 'pulloutas': 1, 'trap': 1, 'hamburgers': 1, 'freckles': 1, 'squeeze': 1, 'grapefruit': 1, 'hanuka': 1, 'boom': 1, 'mic': 1, 'schoolgirl': 1, 'analyses': 1, 'candles': 1, 'overview': 1, 'ein': 1, 'gedi': 1, 'halibut': 1, 'agencies': 1, 'germantrench': 1, 'hugs': 1, 'kitcken': 1, 'choreographed': 1, 'count': 1, 'g': 1, 'meerkats': 1, 'sweeping': 1, 'sketch': 1, 'draftsmanship': 1, 'laughs': 1, 'because': 1, 'sungla': 1, 'degree': 1, 'boil': 1, 'deer': 1, 'doe': 1, 'headstones': 1, 'tossed': 1, 'lagoon': 1, 'mounted': 1, 'chaning': 1, 'lizard': 1, 'flash': 1, 'player': 1, 'writes': 1, 'nectar': 1, 'prints': 1, 'politics': 1, 'closes': 1, 'hundred': 1, 'usingd': 1, 'cornfield': 1, 'sellers': 1, 'soft': 1, 'motorcade': 1, 'bathtub': 1, 'fireweed': 1, 'chooses': 1, 'denim': 1, 'neon': 1, 'slope': 1, 'emts': 1, 'butcher': 1, 'pork': 1, 'ballot': 1, 'secretary': 1, 'washed': 1, 'blast': 1, 'automated': 1, 'electronics': 1, 'manufacturing': 1, 'unfinished': 1, 'enormous': 1, 'multimedia': 1, 'boring': 1, 'povzooming': 1, 'downing': 1, 'onboard': 1, 'bananas': 1, 'corgi': 1, 'reed': 1, 'builders': 1, 'headsets': 1, 'progect': 1, 'virtuald': 1, 'simulator': 1, 'interrior': 1, 'beam': 1, 'matching': 1, 'rosella': 1, 'views': 1, 'amid': 1, 'pouncing': 1, 'selfiemade': 1, 'beans': 1, 'synchronized': 1, 'clean': 1, 'competitionjudging': 1, 'repairs': 1, 'give': 1, 'key': 1, 'dresses': 1, 'bounce': 1, 'bungee': 1, 'braces': 1, 'outing': 1, 'write': 1, 'buoy': 1, 'mooring': 1, 'runners': 1, 'potted': 1, 'gril': 1, 'mourning': 1, 'simple': 1, 'crosses': 1, 'deckchair': 1, 'skype': 1, 'forging': 1, 'ahead': 1, 'doolin': 1, 'clare': 1, 'malachite': 1, 'vatican': 1, 'speter': 1, 'induction': 1, 'hob': 1, 'latticed': 1, 'lot': 1, 'mug': 1, 'cracked': 1, 'livingroom': 1, 'fd': 1, 'falcon': 1, 'cockpit': 1, 'pyrenees': 1, 'unshaven': 1, 'filings': 1, 'mist': 1, 'kfps': 1, 'icefields': 1, 'parkway': 1, 'jasper': 1, 'knitted': 1, 'episode': 1, 'fim': 1, 'narrating': 1, 'meetings': 1, 'chekhov': 1, 'directed': 1, 'wreaths': 1, 'breathing': 1, 'email': 1, 'seville': 1, 'guadalquivir': 1, 'motor': 1, 'potomac': 1, 'bow': 1, 'carves': 1, 'pumping': 1, 'tummy': 1, 'marine': 1, 'winsunrise': 1, 'cropped': 1, 'railings': 1, 'clanging': 1, 'toasts': 1, 'sweep': 1, 'childrens': 1, 'helps': 1, 'foxes': 1, 'walkingfeet': 1, 'bombed': 1, 'longingly': 1, 'hammerhead': 1, 'snapped': 1, 'punter': 1, 'dripping': 1, 'sailboarding': 1, 'lotus': 1, 'assembling': 1, 'kof': 1, 'expressions': 1, 'nekresi': 1, 'kakheti': 1, 'georgia': 1, 'nightpanning': 1, 'dollyshowing': 1, 'murramarang': 1, 'kangaroo': 1, 'flipchart': 1, 'prescriptions': 1, 'outcropping': 1, 'groups': 1, 'toulon': 1, 'arrive': 1, 'warth': 1, 'mass': 1, 'melancholy': 1, 'cabin': 1, 'crocodile': 1, 'ox': 1, 'adults': 1, 'grilled': 1, 'seafood': 1, 'golfing': 1, 'heaving': 1, 'feeds': 1, 'glitch': 1, 'led': 1, 'numbers': 1, 'whiteman': 1, 'romania': 1, 'films': 1, 'crime': 1, 'aftermath': 1, 'couscous': 1, 'kasha': 1, 'tunnel': 1, 'solve': 1, 'freelancer': 1, 'gregorian': 1, 'sauna': 1, 'herself': 1, 'dollyslow': 1, 'graze': 1, 'leads': 1, 'tops': 1, 'hvita': 1, 'rushes': 1, 'gullfoss': 1, 'livorno': 1, 'busk': 1, 'broccoli': 1, 'seminary': 1, 'cupola': 1, 'aboveof': 1, 'examination': 1, 'goldfish': 1, 'bully': 1, 'passover': 1, 'cypress': 1, 'swamp': 1, 'surging': 1, 'depression': 1, 'lamb': 1, 'linen': 1, 'days': 1, 'wipes': 1, 'kimball': 1, 'brainstorming': 1, 'corporate': 1, 'communicating': 1, 'corral': 1, 'nineteenth': 1, 'portmagee': 1, 'xray': 1, 'platek': 1, 'dollyhealthy': 1, 'courgette': 1, 'galicia': 1, 'sparkles': 1, 'orbit': 1, 'blows': 1, 'sheets': 1, 'control': 1, 'visitors': 1, 'asking': 1, 'cucumbers': 1, 'mad': 1, 'installs': 1, 'sim': 1, 'errors': 1, 'must': 1, 'king': 1, 'cew': 1, 'bathrobe': 1, 'trash': 1, 'somebody': 1, 'aerialk': 1, 'macrocheira': 1, 'kaempferi': 1, 'beams': 1, 'nimitz': 1, 'polishing': 1, 'overheadof': 1, 'forested': 1, 'steeple': 1, 'chil': 1, 'teaches': 1, 'wildflower': 1, 'phablet': 1, 'actual': 1, 'innovative': 1, 'humanity': 1, 'sanibel': 1, 'florida': 1, 'escaping': 1, 'tak': 1, 'mayan': 1, 'observatory': 1, 'frame': 1, 'travelling': 1, 'bungalow': 1, 'somersault': 1, 'acrobatic': 1, 'skills': 1, 'ascension': 1, 'beats': 1, 'approving': 1, 'five': 1, 'boxer': 1, 'abandoned': 1, 'word': 1, 'pram': 1, 'cranberries': 1, 'skateboards': 1, 'motoring': 1, 'hump': 1, 'says': 1, 'bye': 1, 'wideshot': 1, 'merchandise': 1, 'girraffes': 1, 'express': 1, 'employees': 1, 'liberty': 1, 'portraits': 1, 'seated': 1, 'snacks': 1, 'panorig': 1, 'eaten': 1, 'finch': 1, 'phoning': 1, 'quaint': 1, 'task': 1, 'calculator': 1, 'positive': 1, 'result': 1, 'jfk': 1, 'cu': 1, 'mather': 1, 'ceremonyk': 1, 'retreat': 1, 'billiard': 1, 'triangle': 1, 'coffe': 1, 'pattern': 1, 'pur': 1, 'scented': 1, 'feeder': 1, 'rejoins': 1, 'payload': 1, 'gloved': 1, 'summerk': 1, 'usage': 1, 'slipping': 1, 'pterois': 1, 'radiata': 1, 'melbourne': 1, 'yarra': 1, 'h': 1, 'calculating': 1, 'nutrician': 1, 'judge': 1, 'gavel': 1, 'barge': 1, 'tending': 1, 'shaped': 1, 'mold': 1, 'hauling': 1, 'tidal': 1, 'disposable': 1, 'tiltingand': 1, 'weared': 1, 'cheerleaders': 1, 'pops': 1, 'hurry': 1, 'kale': 1, 'sandcastle': 1, 'poolsde': 1, 'unloadinggun': 1, 'priestly': 1, 'blessing': 1, 'horsehead': 1, 'sightseeing': 1, 'reflector': 1, 'lolly': 1, 'netbook': 1, 'wrestling': 1, 'zoomin': 1, 'coney': 1, 'star': 1, 'cutouts': 1, 'treats': 1, 'molds': 1, 'lookin': 1, 'apply': 1, 'barbed': 1, 'degrees': 1, 'fiddle': 1, 'favorite': 1, 'rhythms': 1, 'receptionist': 1, 'kayakwith': 1, 'trolleys': 1, 'bobbing': 1, 'hustle': 1, 'bustle': 1, 'united': 1, 'states': 1, 'supreme': 1, 'court': 1, 'nude': 1, 'steer': 1, 'conquers': 1, 'heights': 1, 'strret': 1, 'wonderful': 1, 'rate': 1, 'cello': 1, 'awaiting': 1, 'personal': 1, 'lifted': 1, 'spades': 1, 'stronger': 1, 'massagist': 1, 'spirit': 1, 'return': 1, 'taped': 1, 'canteloupes': 1, 'stars': 1, 'tilts': 1, 'lemaire': 1, 'channel': 1, 'tutor': 1, 'solubility': 1, 'tester': 1, 'affection': 1, 'tenderness': 1, 'flats': 1, 'bookcase': 1, 'macrowith': 1, 'rhinos': 1, 'forms': 1, 'benefits': 1, 'sandals': 1, 'ssn': 1, 'efforts': 1, 'bark': 1, 'ajman': 1, 'uae': 1, 'swatting': 1, 'ut': 1, 'aspen': 1, 'whittier': 1, 'smokestacks': 1, 'abstract': 1, 'tuna': 1, 'rails': 1, 'dallas': 1, 'non': 1, 'fizzy': 1, 'more': 1, 'vampire': 1, 'amtrak': 1, 'goblin': 1, 'grinning': 1, 'captains': 1, 'beachgoers': 1, 'holidaymakers': 1, 'ominously': 1, 'fusilli': 1, 'cookingk': 1, 'cocktails': 1, 'sheremetyevo': 1, 'hoboken': 1, 'begin': 1, 'fisrt': 1, 'couples': 1, 'galway': 1, 'menuk': 1, 'dollylifestyle': 1, 'cracker': 1, 'reflectionslow': 1, 'cruising': 1, 'embankment': 1, 'balloonsk': 1, 'tale': 1, 'crazily': 1, 'naval': 1, 'worn': 1, 'grungy': 1, 'hippie': 1, 'inscription': 1, 'scrunching': 1, 'fur': 1, 'flip': 1, 'stepmill': 1, 'surronded': 1, 'overhead': 1, 'evergreen': 1, 'dreamy': 1, 'wonderland': 1, 'sceene': 1, 'reload': 1, 'wiping': 1, 'sweat': 1, 'revealing': 1, 'spearing': 1, 'infant': 1, 'accompanied': 1, 'freshly': 1, 'picked': 1, 'modernfamily': 1, 'silky': 1, 'stewing': 1, 'ladder': 1, 'designing': 1, 'letters': 1, 'conesk': 1, 'create': 1, 'most': 1, 'effective': 1, 'ledges': 1, 'bistro': 1, 'beverages': 1, 'biotech': 1, 'precision': 1, 'heidelberg': 1, 'daybreak': 1, 'cavalrymen': 1, 'crayons': 1, 'feed': 1, 'all': 1, 'advantages': 1, 'crispy': 1, 'arrival': 1, 'language': 1, 'indoor': 1, 'weights': 1, 'buenos': 1, 'aires': 1, 'skater': 1, 'bryan': 1, 'picketts': 1, 'charge': 1, 'fighter': 1, 'flightk': 1, 'tips': 1, 'dollyand': 1, 'unrecognisable': 1, 'sleeves': 1, 'businessmans': 1, 'poolk': 1, 'needs': 1, 'recover': 1, 'contunuing': 1, 'biochemists': 1, 'treating': 1, 'preservative': 1, 'monk': 1, 'master': 1, 'tai': 1, 'downed': 1, 'scaly': 1, 'meets': 1, 'choir': 1, 'islandk': 1, 'clunker': 1, 'seasoning': 1, 'median': 1, 'backwards': 1, 'sittin': 1, 'chrysler': 1, 'z': 1, 'aerialat': 1, 'listed': 1, 'greeting': 1, 'depressed': 1, 'refusing': 1, 'planning': 1, 'skipper': 1, 'cambodian': 1, 'apsara': 1, 'angkor': 1, 'wat': 1, 'siem': 1, 'reap': 1, 'cambod': 1, 'facing': 1, 'sunscreen': 1, 'protect': 1, 'harmful': 1, 'uv': 1, 'june': 1, 'folk': 1, 'musicians': 1, 'dancer': 1, 'colomenskoe': 1, 'grasses': 1, 'unloading': 1, 'flippers': 1, 'clumsy': 1, 'straddles': 1, 'savers': 1, 'itself': 1, 'schools': 1, 'hereford': 1, 'stall': 1, 'tl': 1, 'blender': 1, 'caged': 1, 'bowing': 1, 'cottonwood': 1, 'hamming': 1, 'raced': 1, 'canadian': 1, 'sias': 1, 'cheery': 1, 'monorail': 1, 'ostankino': 1, 'overalls': 1, 'helmets': 1, 'ruined': 1, 'pause': 1, 'coworking': 1, 'hild': 1, 'sails': 1, 'nest': 1, 'cathedral': 1, 'amateur': 1, 'persons': 1, 'ontop': 1, 'members': 1, 'pistol': 1, 'duel': 1, 'caressing': 1, 'habitat': 1, 'boot': 1, 'mitts': 1, 'forth': 1, 'aransas': 1, 'trucker': 1, 'shifting': 1, 'steering': 1, 'dashboard': 1, 'kori': 1, 'bustard': 1, 'few': 1, 'slam': 1, 'dunk': 1, 'server': 1, 'orders': 1, 'page': 1, 'ripple': 1, 'continent': 1, 'pursuit': 1, 'lanterns': 1, 'rough': 1, 'italian': 1, 'checkered': 1, 'stationary': 1, 'buisiness': 1, 'mirrors': 1, 'balancing': 1, 'shakes': 1, 'consoled': 1, 'tricolored': 1, 'tinker': 1, 'purchases': 1, 'stocks': 1, 'blazer': 1, 'shedk': 1, 'mode': 1, 'sewn': 1, 'harriet': 1, 'tubman': 1, 'tackles': 1, 'vab': 1, 'dozers': 1, 'monitoring': 1, 'busses': 1, 'macaw': 1, 'without': 1, 'strip': 1, 'martinique': 1, 'fort': 1, 'clapper': 1, 'filming': 1, 'dousing': 1, 'spawning': 1, 'upstream': 1, 'exploding': 1, 'towels': 1, 'masseur': 1, 'distortion': 1, 'engaged': 1, 'backpackers': 1, 'restourant': 1, 'competitions': 1, 'fastened': 1, 'belt': 1, 'violence': 1, 'arccapturing': 1, 'stroke': 1, 'sons': 1, 'charismatic': 1, 'developers': 1, 'barking': 1, 'dream': 1, 'drills': 1, 'jack': 1, 'russell': 1, 'terrier': 1, 'trough': 1, 'mustache': 1, 'ashore': 1, 'various': 1, 'species': 1, 'pullout': 1, 'coins': 1, 'concerned': 1, 'stopping': 1, 'reason': 1, 'deadline': 1, 'rent': 1, 'but': 1, 'crosswalk': 1, 'koalas': 1, 'sognefjord': 1, 'sognefjorden': 1, 'flam': 1, 'demonstrative': 1, 'straws': 1, 'farewell': 1, 'flowery': 1, 'touring': 1, 'enduro': 1, 'hatcher': 1, 'drainage': 1, 'poor': 1, 'basking': 1, 'lanscape': 1, 'shimmer': 1, 'concentrated': 1, 'banners': 1, 'warmly': 1, 'lands': 1, 'agains': 1, 'recreational': 1, 'ethnician': 1, 'observing': 1, 'so': 1, 'sale': 1, 'goods': 1, 'twinkles': 1, 'rothenburg': 1, 'ob': 1, 'der': 1, 'tauber': 1, 'franconia': 1, 'bavaria': 1, 'blood': 1, 'pressure': 1, 'weapon': 1, 'seattle': 1, 'commons': 1, 'parlor': 1, 'holy': 1, 'sepulchre': 1, 'grocery': 1, 'mutton': 1, 'results': 1, 'actively': 1, 'groggy': 1, 'wing': 1, 'illuminated': 1, 'explains': 1, 'drugs': 1, 'blured': 1, 'greenbrier': 1, 'watery': 1, 'sundance': 1, 'rows': 1, 'photovoltaic': 1, 'converting': 1, 'renewable': 1, 'resources': 1, 'nutrition': 1, 'nabs': 1, 'rangeland': 1, 'questions': 1, 'hut': 1, 'clothesline': 1, 'mombassa': 1, 'crusher': 1, 'cannons': 1, 'warthogs': 1, 'clutching': 1, 'enginek': 1, 'headig': 1, 'panting': 1, 'houseplant': 1, 'keeps': 1, 'trippy': 1, 'waterfront': 1, 'stalks': 1, 'wagon': 1, 'mechanics': 1, 'hoods': 1, 'aim': 1, 'dressing': 1, 'twist': 1, 'skateboarder': 1, 'halfpipe': 1, 'snowboard': 1, 'skiis': 1, 'lurking': 1, 'tress': 1, 'violet': 1, 'lighthouse': 1, 'sparkling': 1, 'snakes': 1, 'scales': 1, 'handful': 1, 'obama': 1, 'officant': 1, 'sausages': 1, 'parrott': 1, 'maternity': 1, 'payphone': 1, 'biotechnology': 1, 'machinery': 1, 'assemble': 1, 'lisbon': 1, 'portugal': 1, 'brunet': 1, 'someones': 1, 'racking': 1, 'taken': 1, 'pebbles': 1, 'trout': 1, 'struggles': 1, 'distances': 1, 'messaging': 1, 'nypd': 1, 'playful': 1, 'bouncing': 1, 'flowerpot': 1, 'beekeeper': 1, 'roomkx': 1, 'rzr': 1, 'atvx': 1, 'bazaar': 1, 'tvindefossen': 1, 'drifts': 1, 'aerialover': 1, 'stray': 1, 'dried': 1, 'ravine': 1, 'bearded': 1, 'blow': 1, 'torch': 1, 'staring': 1, 'entertainment': 1, 'addicts': 1, 'mountainous': 1, 'syringe': 1, 'addict': 1, 'hope': 1, 'better': 1, 'rowing': 1, 'cans': 1, 'games': 1, 'scoot': 1, 'peaces': 1, 'half': 1, 'partners': 1, 'boiler': 1, 'cultivated': 1, 'gardens': 1, 'german': 1, 'settlers': 1, 'monarch': 1, 'bungy': 1, 'softball': 1, 'playk': 1, 'pulsing': 1, 'thee': 1, 'snowbank': 1, 'd': 1, 'dimensional': 1, 'chalten': 1, 'trekking': 1, 'rappeling': 1, 'trains': 1, 'lovemodern': 1, 'carefree': 1, 'gathering': 1, 'militaryprison': 1, 'scraping': 1, 'windshield': 1, 'usvi': 1, 'lessons': 1, 'carskx': 1, 'sensitive': 1, 'glamour': 1, 'cloudless': 1, 'piraeus': 1, 'shipping': 1, 'athensk': 1, 'laces': 1, 'minimalistic': 1, 'barbecue': 1, 'speedway': 1, 'tan': 1, 'sipping': 1, 'sharply': 1, 'overlooks': 1, 'tulips': 1, 'cost': 1, 'note': 1, 'tailpipe': 1, 'emissions': 1, 'follows': 1, 'kness': 1, 'pencils': 1, 'study': 1, 'hacker': 1, 'animated': 1, 'goalpost': 1, 'peel': 1, 'illuminator': 1, 'sleep': 1, 'cured': 1, 'ham': 1, 'salami': 1, 'examines': 1, 'patch': 1, 'barcuttinglemons': 1, 'highways': 1, 'alexandria': 1, 'looki': 1, 'surgical': 1, 'covering': 1, 'spaghetti': 1, 'loaves': 1, 'including': 1, 'pools': 1, 'longues': 1, 'banjos': 1, 'zealand': 1, 'tekapo': 1, 'bodybuilder': 1, 'stabilizer': 1, 'beginning': 1, 'lie': 1, 'camerais': 1, 'workboat': 1, 'swimmers': 1, 'pelican': 1, 'programmer': 1, 'paws': 1, 'radioactive': 1, 'tentacles': 1, 'bee': 1, 'casino': 1, 'gambling': 1, 'moustache': 1, 'goofy': 1, 'misses': 1, 'forestk': 1, 'interest': 1, 'inflated': 1, 'lilo': 1, 'hairdresser': 1, 'straight': 1, 'weary': 1, 'protecting': 1, 'aims': 1, 'adjusting': 1, 'toll': 1, 'cartoons': 1, 'base': 1, 'drum': 1, 'seaweed': 1, 'growing': 1, 'mustang': 1, 'crashes': 1, 'interlocutor': 1, 'pelvic': 1, 'logic': 1, 'upthrough': 1, 'courier': 1, 'parcel': 1, 'feline': 1, 'suppression': 1, 'fighters': 1, 'ornate': 1, 'shirts': 1, 'druck': 1, 'outkmov': 1, 'very': 1, 'impressed': 1, 'unconditional': 1, 'surrender': 1, 'mole': 1, 'windowsk': 1, 'tahoe': 1, 'protector': 1, 'banana': 1, 'letterboxed': 1, 'crate': 1, 'testing': 1, 'gyro': 1, 'stabilizin': 1, 'gimbal': 1, 'director': 1, 'operation': 1, 'victorias': 1, 'secret': 1, 'rnyk': 1, 'ac': 1, 'advice': 1, 'longof': 1, 'handheldshowing': 1, 'unknown': 1})\n",
            "5191\n"
          ],
          "name": "stdout"
        }
      ]
    },
    {
      "metadata": {
        "id": "OBQgczwgD_dD",
        "colab_type": "code",
        "outputId": "3843563d-8dcd-42cf-c4f9-6453b2f9adb1",
        "colab": {
          "base_uri": "https://localhost:8080/",
          "height": 207
        }
      },
      "cell_type": "code",
      "source": [
        "df_cap.head()"
      ],
      "execution_count": 17,
      "outputs": [
        {
          "output_type": "execute_result",
          "data": {
            "text/html": [
              "<div>\n",
              "<style scoped>\n",
              "    .dataframe tbody tr th:only-of-type {\n",
              "        vertical-align: middle;\n",
              "    }\n",
              "\n",
              "    .dataframe tbody tr th {\n",
              "        vertical-align: top;\n",
              "    }\n",
              "\n",
              "    .dataframe thead th {\n",
              "        text-align: right;\n",
              "    }\n",
              "</style>\n",
              "<table border=\"1\" class=\"dataframe\">\n",
              "  <thead>\n",
              "    <tr style=\"text-align: right;\">\n",
              "      <th></th>\n",
              "      <th>video</th>\n",
              "      <th>caption</th>\n",
              "    </tr>\n",
              "  </thead>\n",
              "  <tbody>\n",
              "    <tr>\n",
              "      <th>0</th>\n",
              "      <td>video3.webm</td>\n",
              "      <td>blonde woman is massaged tilt down</td>\n",
              "    </tr>\n",
              "    <tr>\n",
              "      <th>1</th>\n",
              "      <td>video4.webm</td>\n",
              "      <td>roulette table spinning with ball in closeup shot</td>\n",
              "    </tr>\n",
              "    <tr>\n",
              "      <th>2</th>\n",
              "      <td>video6.webm</td>\n",
              "      <td>khr gangsters</td>\n",
              "    </tr>\n",
              "    <tr>\n",
              "      <th>3</th>\n",
              "      <td>video8.webm</td>\n",
              "      <td>medical helicopter hovers at airport</td>\n",
              "    </tr>\n",
              "    <tr>\n",
              "      <th>4</th>\n",
              "      <td>video10.webm</td>\n",
              "      <td>couple relaxing on picnic crane shot</td>\n",
              "    </tr>\n",
              "  </tbody>\n",
              "</table>\n",
              "</div>"
            ],
            "text/plain": [
              "          video                                            caption\n",
              "0   video3.webm                 blonde woman is massaged tilt down\n",
              "1   video4.webm  roulette table spinning with ball in closeup shot\n",
              "2   video6.webm                                      khr gangsters\n",
              "3   video8.webm               medical helicopter hovers at airport\n",
              "4  video10.webm               couple relaxing on picnic crane shot"
            ]
          },
          "metadata": {
            "tags": []
          },
          "execution_count": 17
        }
      ]
    },
    {
      "metadata": {
        "id": "AQ2DYtC7EUbb",
        "colab_type": "code",
        "outputId": "a6540f03-d957-4342-d443-27581ece0993",
        "colab": {
          "base_uri": "https://localhost:8080/",
          "height": 43
        }
      },
      "cell_type": "code",
      "source": [
        "# build the word index\n",
        "len_token = len(counts)\n",
        "tokenizer = Tokenizer(num_words=len_token)\n",
        "print(len_token)"
      ],
      "execution_count": 18,
      "outputs": [
        {
          "output_type": "stream",
          "text": [
            "5191\n"
          ],
          "name": "stdout"
        }
      ]
    },
    {
      "metadata": {
        "id": "IQqaMRy5FQhK",
        "colab_type": "code",
        "colab": {}
      },
      "cell_type": "code",
      "source": [
        "tokenizer.fit_on_texts(list(df_cap.caption.values)) #fit a list of captions to the tokenizer\n",
        "#the tokenizer vectorizes a text corpus, by turning each text into either a sequence of integers "
      ],
      "execution_count": 0,
      "outputs": []
    },
    {
      "metadata": {
        "id": "JSLvvQpfFSt9",
        "colab_type": "code",
        "outputId": "ede76fb3-4cfc-41fc-e6ea-3022d5ad8196",
        "colab": {
          "base_uri": "https://localhost:8080/",
          "height": 43
        }
      },
      "cell_type": "code",
      "source": [
        "print(len(tokenizer.word_index))"
      ],
      "execution_count": 20,
      "outputs": [
        {
          "output_type": "stream",
          "text": [
            "5191\n"
          ],
          "name": "stdout"
        }
      ]
    },
    {
      "metadata": {
        "id": "dz47wURCF6bG",
        "colab_type": "code",
        "colab": {}
      },
      "cell_type": "code",
      "source": [
        "one_hot_res = tokenizer.texts_to_matrix(list(df_cap.caption.values),mode='binary')\n",
        "sequences = tokenizer.texts_to_sequences(list(df_cap.caption.values))"
      ],
      "execution_count": 0,
      "outputs": []
    },
    {
      "metadata": {
        "id": "jez74CjHF83N",
        "colab_type": "code",
        "outputId": "f695de9f-9c83-44d0-b4eb-6a60ede82ae0",
        "colab": {
          "base_uri": "https://localhost:8080/",
          "height": 88
        }
      },
      "cell_type": "code",
      "source": [
        "#Just to visualise some stuff in sequences and counts\n",
        "print(sequences[0]) # prints location of words from caption 0 'blonde woman is massaged tilt down'\n",
        "print(counts['blonde']) # no. of occurences of 'blonde'\n",
        "n=3\n",
        "print('Least Common: ', counts.most_common()[:-n-1:-1])       # n least common elements\n",
        "print('Most Common: ',counts.most_common(n))                     # n most common elements"
      ],
      "execution_count": 22,
      "outputs": [
        {
          "output_type": "stream",
          "text": [
            "[724, 7, 35, 884, 384, 91]\n",
            "10\n",
            "Least Common:  [('unknown', 1), ('handheldshowing', 1), ('longof', 1)]\n",
            "Most Common:  [('in', 2105), ('the', 1835), ('on', 1724)]\n"
          ],
          "name": "stdout"
        }
      ]
    },
    {
      "metadata": {
        "id": "TxuP9PY9G4hL",
        "colab_type": "code",
        "colab": {}
      },
      "cell_type": "code",
      "source": [
        "# calculating max length\n",
        "max_len = 50"
      ],
      "execution_count": 0,
      "outputs": []
    },
    {
      "metadata": {
        "id": "N0Vs7NCvHIj_",
        "colab_type": "code",
        "outputId": "6c19b59f-6e85-44e2-f79f-c9b0e82ac6ed",
        "colab": {
          "base_uri": "https://localhost:8080/",
          "height": 43
        }
      },
      "cell_type": "code",
      "source": [
        "print(sequences[0]) # length of 1st sequence"
      ],
      "execution_count": 24,
      "outputs": [
        {
          "output_type": "stream",
          "text": [
            "[724, 7, 35, 884, 384, 91]\n"
          ],
          "name": "stdout"
        }
      ]
    },
    {
      "metadata": {
        "id": "OG_lQQBqHMyt",
        "colab_type": "code",
        "outputId": "e472c47b-02b7-487b-aa6d-5d1f2e0ad649",
        "colab": {
          "base_uri": "https://localhost:8080/",
          "height": 43
        }
      },
      "cell_type": "code",
      "source": [
        "X_seq = np.zeros((len(sequences),max_len))\n",
        "for i in range(len(sequences)):\n",
        "    n = len(sequences[i])\n",
        "    if n==0:\n",
        "        print(i)\n",
        "    else:\n",
        "        X_seq[i,-n:] = sequences[i]\n",
        "X_seq.shape"
      ],
      "execution_count": 25,
      "outputs": [
        {
          "output_type": "execute_result",
          "data": {
            "text/plain": [
              "(6000, 50)"
            ]
          },
          "metadata": {
            "tags": []
          },
          "execution_count": 25
        }
      ]
    },
    {
      "metadata": {
        "id": "qoik3n9-I7ei",
        "colab_type": "code",
        "outputId": "a7a7b41a-f770-457f-a0e4-2947e667cd0d",
        "colab": {
          "base_uri": "https://localhost:8080/",
          "height": 88
        }
      },
      "cell_type": "code",
      "source": [
        "print(X_seq[5999,:])"
      ],
      "execution_count": 26,
      "outputs": [
        {
          "output_type": "stream",
          "text": [
            "[  0.   0.   0.   0.   0.   0.   0.   0.   0.   0.   0.   0.   0.   0.\n",
            "   0.   0.   0.   0.   0.   0.   0.   0.   0.   0.   0.   0.   0.   0.\n",
            "   0.   0.   0.   0.   0.   0.   0.   0.   0.   0.   0.   0.  44.  71.\n",
            " 243.   7.  26.  34.  39.   1. 872. 222.]\n"
          ],
          "name": "stdout"
        }
      ]
    },
    {
      "metadata": {
        "id": "XBnR6TNmJG3a",
        "colab_type": "code",
        "outputId": "73dc97a4-75c0-457f-cbd4-ddda0d5edb55",
        "colab": {
          "base_uri": "https://localhost:8080/",
          "height": 90
        }
      },
      "cell_type": "code",
      "source": [
        "print(X_seq[0,:])"
      ],
      "execution_count": 27,
      "outputs": [
        {
          "output_type": "stream",
          "text": [
            "[  0.   0.   0.   0.   0.   0.   0.   0.   0.   0.   0.   0.   0.   0.\n",
            "   0.   0.   0.   0.   0.   0.   0.   0.   0.   0.   0.   0.   0.   0.\n",
            "   0.   0.   0.   0.   0.   0.   0.   0.   0.   0.   0.   0.   0.   0.\n",
            "   0.   0. 724.   7.  35. 884. 384.  91.]\n"
          ],
          "name": "stdout"
        }
      ]
    },
    {
      "metadata": {
        "id": "ODu0LC4tJOBu",
        "colab_type": "code",
        "colab": {}
      },
      "cell_type": "code",
      "source": [
        "Y = labels[['short-term_memorability','long-term_memorability']].values # targets\n",
        "X = X_seq # sequences"
      ],
      "execution_count": 0,
      "outputs": []
    },
    {
      "metadata": {
        "id": "nri11amFK46c",
        "colab_type": "code",
        "colab": {}
      },
      "cell_type": "code",
      "source": [
        "X_train, X_test, Y_train, Y_test = train_test_split(X,Y, test_size=0.2, random_state=42) # random state for reproducability"
      ],
      "execution_count": 0,
      "outputs": []
    },
    {
      "metadata": {
        "id": "_fC6eNA4K7uj",
        "colab_type": "code",
        "outputId": "2729e680-102d-4bae-f811-7f34cbe0f330",
        "colab": {
          "base_uri": "https://localhost:8080/",
          "height": 90
        }
      },
      "cell_type": "code",
      "source": [
        "print('X_train', X_train.shape)\n",
        "print('X_test', X_test.shape)\n",
        "print('Y_train', Y_train.shape)\n",
        "print('Y_test', Y_test.shape)"
      ],
      "execution_count": 31,
      "outputs": [
        {
          "output_type": "stream",
          "text": [
            "X_train (4800, 50)\n",
            "X_test (1200, 50)\n",
            "Y_train (4800, 2)\n",
            "Y_test (1200, 2)\n"
          ],
          "name": "stdout"
        }
      ]
    },
    {
      "metadata": {
        "id": "W1jbY3TOO9Z-",
        "colab_type": "code",
        "outputId": "68d4d47a-cab8-4b23-ac39-c036748c98cc",
        "colab": {
          "base_uri": "https://localhost:8080/",
          "height": 35
        }
      },
      "cell_type": "code",
      "source": [
        "one_hot_res.shape"
      ],
      "execution_count": 32,
      "outputs": [
        {
          "output_type": "execute_result",
          "data": {
            "text/plain": [
              "(6000, 5191)"
            ]
          },
          "metadata": {
            "tags": []
          },
          "execution_count": 32
        }
      ]
    },
    {
      "metadata": {
        "id": "rFTGt5x4O_zi",
        "colab_type": "code",
        "outputId": "853f504d-5856-4534-aef2-334f30f7b91b",
        "colab": {
          "base_uri": "https://localhost:8080/",
          "height": 1292
        }
      },
      "cell_type": "code",
      "source": [
        "Y = labels[['short-term_memorability','long-term_memorability']].values\n",
        "X = one_hot_res;\n",
        "X_train, X_test, Y_train, Y_test = train_test_split(X,Y, test_size=0.2, random_state=42)\n",
        "\n",
        "# add dropout\n",
        "# add regularizers\n",
        "model = Sequential()\n",
        "model.add(layers.Dense(10,activation='relu',kernel_regularizer=regularizers.l2(0.001),input_shape=(len_token,)))\n",
        "model.add(layers.Dropout(0.2))\n",
        "model.add(layers.Dense(10,activation='relu',kernel_regularizer=regularizers.l2(0.001)))\n",
        "model.add(layers.Dropout(0.2))\n",
        "model.add(layers.Dense(2,activation='sigmoid'))\n",
        "\n",
        "# compile the model \n",
        "model.compile(optimizer='rmsprop',loss='mse',metrics=['accuracy'])\n",
        "\n",
        "# training the model \n",
        "history = model.fit(X_train,Y_train,epochs=20,validation_data=(X_test,Y_test))\n",
        "\n",
        "# visualizing the model\n",
        "loss = history.history['loss']\n",
        "val_loss = history.history['val_loss']\n",
        "\n",
        "epochs = range(1,len(loss)+1)\n",
        "\n",
        "plt.plot(epochs,loss,'bo',label='Training loss')\n",
        "plt.plot(epochs,val_loss,'b',label='Validation loss')\n",
        "plt.title('Training and validation loss')\n",
        "plt.xlabel('Epochs')\n",
        "plt.ylabel('Loss')\n",
        "plt.legend()\n",
        "plt.show()\n",
        "\n",
        "plt.figure()\n",
        "acc = history.history['acc']\n",
        "val_acc = history.history['val_acc']\n",
        "plt.plot(epochs, acc, 'bo', label='Training acc')\n",
        "plt.plot(epochs, val_acc, 'b', label='Validation acc')\n",
        "plt.title('Training and validation accuracy')\n",
        "plt.xlabel('Epochs')\n",
        "plt.ylabel('Acc')\n",
        "plt.legend()\n",
        "plt.show()"
      ],
      "execution_count": 42,
      "outputs": [
        {
          "output_type": "stream",
          "text": [
            "Train on 4800 samples, validate on 1200 samples\n",
            "Epoch 1/20\n",
            "4800/4800 [==============================] - 1s 187us/step - loss: 0.0635 - acc: 0.3306 - val_loss: 0.0267 - val_acc: 0.2900\n",
            "Epoch 2/20\n",
            "4800/4800 [==============================] - 1s 124us/step - loss: 0.0261 - acc: 0.6119 - val_loss: 0.0172 - val_acc: 0.7100\n",
            "Epoch 3/20\n",
            "4800/4800 [==============================] - 1s 141us/step - loss: 0.0195 - acc: 0.6987 - val_loss: 0.0153 - val_acc: 0.7100\n",
            "Epoch 4/20\n",
            "4800/4800 [==============================] - 1s 143us/step - loss: 0.0168 - acc: 0.6985 - val_loss: 0.0146 - val_acc: 0.7100\n",
            "Epoch 5/20\n",
            "4800/4800 [==============================] - 1s 141us/step - loss: 0.0157 - acc: 0.7017 - val_loss: 0.0144 - val_acc: 0.7100\n",
            "Epoch 6/20\n",
            "4800/4800 [==============================] - 1s 143us/step - loss: 0.0150 - acc: 0.7031 - val_loss: 0.0142 - val_acc: 0.7100\n",
            "Epoch 7/20\n",
            "4800/4800 [==============================] - 1s 141us/step - loss: 0.0149 - acc: 0.7035 - val_loss: 0.0141 - val_acc: 0.7100\n",
            "Epoch 8/20\n",
            "4800/4800 [==============================] - 1s 134us/step - loss: 0.0148 - acc: 0.7035 - val_loss: 0.0141 - val_acc: 0.7100\n",
            "Epoch 9/20\n",
            "4800/4800 [==============================] - 1s 136us/step - loss: 0.0146 - acc: 0.7035 - val_loss: 0.0140 - val_acc: 0.7100\n",
            "Epoch 10/20\n",
            "4800/4800 [==============================] - 1s 158us/step - loss: 0.0144 - acc: 0.7035 - val_loss: 0.0140 - val_acc: 0.7100\n",
            "Epoch 11/20\n",
            "4800/4800 [==============================] - 1s 179us/step - loss: 0.0144 - acc: 0.7035 - val_loss: 0.0140 - val_acc: 0.7100\n",
            "Epoch 12/20\n",
            "4800/4800 [==============================] - 1s 193us/step - loss: 0.0143 - acc: 0.7035 - val_loss: 0.0140 - val_acc: 0.7100\n",
            "Epoch 13/20\n",
            "4800/4800 [==============================] - 1s 181us/step - loss: 0.0142 - acc: 0.7035 - val_loss: 0.0140 - val_acc: 0.7100\n",
            "Epoch 14/20\n",
            "4800/4800 [==============================] - 1s 171us/step - loss: 0.0142 - acc: 0.7035 - val_loss: 0.0140 - val_acc: 0.7100\n",
            "Epoch 15/20\n",
            "4800/4800 [==============================] - 1s 170us/step - loss: 0.0141 - acc: 0.7035 - val_loss: 0.0140 - val_acc: 0.7100\n",
            "Epoch 16/20\n",
            "4800/4800 [==============================] - 1s 158us/step - loss: 0.0141 - acc: 0.7035 - val_loss: 0.0140 - val_acc: 0.7100\n",
            "Epoch 17/20\n",
            "4800/4800 [==============================] - 1s 132us/step - loss: 0.0140 - acc: 0.7035 - val_loss: 0.0140 - val_acc: 0.7100\n",
            "Epoch 18/20\n",
            "4800/4800 [==============================] - 1s 134us/step - loss: 0.0141 - acc: 0.7035 - val_loss: 0.0140 - val_acc: 0.7100\n",
            "Epoch 19/20\n",
            "4800/4800 [==============================] - 1s 140us/step - loss: 0.0140 - acc: 0.7035 - val_loss: 0.0140 - val_acc: 0.7100\n",
            "Epoch 20/20\n",
            "4800/4800 [==============================] - 1s 141us/step - loss: 0.0138 - acc: 0.7035 - val_loss: 0.0140 - val_acc: 0.7100\n"
          ],
          "name": "stdout"
        },
        {
          "output_type": "display_data",
          "data": {
            "image/png": "[encoded data removed]",
            "text/plain": [
              "<Figure size 432x288 with 1 Axes>"
            ]
          },
          "metadata": {
            "tags": []
          }
        },
        {
          "output_type": "display_data",
          "data": {
            "image/png": "[encoded data removed]",
            "text/plain": [
              "<Figure size 432x288 with 1 Axes>"
            ]
          },
          "metadata": {
            "tags": []
          }
        }
      ]
    },
    {
      "metadata": {
        "id": "gVfd48AcPtJX",
        "colab_type": "code",
        "outputId": "98b1254d-c127-46fe-f1f3-e1e89909fde7",
        "colab": {
          "base_uri": "https://localhost:8080/",
          "height": 43
        }
      },
      "cell_type": "code",
      "source": [
        "predictions = model.predict(X_test)\n",
        "print(predictions.shape)"
      ],
      "execution_count": 43,
      "outputs": [
        {
          "output_type": "stream",
          "text": [
            "(1200, 2)\n"
          ],
          "name": "stdout"
        }
      ]
    },
    {
      "metadata": {
        "id": "gf-ZJgFaPyyz",
        "colab_type": "code",
        "outputId": "56c10012-d0d5-4b6b-bd8e-df2fd7af646f",
        "colab": {
          "base_uri": "https://localhost:8080/",
          "height": 58
        }
      },
      "cell_type": "code",
      "source": [
        "Get_score(predictions, Y_test)"
      ],
      "execution_count": 44,
      "outputs": [
        {
          "output_type": "stream",
          "text": [
            "The Spearman's correlation coefficient is: 0.305\n",
            "The Spearman's correlation coefficient is: 0.161\n"
          ],
          "name": "stdout"
        }
      ]
    },
    {
      "metadata": {
        "id": "TA-s4fO019t7",
        "colab_type": "code",
        "colab": {}
      },
      "cell_type": "code",
      "source": [
        "final_results = pd.DataFrame({'video':ground_truth['video'][4800:],\n",
        "                              'Short-term-pred':predictions[:,0],'Long-term-pred':predictions[:,1], \n",
        "                              'Short-term-true':ground_truth['short-term_memorability'][4800:], \n",
        "                              'Long-term-true':ground_truth['long-term_memorability'][4800:]})\n",
        "\n",
        "final_results = final_results.reset_index(drop=True)"
      ],
      "execution_count": 0,
      "outputs": []
    },
    {
      "metadata": {
        "id": "o41u7F9s2E4K",
        "colab_type": "code",
        "colab": {}
      },
      "cell_type": "code",
      "source": [
        "final_results.to_csv('/content/drive/My Drive/NN_results.csv')"
      ],
      "execution_count": 0,
      "outputs": []
    }
  ]
}